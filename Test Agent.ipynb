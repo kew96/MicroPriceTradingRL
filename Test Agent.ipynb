{
 "cells": [
  {
   "cell_type": "code",
   "execution_count": 28,
   "id": "f62c0ece",
   "metadata": {
    "pycharm": {
     "is_executing": false
    }
   },
   "outputs": [],
   "source": [
    "import gym\n",
    "from gym import spaces\n",
    "from rljax.algorithm import DQN\n",
    "from rljax.trainer import Trainer\n",
    "import numpy as np\n",
    "import pandas as pd\n",
    "from matplotlib import pyplot as plt\n",
    "from itertools import product\n",
    "from tqdm.auto import tqdm\n",
    "\n",
    "from environment import Env"
   ]
  },
  {
   "cell_type": "code",
   "execution_count": 2,
   "id": "7039fafb",
   "metadata": {
    "pycharm": {
     "is_executing": false
    }
   },
   "outputs": [],
   "source": [
    "data = pd.read_csv(\"SH_SDS_data_4.csv\", index_col=0)\n",
    "data.current_state = [('000'+str(cs))[-3:] for cs in data.current_state]\n",
    "prob = pd.read_csv(\"SH_SDS_transition_matrix.csv\", index_col=0)\n",
    "prob.index = [('000'+str(idx))[-3:] for idx in prob.index]"
   ]
  },
  {
   "cell_type": "code",
   "execution_count": 3,
   "id": "19af347c",
   "metadata": {
    "pycharm": {
     "is_executing": false
    }
   },
   "outputs": [],
   "source": [
    "def base_reward(action, last_state, current_state):\n",
    "    return 100 if action > 100 else action"
   ]
  },
  {
   "cell_type": "code",
   "execution_count": null,
   "id": "07389c4c",
   "metadata": {
    "pycharm": {
     "is_executing": false
    }
   },
   "outputs": [],
   "source": [
    "NUM_AGENT_STEPS = 5000\n",
    "SEED = 0\n",
    "\n",
    "env = Env(data, prob, base_reward, [1000, -500], 1000)\n",
    "env_test = Env(data, prob, base_reward, [1000, -500], 1000)\n",
    "\n",
    "algo = DQN(\n",
    "    num_agent_steps=NUM_AGENT_STEPS,\n",
    "    state_space=env.state_space,\n",
    "    action_space=env.action_space,\n",
    "    seed=SEED,\n",
    "    batch_size=256,\n",
    "    start_steps=1000,\n",
    "    update_interval=1,\n",
    "    update_interval_target=400,\n",
    "    eps_decay_steps=0,\n",
    "    loss_type=\"l2\",\n",
    "    lr=1e-3,\n",
    ")\n",
    "\n",
    "trainer = Trainer(\n",
    "    env=env,\n",
    "    env_test=env_test,\n",
    "    algo=algo,\n",
    "    log_dir=\"\",\n",
    "    num_agent_steps=NUM_AGENT_STEPS,\n",
    "    eval_interval=1000,\n",
    "    seed=SEED,\n",
    ")\n",
    "trainer.train()"
   ]
  },
  {
   "cell_type": "code",
   "execution_count": null,
   "id": "dd166b26",
   "metadata": {},
   "outputs": [],
   "source": [
    "env.plot()"
   ]
  },
  {
   "cell_type": "code",
   "execution_count": null,
   "id": "73996898",
   "metadata": {},
   "outputs": [],
   "source": [
    "env.plot('share_history')"
   ]
  },
  {
   "cell_type": "code",
   "execution_count": null,
   "id": "1358858b",
   "metadata": {
    "pycharm": {
     "name": "#%%\n"
    }
   },
   "outputs": [],
   "source": [
    "env.portfolio_history"
   ]
  },
  {
   "cell_type": "code",
   "execution_count": null,
   "id": "3916d177",
   "metadata": {
    "pycharm": {
     "name": "#%%\n"
    }
   },
   "outputs": [],
   "source": [
    "env.share_history"
   ]
  },
  {
   "cell_type": "code",
   "execution_count": 4,
   "id": "54992a3c",
   "metadata": {},
   "outputs": [],
   "source": [
    "def sniper(state_1, state_2, env, start_state):\n",
    "    state = start_state\n",
    "    done = False\n",
    "    all_rewards = list()\n",
    "    while not done:\n",
    "        if state[0] == state_1:\n",
    "            state, reward, done, _ = env.step(0)\n",
    "        elif state[0] == state_2:\n",
    "            state, reward, done, _ = env.step(1)\n",
    "        else:\n",
    "            state, reward, done, _ = env.step(2)\n",
    "        all_rewards.append(reward)\n",
    "    return all_rewards"
   ]
  },
  {
   "cell_type": "code",
   "execution_count": 6,
   "id": "2a5a8be3",
   "metadata": {},
   "outputs": [],
   "source": [
    "env = Env(data, prob, base_reward, [1000, -500], 1000)"
   ]
  },
  {
   "cell_type": "code",
   "execution_count": 34,
   "id": "91a3dd2b",
   "metadata": {},
   "outputs": [],
   "source": [
    "start = env.reset()\n",
    "mappings = env.mapping\n",
    "strategy_rewards = dict()"
   ]
  },
  {
   "cell_type": "code",
   "execution_count": 35,
   "id": "f34e64a7",
   "metadata": {},
   "outputs": [
    {
     "data": {
      "application/vnd.jupyter.widget-view+json": {
       "model_id": "c319b7c28b0e472fafa52b41094241e4",
       "version_major": 2,
       "version_minor": 0
      },
      "text/plain": [
       "HBox(children=(FloatProgress(value=0.0, max=1089.0), HTML(value='')))"
      ]
     },
     "metadata": {},
     "output_type": "display_data"
    },
    {
     "name": "stdout",
     "output_type": "stream",
     "text": [
      "\n"
     ]
    }
   ],
   "source": [
    "pairs = list(product(mappings.keys(), mappings.keys()))\n",
    "bad_pairs = list()\n",
    "for s1, s2 in tqdm(pairs):\n",
    "    start = env.reset()\n",
    "    new_mappings = env.mapping\n",
    "    try:\n",
    "        strategy_rewards[(s1, s2)] = sniper(new_mappings[s1], new_mappings[s2], env, start)[-1]\n",
    "    except KeyError:\n",
    "        bad_pairs.append((s1, s2))"
   ]
  },
  {
   "cell_type": "code",
   "execution_count": 37,
   "id": "4c560e01",
   "metadata": {},
   "outputs": [
    {
     "data": {
      "text/plain": [
       "112"
      ]
     },
     "execution_count": 37,
     "metadata": {},
     "output_type": "execute_result"
    }
   ],
   "source": [
    "len(bad_pairs)"
   ]
  },
  {
   "cell_type": "code",
   "execution_count": 38,
   "id": "08daba77",
   "metadata": {},
   "outputs": [
    {
     "data": {
      "text/plain": [
       "977"
      ]
     },
     "execution_count": 38,
     "metadata": {},
     "output_type": "execute_result"
    }
   ],
   "source": [
    "len(strategy_rewards)"
   ]
  }
 ],
 "metadata": {
  "kernelspec": {
   "display_name": "Python 3 (ipykernel)",
   "language": "python",
   "name": "python3"
  },
  "language_info": {
   "codemirror_mode": {
    "name": "ipython",
    "version": 3
   },
   "file_extension": ".py",
   "mimetype": "text/x-python",
   "name": "python",
   "nbconvert_exporter": "python",
   "pygments_lexer": "ipython3",
   "version": "3.8.11"
  },
  "pycharm": {
   "stem_cell": {
    "cell_type": "raw",
    "metadata": {
     "collapsed": false
    },
    "source": []
   }
  }
 },
 "nbformat": 4,
 "nbformat_minor": 5
}
