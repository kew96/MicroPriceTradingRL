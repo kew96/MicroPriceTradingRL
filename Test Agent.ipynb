{
 "cells": [
  {
   "cell_type": "code",
   "execution_count": 1,
   "id": "f62c0ece",
   "metadata": {
    "pycharm": {
     "is_executing": false
    }
   },
   "outputs": [],
   "source": [
    "import gym\n",
    "from gym import spaces\n",
    "from rljax.algorithm import DQN\n",
    "from rljax.trainer import Trainer\n",
    "import numpy as np\n",
    "import pandas as pd\n",
    "\n",
    "from environment import Env"
   ]
  },
  {
   "cell_type": "code",
   "execution_count": 2,
   "id": "7039fafb",
   "metadata": {
    "pycharm": {
     "is_executing": false
    }
   },
   "outputs": [],
   "source": [
    "data = pd.read_csv(\"SH_SDS_data_4.csv\", index_col=0)\n",
    "data.current_state = [('000'+str(cs))[-3:] for cs in data.current_state]\n",
    "prob = pd.read_csv(\"SH_SDS_transition_matrix.csv\", index_col=0)\n",
    "prob.index = [('000'+str(idx))[-3:] for idx in prob.index]"
   ]
  },
  {
   "cell_type": "code",
   "execution_count": 3,
   "id": "19af347c",
   "metadata": {
    "pycharm": {
     "is_executing": false
    }
   },
   "outputs": [],
   "source": [
    "def base_reward(action, last_state, current_state):\n",
    "    return 100 if action > 100 else action"
   ]
  },
  {
   "cell_type": "code",
   "execution_count": 4,
   "id": "16df35ed",
   "metadata": {
    "pycharm": {
     "is_executing": false
    }
   },
   "outputs": [],
   "source": [
    "import jax.numpy as jnp"
   ]
  },
  {
   "cell_type": "code",
   "execution_count": 5,
   "id": "07389c4c",
   "metadata": {
    "pycharm": {
     "is_executing": false
    }
   },
   "outputs": [
    {
     "name": "stderr",
     "text": [
      "WARNING:absl:No GPU/TPU found, falling back to CPU. (Set TF_CPP_MIN_LOG_LEVEL=0 and rerun for more info.)\n"
     ],
     "output_type": "stream"
    },
    {
     "name": "stdout",
     "text": [
      "Num steps: 1000     Return: -4990417000.0   Time: 0:00:21\n",
      "Num steps: 2000     Return: -7485011150.0   Time: 0:00:43\n",
      "Num steps: 3000     Return: -2491253650.0   Time: 0:01:05\n",
      "Num steps: 4000     Return: 2503033750.0   Time: 0:01:27\n",
      "Num steps: 5000     Return: 7493420950.0   Time: 0:01:48\n"
     ],
     "output_type": "stream"
    }
   ],
   "source": [
    "NUM_AGENT_STEPS = 5000\n",
    "SEED = 0\n",
    "\n",
    "env = Env(data, prob, base_reward, 1000)\n",
    "env_test = Env(data, prob, base_reward, 1000)\n",
    "\n",
    "algo = DQN(\n",
    "    num_agent_steps=NUM_AGENT_STEPS,\n",
    "    state_space=env.state_space,\n",
    "    action_space=env.action_space,\n",
    "    seed=SEED,\n",
    "    batch_size=256,\n",
    "    start_steps=1000,\n",
    "    update_interval=1,\n",
    "    update_interval_target=400,\n",
    "    eps_decay_steps=0,\n",
    "    loss_type=\"l2\",\n",
    "    lr=1e-3,\n",
    ")\n",
    "\n",
    "trainer = Trainer(\n",
    "    env=env,\n",
    "    env_test=env_test,\n",
    "    algo=algo,\n",
    "    log_dir=\"\",\n",
    "    num_agent_steps=NUM_AGENT_STEPS,\n",
    "    eval_interval=1000,\n",
    "    seed=SEED,\n",
    ")\n",
    "trainer.train()"
   ]
  },
  {
   "cell_type": "code",
   "execution_count": 6,
   "id": "20b592d8",
   "metadata": {
    "pycharm": {
     "is_executing": false
    }
   },
   "outputs": [
    {
     "data": {
      "text/plain": "100100"
     },
     "metadata": {},
     "output_type": "execute_result",
     "execution_count": 6
    }
   ],
   "source": [
    "env.states.shape[0] * 100"
   ]
  }
 ],
 "metadata": {
  "kernelspec": {
   "display_name": "Python 3 (ipykernel)",
   "language": "python",
   "name": "python3"
  },
  "language_info": {
   "codemirror_mode": {
    "name": "ipython",
    "version": 3
   },
   "file_extension": ".py",
   "mimetype": "text/x-python",
   "name": "python",
   "nbconvert_exporter": "python",
   "pygments_lexer": "ipython3",
   "version": "3.8.11"
  },
  "pycharm": {
   "stem_cell": {
    "cell_type": "raw",
    "source": [],
    "metadata": {
     "collapsed": false
    }
   }
  }
 },
 "nbformat": 4,
 "nbformat_minor": 5
}