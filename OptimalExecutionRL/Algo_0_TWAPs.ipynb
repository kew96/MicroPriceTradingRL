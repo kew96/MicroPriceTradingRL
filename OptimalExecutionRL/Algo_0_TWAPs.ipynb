{
 "cells": [
  {
   "cell_type": "code",
   "execution_count": null,
   "id": "0c2e092f",
   "metadata": {
    "pycharm": {
     "is_executing": false
    }
   },
   "outputs": [],
   "source": [
    "import numpy as np\n",
    "import pandas as pd\n",
    "from tqdm.auto import tqdm, trange\n",
    "from matplotlib import pyplot as plt\n",
    "\n",
    "from micro_price_trading import Preprocess, TwoAssetSimulation\n",
    "from micro_price_trading.config import TWENTY_SECOND_DAY, DATA_PATH"
   ]
  },
  {
   "cell_type": "code",
   "execution_count": null,
   "id": "8451ebb7",
   "metadata": {},
   "outputs": [],
   "source": [
    "raw = Preprocess('Test_TBT_TBF_data.csv')\n",
    "data = raw.process()"
   ]
  },
  {
   "cell_type": "code",
   "execution_count": null,
   "id": "6fccfb85",
   "metadata": {},
   "outputs": [],
   "source": [
    "## Sample input data\n",
    "\n",
    "n = 10\n",
    "input_data = np.zeros((n, 1171, 3))\n",
    "sim = TwoAssetSimulation(data, steps=TWENTY_SECOND_DAY, seed=0)\n",
    "\n",
    "for i in trange(10):\n",
    "    input_data[i,:,:] = sim.states\n",
    "    sim._reset_simulation()\n"
   ]
  },
  {
   "cell_type": "code",
   "execution_count": null,
   "id": "b9fc55d5",
   "metadata": {},
   "outputs": [],
   "source": [
    "q_values = pd.read_csv(DATA_PATH.joinpath('q_values_9_27.csv'), index_col=0)"
   ]
  },
  {
   "cell_type": "code",
   "execution_count": null,
   "id": "01cc2f1f",
   "metadata": {},
   "outputs": [],
   "source": [
    "def base_twap(t, asset):\n",
    "    \n",
    "    indices_to_buy_at = [idx for idx in range(0, TWENTY_SECOND_DAY, t)]\n",
    "    asset_to_buy = asset\n",
    "    \n",
    "    avg_prices = input_data[:,indices_to_buy_at, asset_to_buy].mean(axis = 1)\n",
    "    \n",
    "    return avg_prices"
   ]
  },
  {
   "cell_type": "code",
   "execution_count": null,
   "id": "6bb2792f",
   "metadata": {},
   "outputs": [],
   "source": [
    "base_twap(10, 1), base_twap(10, 2)"
   ]
  },
  {
   "cell_type": "code",
   "execution_count": null,
   "id": "0171dbf9",
   "metadata": {},
   "outputs": [],
   "source": [
    "def random_twap(t, weights=(0.5, 0.5)):\n",
    "    \n",
    "    random_numbers = np.random.rand(len([idx for idx in range(0, TWENTY_SECOND_DAY, 10)]))\n",
    "    indices_to_buy_asset_1 = np.where(random_numbers >= weights[0])[0]\n",
    "    indices_to_buy_asset_2 = np.where(random_numbers <= weights[0])[0]\n",
    "    \n",
    "    avg_prices_1 = input_data[:,indices_to_buy_asset_1, 1].mean(axis = 1)\n",
    "    avg_prices_2 = input_data[:,indices_to_buy_asset_2, 1].mean(axis = 1)\n",
    "    \n",
    "    return avg_prices_1, avg_prices_2"
   ]
  },
  {
   "cell_type": "code",
   "execution_count": null,
   "id": "e9ca6779",
   "metadata": {},
   "outputs": [],
   "source": [
    "random_twap(10, weights=(0.5, 0.5))"
   ]
  },
  {
   "cell_type": "code",
   "execution_count": null,
   "id": "5a50a7bd",
   "metadata": {},
   "outputs": [],
   "source": [
    "def optimal_twap(t, iters, q_vals):\n",
    "    sim = TwoAssetSimulation(data, steps=TWENTY_SECOND_DAY, seed=0)\n",
    "    shares1 = list()\n",
    "    shares2 = list()\n",
    "    buy1 = list()\n",
    "    buy2 = list()\n",
    "    prices1 = list()\n",
    "    prices2 = list()\n",
    "    for _ in trange(iters):\n",
    "        shares1.append([0])\n",
    "        shares2.append([0])\n",
    "        prices1.append([])\n",
    "        prices2.append([])\n",
    "        buy1.append([])\n",
    "        buy2.append([])\n",
    "        for idx in range(0, TWENTY_SECOND_DAY, t):\n",
    "            res_imb_state = sim.states.states[idx]\n",
    "            qs = q_vals.loc[res_imb_state]\n",
    "            if qs[0] > qs[1]:\n",
    "                asset = 1\n",
    "            else:\n",
    "                asset = 2\n",
    "            shares = 1 if asset == 2 else 2\n",
    "            if asset == 1:\n",
    "                shares1[-1].append(shares1[-1][-1]+shares)\n",
    "                shares2[-1].append(shares2[-1][-1])\n",
    "                prices1[-1].append(sim.states[f'mid_{asset}'][idx])\n",
    "                buy1[-1].append(shares)\n",
    "            else:\n",
    "                shares2[-1].append(shares2[-1][-1]+shares)\n",
    "                shares1[-1].append(shares1[-1][-1])\n",
    "                prices2[-1].append(sim.states[f'mid_{asset}'][idx])\n",
    "                buy2[-1].append(shares)\n",
    "        sim._reset_simulation()\n",
    "    return prices1, prices2, buy1, buy2, np.array(shares1), np.array(shares2)"
   ]
  },
  {
   "cell_type": "code",
   "execution_count": null,
   "id": "cdd35779",
   "metadata": {},
   "outputs": [],
   "source": [
    "prices1, shares1 = base_twap(3, 1, 1000)"
   ]
  },
  {
   "cell_type": "code",
   "execution_count": null,
   "id": "744dfc54",
   "metadata": {},
   "outputs": [],
   "source": [
    "prices2, shares2 = base_twap(3, 2, 1000)"
   ]
  },
  {
   "cell_type": "code",
   "execution_count": null,
   "id": "d5dae0ab",
   "metadata": {},
   "outputs": [],
   "source": [
    "p1, p2, b1, b2, s1, s2 = random_twap(3, 1000, (0.5, 0.5))"
   ]
  },
  {
   "cell_type": "code",
   "execution_count": null,
   "id": "980c3f59",
   "metadata": {},
   "outputs": [],
   "source": [
    "p1_means = [np.mean(l) for l in p1]\n",
    "p2_means = [np.mean(l) for l in p2]"
   ]
  },
  {
   "cell_type": "code",
   "execution_count": null,
   "id": "e497c348",
   "metadata": {},
   "outputs": [],
   "source": [
    "avg1 = (p1_means-prices1.mean(axis=1))*s1[:, -1]"
   ]
  },
  {
   "cell_type": "code",
   "execution_count": null,
   "id": "c84b1083",
   "metadata": {},
   "outputs": [],
   "source": [
    "avg2 = (p2_means-prices2.mean(axis=1))*s2[:, -1]"
   ]
  },
  {
   "cell_type": "code",
   "execution_count": null,
   "id": "125c4aa0",
   "metadata": {},
   "outputs": [],
   "source": [
    "diff = avg1 + avg2"
   ]
  },
  {
   "cell_type": "code",
   "execution_count": null,
   "id": "a2b38b88",
   "metadata": {},
   "outputs": [],
   "source": [
    "(diff.mean() - 1.96 * diff.std()/np.sqrt(len(diff)), diff.mean() + 1.96 * diff.std()/np.sqrt(len(diff)))"
   ]
  },
  {
   "cell_type": "code",
   "execution_count": null,
   "id": "1a8e6cf2",
   "metadata": {},
   "outputs": [],
   "source": [
    "op1, op2, ob1, ob2, os1, os2 = optimal_twap(3, 1000, q_values)"
   ]
  },
  {
   "cell_type": "code",
   "execution_count": null,
   "id": "db8f2d64",
   "metadata": {},
   "outputs": [],
   "source": [
    "op1_means = [np.mean(l) for l in op1]\n",
    "op2_means = [np.mean(l) for l in op2]"
   ]
  },
  {
   "cell_type": "code",
   "execution_count": null,
   "id": "b47fad9f",
   "metadata": {},
   "outputs": [],
   "source": [
    "oavg1 = (prices1.mean(axis=1)-op1_means)*os1[:, -1]"
   ]
  },
  {
   "cell_type": "code",
   "execution_count": null,
   "id": "eabe28e6",
   "metadata": {},
   "outputs": [],
   "source": [
    "oavg2 = (prices2.mean(axis=1)-op2_means)*os2[:, -1]"
   ]
  },
  {
   "cell_type": "code",
   "execution_count": null,
   "id": "2cad6dc5",
   "metadata": {},
   "outputs": [],
   "source": [
    "odiff = oavg1 + oavg2"
   ]
  },
  {
   "cell_type": "code",
   "execution_count": null,
   "id": "333378fc",
   "metadata": {},
   "outputs": [],
   "source": [
    "(odiff.mean() - 1.44 * odiff.std()/np.sqrt(len(odiff)), odiff.mean() + 1.44 * odiff.std()/np.sqrt(len(odiff)))"
   ]
  },
  {
   "cell_type": "code",
   "execution_count": null,
   "id": "ad72e287",
   "metadata": {},
   "outputs": [],
   "source": [
    "fig, ax = plt.subplots(figsize=(15, 10))\n",
    "shares1.plot('asset2', 'asset1', kind='line', ax=ax, label='TWAP for TBF')\n",
    "shares2.plot('asset2', 'asset1', kind='line', ax=ax, label='TWAP for TBT')\n",
    "ax.plot([shares2.asset2.iloc[-1], 0], [0, shares1.asset1.iloc[-1]], 'lime', linewidth=2)\n",
    "ax.plot([shares2.asset2.iloc[-1], 0], [0, shares1.asset1.iloc[-1]], 'k--', linewidth=2, dashes=(3, 3))\n",
    "ax.set_xlim(-5, shares1.asset1.max()+10)\n",
    "for idx in range(s1.shape[0]):\n",
    "    ax.plot(s2[idx], s1[idx], 'm', alpha=0.7)\n",
    "\n",
    "ax.plot(s2[idx], s1[idx], 'm', alpha=0.7, label='Random Walk')\n",
    "for idx in range(os1.shape[0]):\n",
    "    ax.plot(os2[idx], os1[idx], 'c', alpha=0.7)\n",
    "ax.plot(os2[idx], os1[idx], 'c', alpha=0.7, label='Q-Value Strategy')\n",
    "ax.legend()\n",
    "ax.set_xlabel('Shares of TBT')\n",
    "ax.set_ylabel('Shares of TBF')\n",
    "plt.suptitle('Shares of TBF vs. TBT with Different Execution Algorithms', fontsize=20)\n",
    "plt.title(f'85% CI over TWAP for individual assets: {odiff.mean(): .3f}'+u' \\u00B1 '+f'{1.44 * odiff.std()/np.sqrt(len(odiff)):.3f} ({odiff.mean() - 1.44 * odiff.std()/np.sqrt(len(odiff)): .3f}, {odiff.mean() + 1.44 * odiff.std()/np.sqrt(len(odiff)): .3f})')"
   ]
  },
  {
   "cell_type": "markdown",
   "id": "13d3056f",
   "metadata": {},
   "source": [
    "## TWAP - 5 minutes"
   ]
  },
  {
   "cell_type": "code",
   "execution_count": null,
   "id": "69305caf",
   "metadata": {},
   "outputs": [],
   "source": [
    "prices15, shares15 = base_twap(15, 1, 500)"
   ]
  },
  {
   "cell_type": "code",
   "execution_count": null,
   "id": "9d8f5e2d",
   "metadata": {},
   "outputs": [],
   "source": [
    "prices25, shares25 = base_twap(15, 2, 500)"
   ]
  },
  {
   "cell_type": "code",
   "execution_count": null,
   "id": "a26b53de",
   "metadata": {},
   "outputs": [],
   "source": [
    "p15, p25, b15, b25, s15, s25 = random_twap(15, 500, (0.5, 0.5))"
   ]
  },
  {
   "cell_type": "code",
   "execution_count": null,
   "id": "89aa20a7",
   "metadata": {},
   "outputs": [],
   "source": [
    "p15_means = [np.mean(l) for l in p15]\n",
    "p25_means = [np.mean(l) for l in p25]"
   ]
  },
  {
   "cell_type": "code",
   "execution_count": null,
   "id": "5b134fa3",
   "metadata": {},
   "outputs": [],
   "source": [
    "avg15 = (prices15.mean(axis=1)-p15_means)*s15[:, -1]"
   ]
  },
  {
   "cell_type": "code",
   "execution_count": null,
   "id": "7ddd84c1",
   "metadata": {},
   "outputs": [],
   "source": [
    "avg25 = (prices25.mean(axis=1)-p25_means)*s25[:, -1]"
   ]
  },
  {
   "cell_type": "code",
   "execution_count": null,
   "id": "a2e4be35",
   "metadata": {},
   "outputs": [],
   "source": [
    "diff5 = avg15 + avg25"
   ]
  },
  {
   "cell_type": "code",
   "execution_count": null,
   "id": "3bebf6f0",
   "metadata": {},
   "outputs": [],
   "source": [
    "(diff5.mean() - 1.96 * diff5.std()/np.sqrt(len(diff5)), diff5.mean() + 1.96 * diff5.std()/np.sqrt(len(diff5)))"
   ]
  },
  {
   "cell_type": "code",
   "execution_count": null,
   "id": "f369d789",
   "metadata": {},
   "outputs": [],
   "source": [
    "op15, op25, ob15, ob25, os15, os25 = optimal_twap(15, 500, q_values)"
   ]
  },
  {
   "cell_type": "code",
   "execution_count": null,
   "id": "1a4e8998",
   "metadata": {},
   "outputs": [],
   "source": [
    "op15_means = [np.mean(l) for l in op15]\n",
    "op25_means = [np.mean(l) for l in op25]"
   ]
  },
  {
   "cell_type": "code",
   "execution_count": null,
   "id": "02567b07",
   "metadata": {},
   "outputs": [],
   "source": [
    "oavg15 = (prices15.mean(axis=1)-op15_means)*os15[:, -1]"
   ]
  },
  {
   "cell_type": "code",
   "execution_count": null,
   "id": "cee6d712",
   "metadata": {},
   "outputs": [],
   "source": [
    "oavg25 = (prices25.mean(axis=1)-op25_means)*os25[:, -1]"
   ]
  },
  {
   "cell_type": "code",
   "execution_count": null,
   "id": "4e165e69",
   "metadata": {},
   "outputs": [],
   "source": [
    "odiff5 = oavg15 + oavg25"
   ]
  },
  {
   "cell_type": "code",
   "execution_count": null,
   "id": "f99741c5",
   "metadata": {},
   "outputs": [],
   "source": [
    "(odiff5.mean() - 1.96 * odiff5.std()/np.sqrt(len(odiff5)), odiff5.mean() + 1.96 * odiff5.std()/np.sqrt(len(odiff5)))"
   ]
  },
  {
   "cell_type": "code",
   "execution_count": null,
   "id": "6952bfb0",
   "metadata": {},
   "outputs": [],
   "source": [
    "fig, ax = plt.subplots(figsize=(15, 10))\n",
    "shares15.plot('asset2', 'asset1', kind='line', ax=ax, label='asset1')\n",
    "shares25.plot('asset2', 'asset1', kind='line', ax=ax, label='asset2')\n",
    "ax.plot([shares25.asset2.iloc[-1], 0], [0, shares15.asset1.iloc[-1]], 'lime', linewidth=2)\n",
    "ax.plot([shares25.asset2.iloc[-1], 0], [0, shares15.asset1.iloc[-1]], 'k--', linewidth=2, dashes=(3, 3))\n",
    "ax.set_xlim(-5, shares15.asset1.max()+10)\n",
    "for idx in range(s15.shape[0]):\n",
    "    ax.plot(s25[idx], s15[idx], 'm', alpha=0.7)\n",
    "for idx in range(os15.shape[0]):\n",
    "    ax.plot(os25[idx], os15[idx], 'c', alpha=0.7)"
   ]
  }
 ],
 "metadata": {
  "kernelspec": {
   "display_name": "Python 3 (ipykernel)",
   "language": "python",
   "name": "python3"
  },
  "language_info": {
   "codemirror_mode": {
    "name": "ipython",
    "version": 3
   },
   "file_extension": ".py",
   "mimetype": "text/x-python",
   "name": "python",
   "nbconvert_exporter": "python",
   "pygments_lexer": "ipython3",
   "version": "3.8.11"
  }
 },
 "nbformat": 4,
 "nbformat_minor": 5
}
