{
 "cells": [
  {
   "cell_type": "code",
   "execution_count": 1,
   "id": "0c2e092f",
   "metadata": {
    "pycharm": {
     "is_executing": false
    }
   },
   "outputs": [],
   "source": [
    "import numpy as np\n",
    "import pandas as pd\n",
    "from tqdm.auto import tqdm, trange\n",
    "from matplotlib import pyplot as plt\n",
    "\n",
    "from micro_price_trading import Preprocess, TwoAssetSimulation\n",
    "from micro_price_trading.config import TWENTY_SECOND_DAY, DATA_PATH"
   ]
  },
  {
   "cell_type": "code",
   "execution_count": 2,
   "id": "0c92148b",
   "metadata": {},
   "outputs": [],
   "source": [
    "with open('simulations.npy', 'rb') as file:\n",
    "    input_data = np.load(file)"
   ]
  },
  {
   "cell_type": "code",
   "execution_count": 19,
   "id": "43266312",
   "metadata": {},
   "outputs": [],
   "source": [
    "raw = Preprocess('Test_TBT_TBF_data.csv', res_bin = 7)\n",
    "data = raw.process()"
   ]
  },
  {
   "cell_type": "code",
   "execution_count": 28,
   "id": "1f25b126",
   "metadata": {},
   "outputs": [],
   "source": [
    "def CI(array, confidence = .95):\n",
    "    half_width = 1.96*array.std()/np.sqrt(len(array))\n",
    "    mu = array.mean()\n",
    "    return mu - half_width, mu, mu + half_width"
   ]
  },
  {
   "cell_type": "code",
   "execution_count": 29,
   "id": "01cc2f1f",
   "metadata": {},
   "outputs": [],
   "source": [
    "def base_twap(t, asset):\n",
    "    \n",
    "    indices_to_buy_at = np.array([idx for idx in range(t, TWENTY_SECOND_DAY+1, t)])\n",
    "    asset_to_buy = asset\n",
    "    \n",
    "    avg_prices = input_data[:,indices_to_buy_at, asset_to_buy].mean(axis = 1)\n",
    "    \n",
    "    return avg_prices"
   ]
  },
  {
   "cell_type": "code",
   "execution_count": 30,
   "id": "6bb2792f",
   "metadata": {},
   "outputs": [
    {
     "data": {
      "text/plain": [
       "((18.28911358916449, 18.32962820512821, 18.370142821091928),\n",
       " (16.62581197497096, 16.652923076923088, 16.680034178875214))"
      ]
     },
     "execution_count": 30,
     "metadata": {},
     "output_type": "execute_result"
    }
   ],
   "source": [
    "CI(base_twap(5, 1)), CI(base_twap(5, 2))"
   ]
  },
  {
   "cell_type": "code",
   "execution_count": 31,
   "id": "0171dbf9",
   "metadata": {},
   "outputs": [],
   "source": [
    "def random_twap(t, weights=(0.5, 0.5)):\n",
    "    \n",
    "    indices_to_buy_at = np.array([idx for idx in range(t, TWENTY_SECOND_DAY+1, t)])\n",
    "    random_numbers = np.random.rand(len(indices_to_buy_at))\n",
    "\n",
    "    indices_to_buy_asset_1 = indices_to_buy_at[np.where(random_numbers >= weights[0])[0]]\n",
    "    indices_to_buy_asset_2 = indices_to_buy_at[np.where(random_numbers < weights[0])[0]]\n",
    "\n",
    "    avg_prices_1 = input_data[:,indices_to_buy_asset_1, 1].mean(axis = 1)\n",
    "    avg_prices_2 = input_data[:,indices_to_buy_asset_2, 2].mean(axis = 1)\n",
    "    \n",
    "    return avg_prices_1, avg_prices_2"
   ]
  },
  {
   "cell_type": "code",
   "execution_count": 32,
   "id": "6aa27c0e",
   "metadata": {},
   "outputs": [
    {
     "data": {
      "text/plain": [
       "((18.28824100061176, 18.33005263157896, 18.371864262546158),\n",
       " (16.626278756512246, 16.653666666666663, 16.68105457682108))"
      ]
     },
     "execution_count": 32,
     "metadata": {},
     "output_type": "execute_result"
    }
   ],
   "source": [
    "CI(random_twap(10, weights=(0.5, 0.5))[0]), CI(random_twap(10, weights=(0.5, 0.5))[1])"
   ]
  }
 ],
 "metadata": {
  "kernelspec": {
   "display_name": "Python 3 (ipykernel)",
   "language": "python",
   "name": "python3"
  },
  "language_info": {
   "codemirror_mode": {
    "name": "ipython",
    "version": 3
   },
   "file_extension": ".py",
   "mimetype": "text/x-python",
   "name": "python",
   "nbconvert_exporter": "python",
   "pygments_lexer": "ipython3",
   "version": "3.8.11"
  }
 },
 "nbformat": 4,
 "nbformat_minor": 5
}
