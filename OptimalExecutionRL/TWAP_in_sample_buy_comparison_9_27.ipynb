{
 "cells": [
  {
   "cell_type": "markdown",
   "id": "fb50d60d",
   "metadata": {},
   "source": [
    "# TWAP Comparison"
   ]
  },
  {
   "cell_type": "code",
   "execution_count": 1,
   "id": "b2cc3e70",
   "metadata": {},
   "outputs": [],
   "source": [
    "from micro_price_trading import TWAP\n",
    "from micro_price_trading.utils import CI"
   ]
  },
  {
   "cell_type": "markdown",
   "id": "5080259e",
   "metadata": {},
   "source": [
    "## Setup"
   ]
  },
  {
   "cell_type": "code",
   "execution_count": 2,
   "id": "15fac114",
   "metadata": {},
   "outputs": [],
   "source": [
    "quick_twap = TWAP(trade_interval=3, simulations_file='simulations.npy')  # 1 minute\n",
    "medium_twap = TWAP(trade_interval=9, simulations_file='simulations.npy')  # 3 minutes\n",
    "slow_twap = TWAP(trade_interval=30, simulations_file='simulations.npy')  # 10 minutes"
   ]
  },
  {
   "cell_type": "markdown",
   "id": "cf3a624b",
   "metadata": {},
   "source": [
    "## Random TWAP"
   ]
  },
  {
   "cell_type": "code",
   "execution_count": 3,
   "id": "edf61c1e",
   "metadata": {},
   "outputs": [],
   "source": [
    "r11, r12 = quick_twap.random_twap()\n",
    "r51, r52 = medium_twap.random_twap()\n",
    "r101, r102 = slow_twap.random_twap()"
   ]
  },
  {
   "cell_type": "code",
   "execution_count": 4,
   "id": "9aa23b48",
   "metadata": {},
   "outputs": [
    {
     "data": {
      "text/plain": [
       "((18.312700000000003, 18.3149, 18.3171), (16.6601, 16.6613, 16.6625))"
      ]
     },
     "execution_count": 4,
     "metadata": {},
     "output_type": "execute_result"
    }
   ],
   "source": [
    "(CI(r11), CI(r12))"
   ]
  },
  {
   "cell_type": "code",
   "execution_count": 5,
   "id": "1612ec8c",
   "metadata": {},
   "outputs": [
    {
     "data": {
      "text/plain": [
       "((18.312600000000003, 18.3148, 18.317), (16.6601, 16.6613, 16.6625))"
      ]
     },
     "execution_count": 5,
     "metadata": {},
     "output_type": "execute_result"
    }
   ],
   "source": [
    "(CI(r51), CI(r52))"
   ]
  },
  {
   "cell_type": "code",
   "execution_count": 6,
   "id": "d448b015",
   "metadata": {},
   "outputs": [
    {
     "data": {
      "text/plain": [
       "((18.3125, 18.3147, 18.316899999999997), (16.6602, 16.6614, 16.6626))"
      ]
     },
     "execution_count": 6,
     "metadata": {},
     "output_type": "execute_result"
    }
   ],
   "source": [
    "(CI(r101), CI(r102))"
   ]
  },
  {
   "cell_type": "markdown",
   "id": "390499a6",
   "metadata": {},
   "source": [
    "## Optimal TWAP"
   ]
  },
  {
   "cell_type": "code",
   "execution_count": 8,
   "id": "0c5934b9",
   "metadata": {},
   "outputs": [],
   "source": [
    "o11, o12 = quick_twap.optimal_twap()\n",
    "o51, o52 = medium_twap.optimal_twap()\n",
    "o101, o102 = slow_twap.optimal_twap()"
   ]
  },
  {
   "cell_type": "code",
   "execution_count": 9,
   "id": "8da4cf62",
   "metadata": {},
   "outputs": [
    {
     "data": {
      "text/plain": [
       "((18.312800000000003, 18.315, 18.3172), (16.6602, 16.6614, 16.6626))"
      ]
     },
     "execution_count": 9,
     "metadata": {},
     "output_type": "execute_result"
    }
   ],
   "source": [
    "(CI(o11), CI(o12))"
   ]
  },
  {
   "cell_type": "code",
   "execution_count": 10,
   "id": "6a25cf18",
   "metadata": {},
   "outputs": [
    {
     "data": {
      "text/plain": [
       "((18.312900000000003, 18.3151, 18.3173), (16.6602, 16.6614, 16.6626))"
      ]
     },
     "execution_count": 10,
     "metadata": {},
     "output_type": "execute_result"
    }
   ],
   "source": [
    "(CI(o51), CI(o52))"
   ]
  },
  {
   "cell_type": "code",
   "execution_count": 11,
   "id": "87558701",
   "metadata": {},
   "outputs": [
    {
     "data": {
      "text/plain": [
       "((18.313000000000002, 18.3152, 18.3174), (16.6602, 16.6614, 16.6626))"
      ]
     },
     "execution_count": 11,
     "metadata": {},
     "output_type": "execute_result"
    }
   ],
   "source": [
    "(CI(o101), CI(o102))"
   ]
  },
  {
   "cell_type": "markdown",
   "id": "8cb807ce",
   "metadata": {},
   "source": [
    "## Continuous TWAP"
   ]
  },
  {
   "cell_type": "markdown",
   "id": "4d4afd0d",
   "metadata": {},
   "source": [
    "### No Threshold"
   ]
  },
  {
   "cell_type": "code",
   "execution_count": 13,
   "id": "8e49a3b3",
   "metadata": {
    "scrolled": true
   },
   "outputs": [
    {
     "name": "stderr",
     "output_type": "stream",
     "text": [
      "Process Process-12:\n",
      "Process Process-13:\n",
      "Process Process-8:\n",
      "Process Process-10:\n",
      "Process Process-11:\n",
      "Traceback (most recent call last):\n",
      "Traceback (most recent call last):\n",
      "Traceback (most recent call last):\n",
      "  File \"/home/kylewalsh/miniconda3/envs/Citi/lib/python3.8/multiprocessing/process.py\", line 315, in _bootstrap\n",
      "    self.run()\n",
      "Process Process-4:\n",
      "  File \"/home/kylewalsh/miniconda3/envs/Citi/lib/python3.8/multiprocessing/process.py\", line 315, in _bootstrap\n",
      "    self.run()\n",
      "  File \"/home/kylewalsh/miniconda3/envs/Citi/lib/python3.8/multiprocessing/process.py\", line 315, in _bootstrap\n",
      "    self.run()\n",
      "  File \"/home/kylewalsh/miniconda3/envs/Citi/lib/python3.8/multiprocessing/process.py\", line 108, in run\n",
      "    self._target(*self._args, **self._kwargs)\n",
      "Process Process-6:\n",
      "Process Process-9:\n",
      "Process Process-3:\n",
      "  File \"/home/kylewalsh/miniconda3/envs/Citi/lib/python3.8/multiprocessing/process.py\", line 108, in run\n",
      "    self._target(*self._args, **self._kwargs)\n",
      "  File \"/home/kylewalsh/miniconda3/envs/Citi/lib/python3.8/multiprocessing/process.py\", line 108, in run\n",
      "    self._target(*self._args, **self._kwargs)\n",
      "Traceback (most recent call last):\n",
      "  File \"/mnt/c/Users/cspa3/Desktop/Projects/CitiExecutionAlgo/micro_price_trading/twap.py\", line 113, in _starmap_continuous_twap\n",
      "    subset = sim[interval, :]\n",
      "  File \"/home/kylewalsh/miniconda3/envs/Citi/lib/python3.8/multiprocessing/process.py\", line 315, in _bootstrap\n",
      "    self.run()\n",
      "Process Process-5:\n",
      "Process Process-2:\n",
      "  File \"/mnt/c/Users/cspa3/Desktop/Projects/CitiExecutionAlgo/micro_price_trading/twap.py\", line 115, in _starmap_continuous_twap\n",
      "    q_vals = self.q_values.iloc[int(entry[0])].copy()\n",
      "  File \"/mnt/c/Users/cspa3/Desktop/Projects/CitiExecutionAlgo/micro_price_trading/twap.py\", line 113, in _starmap_continuous_twap\n",
      "    subset = sim[interval, :]\n",
      "  File \"/home/kylewalsh/miniconda3/envs/Citi/lib/python3.8/multiprocessing/process.py\", line 108, in run\n",
      "    self._target(*self._args, **self._kwargs)\n",
      "KeyboardInterrupt\n",
      "Traceback (most recent call last):\n",
      "KeyboardInterrupt\n",
      "Traceback (most recent call last):\n",
      "  File \"/mnt/c/Users/cspa3/Desktop/Projects/CitiExecutionAlgo/micro_price_trading/twap.py\", line 117, in _starmap_continuous_twap\n",
      "    choice = np.argmax(q_vals)\n",
      "  File \"/home/kylewalsh/miniconda3/envs/Citi/lib/python3.8/site-packages/pandas/core/indexing.py\", line 878, in __getitem__\n",
      "    maybe_callable = com.apply_if_callable(key, self.obj)\n",
      "  File \"/home/kylewalsh/miniconda3/envs/Citi/lib/python3.8/multiprocessing/process.py\", line 315, in _bootstrap\n",
      "    self.run()\n",
      "  File \"/home/kylewalsh/miniconda3/envs/Citi/lib/python3.8/multiprocessing/process.py\", line 315, in _bootstrap\n",
      "    self.run()\n",
      "  File \"<__array_function__ internals>\", line 5, in argmax\n",
      "Traceback (most recent call last):\n",
      "KeyboardInterrupt\n",
      "  File \"/home/kylewalsh/miniconda3/envs/Citi/lib/python3.8/multiprocessing/process.py\", line 108, in run\n",
      "    self._target(*self._args, **self._kwargs)\n",
      "Traceback (most recent call last):\n",
      "  File \"/home/kylewalsh/miniconda3/envs/Citi/lib/python3.8/site-packages/numpy/core/fromnumeric.py\", line 1188, in argmax\n",
      "    return _wrapfunc(a, 'argmax', axis=axis, out=out)\n",
      "  File \"/home/kylewalsh/miniconda3/envs/Citi/lib/python3.8/multiprocessing/process.py\", line 108, in run\n",
      "    self._target(*self._args, **self._kwargs)\n",
      "  File \"/home/kylewalsh/miniconda3/envs/Citi/lib/python3.8/multiprocessing/process.py\", line 315, in _bootstrap\n",
      "    self.run()\n",
      "Traceback (most recent call last):\n",
      "Traceback (most recent call last):\n",
      "  File \"/mnt/c/Users/cspa3/Desktop/Projects/CitiExecutionAlgo/micro_price_trading/twap.py\", line 115, in _starmap_continuous_twap\n",
      "    q_vals = self.q_values.iloc[int(entry[0])].copy()\n",
      "  File \"/home/kylewalsh/miniconda3/envs/Citi/lib/python3.8/multiprocessing/process.py\", line 315, in _bootstrap\n",
      "    self.run()\n",
      "Traceback (most recent call last):\n",
      "  File \"/home/kylewalsh/miniconda3/envs/Citi/lib/python3.8/multiprocessing/process.py\", line 108, in run\n",
      "    self._target(*self._args, **self._kwargs)\n",
      "  File \"/home/kylewalsh/miniconda3/envs/Citi/lib/python3.8/site-packages/pandas/core/indexing.py\", line 879, in __getitem__\n",
      "    return self._getitem_axis(maybe_callable, axis=axis)\n",
      "  File \"/home/kylewalsh/miniconda3/envs/Citi/lib/python3.8/multiprocessing/process.py\", line 315, in _bootstrap\n",
      "    self.run()\n",
      "  File \"/mnt/c/Users/cspa3/Desktop/Projects/CitiExecutionAlgo/micro_price_trading/twap.py\", line 115, in _starmap_continuous_twap\n",
      "    q_vals = self.q_values.iloc[int(entry[0])].copy()\n",
      "  File \"/home/kylewalsh/miniconda3/envs/Citi/lib/python3.8/site-packages/numpy/core/fromnumeric.py\", line 58, in _wrapfunc\n",
      "    return bound(*args, **kwds)\n",
      "  File \"/home/kylewalsh/miniconda3/envs/Citi/lib/python3.8/multiprocessing/process.py\", line 108, in run\n",
      "    self._target(*self._args, **self._kwargs)\n",
      "  File \"/home/kylewalsh/miniconda3/envs/Citi/lib/python3.8/multiprocessing/process.py\", line 315, in _bootstrap\n",
      "    self.run()\n",
      "  File \"/home/kylewalsh/miniconda3/envs/Citi/lib/python3.8/multiprocessing/process.py\", line 315, in _bootstrap\n",
      "    self.run()\n",
      "  File \"/mnt/c/Users/cspa3/Desktop/Projects/CitiExecutionAlgo/micro_price_trading/twap.py\", line 115, in _starmap_continuous_twap\n",
      "    q_vals = self.q_values.iloc[int(entry[0])].copy()\n",
      "  File \"/home/kylewalsh/miniconda3/envs/Citi/lib/python3.8/site-packages/pandas/core/indexing.py\", line 1498, in _getitem_axis\n",
      "    return self.obj._ixs(key, axis=axis)\n",
      "  File \"/home/kylewalsh/miniconda3/envs/Citi/lib/python3.8/multiprocessing/process.py\", line 108, in run\n",
      "    self._target(*self._args, **self._kwargs)\n",
      "  File \"/home/kylewalsh/miniconda3/envs/Citi/lib/python3.8/site-packages/pandas/core/indexing.py\", line 879, in __getitem__\n",
      "    return self._getitem_axis(maybe_callable, axis=axis)\n",
      "  File \"/home/kylewalsh/miniconda3/envs/Citi/lib/python3.8/site-packages/pandas/core/base.py\", line 956, in argmax\n",
      "    return nanops.nanargmax(self._values, skipna=skipna)\n",
      "  File \"/mnt/c/Users/cspa3/Desktop/Projects/CitiExecutionAlgo/micro_price_trading/twap.py\", line 117, in _starmap_continuous_twap\n",
      "    choice = np.argmax(q_vals)\n",
      "  File \"/home/kylewalsh/miniconda3/envs/Citi/lib/python3.8/multiprocessing/process.py\", line 108, in run\n",
      "    self._target(*self._args, **self._kwargs)\n",
      "  File \"/home/kylewalsh/miniconda3/envs/Citi/lib/python3.8/site-packages/pandas/core/indexing.py\", line 879, in __getitem__\n",
      "    return self._getitem_axis(maybe_callable, axis=axis)\n",
      "  File \"/home/kylewalsh/miniconda3/envs/Citi/lib/python3.8/site-packages/pandas/core/frame.py\", line 2833, in _ixs\n",
      "    result = self._constructor_sliced(\n",
      "  File \"/home/kylewalsh/miniconda3/envs/Citi/lib/python3.8/multiprocessing/process.py\", line 108, in run\n",
      "    self._target(*self._args, **self._kwargs)\n",
      "  File \"/mnt/c/Users/cspa3/Desktop/Projects/CitiExecutionAlgo/micro_price_trading/twap.py\", line 117, in _starmap_continuous_twap\n",
      "    choice = np.argmax(q_vals)\n",
      "KeyboardInterrupt\n",
      "  File \"/home/kylewalsh/miniconda3/envs/Citi/lib/python3.8/site-packages/pandas/core/nanops.py\", line 70, in _f\n",
      "    with np.errstate(invalid=\"ignore\"):\n",
      "  File \"<__array_function__ internals>\", line 5, in argmax\n",
      "  File \"/mnt/c/Users/cspa3/Desktop/Projects/CitiExecutionAlgo/micro_price_trading/twap.py\", line 117, in _starmap_continuous_twap\n",
      "    choice = np.argmax(q_vals)\n",
      "  File \"/home/kylewalsh/miniconda3/envs/Citi/lib/python3.8/site-packages/pandas/core/indexing.py\", line 1498, in _getitem_axis\n",
      "    return self.obj._ixs(key, axis=axis)\n",
      "  File \"/home/kylewalsh/miniconda3/envs/Citi/lib/python3.8/site-packages/pandas/core/series.py\", line 329, in __init__\n",
      "    data = SingleBlockManager.from_array(data, index)\n",
      "  File \"/mnt/c/Users/cspa3/Desktop/Projects/CitiExecutionAlgo/micro_price_trading/twap.py\", line 115, in _starmap_continuous_twap\n",
      "    q_vals = self.q_values.iloc[int(entry[0])].copy()\n",
      "Process Process-7:\n",
      "  File \"<__array_function__ internals>\", line 5, in argmax\n",
      "  File \"/home/kylewalsh/miniconda3/envs/Citi/lib/python3.8/site-packages/numpy/core/_ufunc_config.py\", line 433, in __enter__\n",
      "    def __enter__(self):\n",
      "  File \"/home/kylewalsh/miniconda3/envs/Citi/lib/python3.8/site-packages/numpy/core/fromnumeric.py\", line 1188, in argmax\n",
      "    return _wrapfunc(a, 'argmax', axis=axis, out=out)\n",
      "  File \"<__array_function__ internals>\", line 5, in argmax\n"
     ]
    },
    {
     "name": "stderr",
     "output_type": "stream",
     "text": [
      "  File \"/home/kylewalsh/miniconda3/envs/Citi/lib/python3.8/site-packages/pandas/core/internals/managers.py\", line 1569, in from_array\n",
      "    block = make_block(array, placement=slice(0, len(index)), ndim=1)\n",
      "  File \"/home/kylewalsh/miniconda3/envs/Citi/lib/python3.8/site-packages/pandas/core/indexing.py\", line 879, in __getitem__\n",
      "    return self._getitem_axis(maybe_callable, axis=axis)\n",
      "  File \"/home/kylewalsh/miniconda3/envs/Citi/lib/python3.8/site-packages/numpy/core/fromnumeric.py\", line 1188, in argmax\n",
      "    return _wrapfunc(a, 'argmax', axis=axis, out=out)\n",
      "  File \"/home/kylewalsh/miniconda3/envs/Citi/lib/python3.8/site-packages/pandas/core/frame.py\", line 2829, in _ixs\n",
      "    new_values = self._mgr.fast_xs(i)\n",
      "KeyboardInterrupt\n",
      "  File \"/home/kylewalsh/miniconda3/envs/Citi/lib/python3.8/site-packages/numpy/core/fromnumeric.py\", line 58, in _wrapfunc\n",
      "    return bound(*args, **kwds)\n",
      "  File \"/home/kylewalsh/miniconda3/envs/Citi/lib/python3.8/site-packages/numpy/core/fromnumeric.py\", line 1188, in argmax\n",
      "    return _wrapfunc(a, 'argmax', axis=axis, out=out)\n",
      "  File \"/home/kylewalsh/miniconda3/envs/Citi/lib/python3.8/site-packages/pandas/core/internals/blocks.py\", line 2712, in make_block\n",
      "    klass = get_block_type(values, dtype)\n",
      "  File \"/home/kylewalsh/miniconda3/envs/Citi/lib/python3.8/site-packages/pandas/core/indexing.py\", line 1498, in _getitem_axis\n",
      "    return self.obj._ixs(key, axis=axis)\n",
      "  File \"/home/kylewalsh/miniconda3/envs/Citi/lib/python3.8/site-packages/numpy/core/fromnumeric.py\", line 58, in _wrapfunc\n",
      "    return bound(*args, **kwds)\n",
      "  File \"/home/kylewalsh/miniconda3/envs/Citi/lib/python3.8/site-packages/pandas/core/internals/managers.py\", line 939, in fast_xs\n",
      "    return self.blocks[0].iget((slice(None), loc))\n",
      "  File \"/home/kylewalsh/miniconda3/envs/Citi/lib/python3.8/site-packages/pandas/core/frame.py\", line 2833, in _ixs\n",
      "    result = self._constructor_sliced(\n",
      "  File \"/home/kylewalsh/miniconda3/envs/Citi/lib/python3.8/site-packages/pandas/core/internals/blocks.py\", line 2678, in get_block_type\n",
      "    elif is_interval_dtype(dtype) or is_period_dtype(dtype):\n",
      "  File \"/home/kylewalsh/miniconda3/envs/Citi/lib/python3.8/site-packages/pandas/core/base.py\", line 956, in argmax\n",
      "    return nanops.nanargmax(self._values, skipna=skipna)\n",
      "  File \"/home/kylewalsh/miniconda3/envs/Citi/lib/python3.8/site-packages/pandas/core/base.py\", line 956, in argmax\n",
      "    return nanops.nanargmax(self._values, skipna=skipna)\n",
      "  File \"/home/kylewalsh/miniconda3/envs/Citi/lib/python3.8/site-packages/pandas/core/dtypes/common.py\", line 489, in is_period_dtype\n",
      "    return PeriodDtype.is_dtype(arr_or_dtype)\n",
      "  File \"/home/kylewalsh/miniconda3/envs/Citi/lib/python3.8/site-packages/pandas/core/series.py\", line 332, in __init__\n",
      "    self.name = name\n",
      "KeyboardInterrupt\n",
      "  File \"/home/kylewalsh/miniconda3/envs/Citi/lib/python3.8/site-packages/pandas/core/nanops.py\", line 71, in _f\n",
      "    return f(*args, **kwargs)\n",
      "  File \"/home/kylewalsh/miniconda3/envs/Citi/lib/python3.8/site-packages/pandas/core/nanops.py\", line 71, in _f\n",
      "    return f(*args, **kwargs)\n",
      "  File \"/home/kylewalsh/miniconda3/envs/Citi/lib/python3.8/site-packages/pandas/core/dtypes/dtypes.py\", line 909, in is_dtype\n",
      "    if isinstance(dtype, str):\n",
      "  File \"/home/kylewalsh/miniconda3/envs/Citi/lib/python3.8/site-packages/pandas/core/generic.py\", line 5157, in __setattr__\n",
      "    elif name in self._metadata:\n",
      "  File \"/home/kylewalsh/miniconda3/envs/Citi/lib/python3.8/site-packages/pandas/core/nanops.py\", line 923, in nanargmax\n",
      "    values, mask, _, _, _ = _get_values(values, True, fill_value_typ=\"-inf\", mask=mask)\n",
      "  File \"/home/kylewalsh/miniconda3/envs/Citi/lib/python3.8/site-packages/pandas/core/nanops.py\", line 923, in nanargmax\n",
      "    values, mask, _, _, _ = _get_values(values, True, fill_value_typ=\"-inf\", mask=mask)\n",
      "KeyboardInterrupt\n",
      "KeyboardInterrupt\n",
      "  File \"/home/kylewalsh/miniconda3/envs/Citi/lib/python3.8/site-packages/pandas/core/nanops.py\", line 305, in _get_values\n",
      "    if dtype_ok and mask.any():\n",
      "Traceback (most recent call last):\n",
      "  File \"/home/kylewalsh/miniconda3/envs/Citi/lib/python3.8/site-packages/numpy/core/fromnumeric.py\", line 58, in _wrapfunc\n",
      "    return bound(*args, **kwds)\n",
      "  File \"/home/kylewalsh/miniconda3/envs/Citi/lib/python3.8/site-packages/numpy/core/_methods.py\", line 54, in _any\n",
      "    return umr_any(a, axis, dtype, out, keepdims)\n",
      "  File \"/home/kylewalsh/miniconda3/envs/Citi/lib/python3.8/multiprocessing/process.py\", line 315, in _bootstrap\n",
      "    self.run()\n",
      "  File \"/home/kylewalsh/miniconda3/envs/Citi/lib/python3.8/site-packages/pandas/core/nanops.py\", line 305, in _get_values\n",
      "    if dtype_ok and mask.any():\n",
      "  File \"/home/kylewalsh/miniconda3/envs/Citi/lib/python3.8/site-packages/pandas/core/base.py\", line 956, in argmax\n",
      "    return nanops.nanargmax(self._values, skipna=skipna)\n",
      "KeyboardInterrupt\n",
      "  File \"/home/kylewalsh/miniconda3/envs/Citi/lib/python3.8/multiprocessing/process.py\", line 108, in run\n",
      "    self._target(*self._args, **self._kwargs)\n",
      "  File \"/home/kylewalsh/miniconda3/envs/Citi/lib/python3.8/site-packages/numpy/core/_methods.py\", line 54, in _any\n",
      "    return umr_any(a, axis, dtype, out, keepdims)\n",
      "  File \"/home/kylewalsh/miniconda3/envs/Citi/lib/python3.8/site-packages/pandas/core/nanops.py\", line 71, in _f\n",
      "    return f(*args, **kwargs)\n",
      "KeyboardInterrupt\n",
      "  File \"/mnt/c/Users/cspa3/Desktop/Projects/CitiExecutionAlgo/micro_price_trading/twap.py\", line 117, in _starmap_continuous_twap\n",
      "    choice = np.argmax(q_vals)\n",
      "  File \"/home/kylewalsh/miniconda3/envs/Citi/lib/python3.8/site-packages/pandas/core/nanops.py\", line 923, in nanargmax\n",
      "    values, mask, _, _, _ = _get_values(values, True, fill_value_typ=\"-inf\", mask=mask)\n",
      "  File \"<__array_function__ internals>\", line 5, in argmax\n",
      "  File \"/home/kylewalsh/miniconda3/envs/Citi/lib/python3.8/site-packages/pandas/core/nanops.py\", line 316, in _get_values\n",
      "    elif is_float_dtype(dtype):\n",
      "  File \"/home/kylewalsh/miniconda3/envs/Citi/lib/python3.8/site-packages/numpy/core/fromnumeric.py\", line 1188, in argmax\n",
      "    return _wrapfunc(a, 'argmax', axis=axis, out=out)\n",
      "  File \"/home/kylewalsh/miniconda3/envs/Citi/lib/python3.8/site-packages/pandas/core/dtypes/common.py\", line 1327, in is_float_dtype\n",
      "    return _is_dtype_type(arr_or_dtype, classes(np.floating))\n",
      "  File \"/home/kylewalsh/miniconda3/envs/Citi/lib/python3.8/site-packages/numpy/core/fromnumeric.py\", line 58, in _wrapfunc\n",
      "    return bound(*args, **kwds)\n",
      "  File \"/home/kylewalsh/miniconda3/envs/Citi/lib/python3.8/site-packages/pandas/core/dtypes/common.py\", line 1618, in _is_dtype_type\n",
      "    if isinstance(arr_or_dtype, np.dtype):\n",
      "  File \"/home/kylewalsh/miniconda3/envs/Citi/lib/python3.8/site-packages/pandas/core/base.py\", line 956, in argmax\n",
      "    return nanops.nanargmax(self._values, skipna=skipna)\n",
      "KeyboardInterrupt\n",
      "  File \"/home/kylewalsh/miniconda3/envs/Citi/lib/python3.8/site-packages/pandas/core/nanops.py\", line 71, in _f\n",
      "    return f(*args, **kwargs)\n",
      "  File \"/home/kylewalsh/miniconda3/envs/Citi/lib/python3.8/site-packages/pandas/core/nanops.py\", line 923, in nanargmax\n",
      "    values, mask, _, _, _ = _get_values(values, True, fill_value_typ=\"-inf\", mask=mask)\n",
      "  File \"/home/kylewalsh/miniconda3/envs/Citi/lib/python3.8/site-packages/pandas/core/nanops.py\", line 314, in _get_values\n",
      "    if is_integer_dtype(dtype) or is_bool_dtype(dtype):\n",
      "KeyboardInterrupt\n"
     ]
    },
    {
     "ename": "KeyboardInterrupt",
     "evalue": "",
     "output_type": "error",
     "traceback": [
      "\u001b[0;31m---------------------------------------------------------------------------\u001b[0m",
      "\u001b[0;31mKeyboardInterrupt\u001b[0m                         Traceback (most recent call last)",
      "\u001b[0;32m/tmp/ipykernel_24785/1592811477.py\u001b[0m in \u001b[0;36m<module>\u001b[0;34m\u001b[0m\n\u001b[0;32m----> 1\u001b[0;31m \u001b[0mc110\u001b[0m\u001b[0;34m,\u001b[0m \u001b[0mc120\u001b[0m \u001b[0;34m=\u001b[0m \u001b[0mquick_twap\u001b[0m\u001b[0;34m.\u001b[0m\u001b[0mcontinuous_twap\u001b[0m\u001b[0;34m(\u001b[0m\u001b[0mthreshold\u001b[0m\u001b[0;34m=\u001b[0m\u001b[0;36m0\u001b[0m\u001b[0;34m,\u001b[0m \u001b[0mverbose\u001b[0m\u001b[0;34m=\u001b[0m\u001b[0;32mTrue\u001b[0m\u001b[0;34m)\u001b[0m\u001b[0;34m\u001b[0m\u001b[0;34m\u001b[0m\u001b[0m\n\u001b[0m\u001b[1;32m      2\u001b[0m \u001b[0mc510\u001b[0m\u001b[0;34m,\u001b[0m \u001b[0mc520\u001b[0m \u001b[0;34m=\u001b[0m \u001b[0mmedium_twap\u001b[0m\u001b[0;34m.\u001b[0m\u001b[0mcontinuous_twap\u001b[0m\u001b[0;34m(\u001b[0m\u001b[0mthreshold\u001b[0m\u001b[0;34m=\u001b[0m\u001b[0;36m0\u001b[0m\u001b[0;34m,\u001b[0m \u001b[0mverbose\u001b[0m\u001b[0;34m=\u001b[0m\u001b[0;32mTrue\u001b[0m\u001b[0;34m)\u001b[0m\u001b[0;34m\u001b[0m\u001b[0;34m\u001b[0m\u001b[0m\n\u001b[1;32m      3\u001b[0m \u001b[0mc1010\u001b[0m\u001b[0;34m,\u001b[0m \u001b[0mc1020\u001b[0m \u001b[0;34m=\u001b[0m \u001b[0mslow_twap\u001b[0m\u001b[0;34m.\u001b[0m\u001b[0mcontinuous_twap\u001b[0m\u001b[0;34m(\u001b[0m\u001b[0mthreshold\u001b[0m\u001b[0;34m=\u001b[0m\u001b[0;36m0\u001b[0m\u001b[0;34m,\u001b[0m \u001b[0mverbose\u001b[0m\u001b[0;34m=\u001b[0m\u001b[0;32mTrue\u001b[0m\u001b[0;34m)\u001b[0m\u001b[0;34m\u001b[0m\u001b[0;34m\u001b[0m\u001b[0m\n\u001b[1;32m      4\u001b[0m \u001b[0mc2010\u001b[0m\u001b[0;34m,\u001b[0m \u001b[0mc2020\u001b[0m \u001b[0;34m=\u001b[0m \u001b[0mvery_slow_twap\u001b[0m\u001b[0;34m.\u001b[0m\u001b[0mcontinuous_twap\u001b[0m\u001b[0;34m(\u001b[0m\u001b[0mthreshold\u001b[0m\u001b[0;34m=\u001b[0m\u001b[0;36m0\u001b[0m\u001b[0;34m,\u001b[0m \u001b[0mverbose\u001b[0m\u001b[0;34m=\u001b[0m\u001b[0;32mTrue\u001b[0m\u001b[0;34m)\u001b[0m\u001b[0;34m\u001b[0m\u001b[0;34m\u001b[0m\u001b[0m\n",
      "\u001b[0;32m/mnt/c/Users/cspa3/Desktop/Projects/CitiExecutionAlgo/micro_price_trading/twap.py\u001b[0m in \u001b[0;36mcontinuous_twap\u001b[0;34m(self, threshold, verbose)\u001b[0m\n\u001b[1;32m    174\u001b[0m \u001b[0;34m\u001b[0m\u001b[0m\n\u001b[1;32m    175\u001b[0m         \u001b[0;32mfor\u001b[0m \u001b[0mp\u001b[0m \u001b[0;32min\u001b[0m \u001b[0mall_processes\u001b[0m\u001b[0;34m:\u001b[0m\u001b[0;34m\u001b[0m\u001b[0;34m\u001b[0m\u001b[0m\n\u001b[0;32m--> 176\u001b[0;31m             \u001b[0mp\u001b[0m\u001b[0;34m.\u001b[0m\u001b[0mjoin\u001b[0m\u001b[0;34m(\u001b[0m\u001b[0;34m)\u001b[0m\u001b[0;34m\u001b[0m\u001b[0;34m\u001b[0m\u001b[0m\n\u001b[0m\u001b[1;32m    177\u001b[0m             \u001b[0mp\u001b[0m\u001b[0;34m.\u001b[0m\u001b[0mclose\u001b[0m\u001b[0;34m(\u001b[0m\u001b[0;34m)\u001b[0m\u001b[0;34m\u001b[0m\u001b[0;34m\u001b[0m\u001b[0m\n\u001b[1;32m    178\u001b[0m \u001b[0;34m\u001b[0m\u001b[0m\n",
      "\u001b[0;32m~/miniconda3/envs/Citi/lib/python3.8/multiprocessing/process.py\u001b[0m in \u001b[0;36mjoin\u001b[0;34m(self, timeout)\u001b[0m\n\u001b[1;32m    147\u001b[0m         \u001b[0;32massert\u001b[0m \u001b[0mself\u001b[0m\u001b[0;34m.\u001b[0m\u001b[0m_parent_pid\u001b[0m \u001b[0;34m==\u001b[0m \u001b[0mos\u001b[0m\u001b[0;34m.\u001b[0m\u001b[0mgetpid\u001b[0m\u001b[0;34m(\u001b[0m\u001b[0;34m)\u001b[0m\u001b[0;34m,\u001b[0m \u001b[0;34m'can only join a child process'\u001b[0m\u001b[0;34m\u001b[0m\u001b[0;34m\u001b[0m\u001b[0m\n\u001b[1;32m    148\u001b[0m         \u001b[0;32massert\u001b[0m \u001b[0mself\u001b[0m\u001b[0;34m.\u001b[0m\u001b[0m_popen\u001b[0m \u001b[0;32mis\u001b[0m \u001b[0;32mnot\u001b[0m \u001b[0;32mNone\u001b[0m\u001b[0;34m,\u001b[0m \u001b[0;34m'can only join a started process'\u001b[0m\u001b[0;34m\u001b[0m\u001b[0;34m\u001b[0m\u001b[0m\n\u001b[0;32m--> 149\u001b[0;31m         \u001b[0mres\u001b[0m \u001b[0;34m=\u001b[0m \u001b[0mself\u001b[0m\u001b[0;34m.\u001b[0m\u001b[0m_popen\u001b[0m\u001b[0;34m.\u001b[0m\u001b[0mwait\u001b[0m\u001b[0;34m(\u001b[0m\u001b[0mtimeout\u001b[0m\u001b[0;34m)\u001b[0m\u001b[0;34m\u001b[0m\u001b[0;34m\u001b[0m\u001b[0m\n\u001b[0m\u001b[1;32m    150\u001b[0m         \u001b[0;32mif\u001b[0m \u001b[0mres\u001b[0m \u001b[0;32mis\u001b[0m \u001b[0;32mnot\u001b[0m \u001b[0;32mNone\u001b[0m\u001b[0;34m:\u001b[0m\u001b[0;34m\u001b[0m\u001b[0;34m\u001b[0m\u001b[0m\n\u001b[1;32m    151\u001b[0m             \u001b[0m_children\u001b[0m\u001b[0;34m.\u001b[0m\u001b[0mdiscard\u001b[0m\u001b[0;34m(\u001b[0m\u001b[0mself\u001b[0m\u001b[0;34m)\u001b[0m\u001b[0;34m\u001b[0m\u001b[0;34m\u001b[0m\u001b[0m\n",
      "\u001b[0;32m~/miniconda3/envs/Citi/lib/python3.8/multiprocessing/popen_fork.py\u001b[0m in \u001b[0;36mwait\u001b[0;34m(self, timeout)\u001b[0m\n\u001b[1;32m     45\u001b[0m                     \u001b[0;32mreturn\u001b[0m \u001b[0;32mNone\u001b[0m\u001b[0;34m\u001b[0m\u001b[0;34m\u001b[0m\u001b[0m\n\u001b[1;32m     46\u001b[0m             \u001b[0;31m# This shouldn't block if wait() returned successfully.\u001b[0m\u001b[0;34m\u001b[0m\u001b[0;34m\u001b[0m\u001b[0;34m\u001b[0m\u001b[0m\n\u001b[0;32m---> 47\u001b[0;31m             \u001b[0;32mreturn\u001b[0m \u001b[0mself\u001b[0m\u001b[0;34m.\u001b[0m\u001b[0mpoll\u001b[0m\u001b[0;34m(\u001b[0m\u001b[0mos\u001b[0m\u001b[0;34m.\u001b[0m\u001b[0mWNOHANG\u001b[0m \u001b[0;32mif\u001b[0m \u001b[0mtimeout\u001b[0m \u001b[0;34m==\u001b[0m \u001b[0;36m0.0\u001b[0m \u001b[0;32melse\u001b[0m \u001b[0;36m0\u001b[0m\u001b[0;34m)\u001b[0m\u001b[0;34m\u001b[0m\u001b[0;34m\u001b[0m\u001b[0m\n\u001b[0m\u001b[1;32m     48\u001b[0m         \u001b[0;32mreturn\u001b[0m \u001b[0mself\u001b[0m\u001b[0;34m.\u001b[0m\u001b[0mreturncode\u001b[0m\u001b[0;34m\u001b[0m\u001b[0;34m\u001b[0m\u001b[0m\n\u001b[1;32m     49\u001b[0m \u001b[0;34m\u001b[0m\u001b[0m\n",
      "\u001b[0;32m~/miniconda3/envs/Citi/lib/python3.8/multiprocessing/popen_fork.py\u001b[0m in \u001b[0;36mpoll\u001b[0;34m(self, flag)\u001b[0m\n\u001b[1;32m     25\u001b[0m         \u001b[0;32mif\u001b[0m \u001b[0mself\u001b[0m\u001b[0;34m.\u001b[0m\u001b[0mreturncode\u001b[0m \u001b[0;32mis\u001b[0m \u001b[0;32mNone\u001b[0m\u001b[0;34m:\u001b[0m\u001b[0;34m\u001b[0m\u001b[0;34m\u001b[0m\u001b[0m\n\u001b[1;32m     26\u001b[0m             \u001b[0;32mtry\u001b[0m\u001b[0;34m:\u001b[0m\u001b[0;34m\u001b[0m\u001b[0;34m\u001b[0m\u001b[0m\n\u001b[0;32m---> 27\u001b[0;31m                 \u001b[0mpid\u001b[0m\u001b[0;34m,\u001b[0m \u001b[0msts\u001b[0m \u001b[0;34m=\u001b[0m \u001b[0mos\u001b[0m\u001b[0;34m.\u001b[0m\u001b[0mwaitpid\u001b[0m\u001b[0;34m(\u001b[0m\u001b[0mself\u001b[0m\u001b[0;34m.\u001b[0m\u001b[0mpid\u001b[0m\u001b[0;34m,\u001b[0m \u001b[0mflag\u001b[0m\u001b[0;34m)\u001b[0m\u001b[0;34m\u001b[0m\u001b[0;34m\u001b[0m\u001b[0m\n\u001b[0m\u001b[1;32m     28\u001b[0m             \u001b[0;32mexcept\u001b[0m \u001b[0mOSError\u001b[0m \u001b[0;32mas\u001b[0m \u001b[0me\u001b[0m\u001b[0;34m:\u001b[0m\u001b[0;34m\u001b[0m\u001b[0;34m\u001b[0m\u001b[0m\n\u001b[1;32m     29\u001b[0m                 \u001b[0;31m# Child process not yet created. See #1731717\u001b[0m\u001b[0;34m\u001b[0m\u001b[0;34m\u001b[0m\u001b[0;34m\u001b[0m\u001b[0m\n",
      "\u001b[0;31mKeyboardInterrupt\u001b[0m: "
     ]
    }
   ],
   "source": [
    "c110, c120 = quick_twap.continuous_twap(threshold=0, verbose=True)\n",
    "c510, c520 = medium_twap.continuous_twap(threshold=0, verbose=True)\n",
    "c1010, c1020 = slow_twap.continuous_twap(threshold=0, verbose=True)"
   ]
  },
  {
   "cell_type": "code",
   "execution_count": null,
   "id": "a226aa7b",
   "metadata": {},
   "outputs": [],
   "source": [
    "(CI(c110), CI(c120))"
   ]
  },
  {
   "cell_type": "code",
   "execution_count": null,
   "id": "52b8fd27",
   "metadata": {},
   "outputs": [],
   "source": [
    "(CI(c510), CI(c520))"
   ]
  },
  {
   "cell_type": "code",
   "execution_count": null,
   "id": "c5f712a5",
   "metadata": {},
   "outputs": [],
   "source": [
    "(CI(c1010), CI(c1020))"
   ]
  },
  {
   "cell_type": "markdown",
   "id": "d4ba00f2",
   "metadata": {},
   "source": [
    "### Medium Threshold"
   ]
  },
  {
   "cell_type": "code",
   "execution_count": null,
   "id": "001fb8e4",
   "metadata": {},
   "outputs": [],
   "source": [
    "c11015, c12015 = quick_twap.continuous_twap(threshold=0.15, verbose=True)\n",
    "c51015, c52015 = medium_twap.continuous_twap(threshold=0.15, verbose=True)\n",
    "c101015, c102015 = slow_twap.continuous_twap(threshold=0.15, verbose=True)"
   ]
  },
  {
   "cell_type": "code",
   "execution_count": null,
   "id": "d83f023d",
   "metadata": {},
   "outputs": [],
   "source": [
    "(CI(c11015), CI(c12015))"
   ]
  },
  {
   "cell_type": "code",
   "execution_count": null,
   "id": "95601ebf",
   "metadata": {},
   "outputs": [],
   "source": [
    "(CI(c51015), CI(c52015))"
   ]
  },
  {
   "cell_type": "code",
   "execution_count": null,
   "id": "9e50659e",
   "metadata": {},
   "outputs": [],
   "source": [
    "(CI(c101015), CI(c102015))"
   ]
  },
  {
   "cell_type": "markdown",
   "id": "48f7ce7d",
   "metadata": {},
   "source": [
    "### Large Threshold"
   ]
  },
  {
   "cell_type": "code",
   "execution_count": null,
   "id": "84544e9a",
   "metadata": {},
   "outputs": [],
   "source": [
    "c1103, c1203 = quick_twap.continuous_twap(threshold=0.3, verbose=True)\n",
    "c5103, c5203 = medium_twap.continuous_twap(threshold=0.3, verbose=True)\n",
    "c10103, c10203 = slow_twap.continuous_twap(threshold=0.3, verbose=True)"
   ]
  },
  {
   "cell_type": "code",
   "execution_count": null,
   "id": "d4809570",
   "metadata": {},
   "outputs": [],
   "source": [
    "(CI(c1103), CI(c1203))"
   ]
  },
  {
   "cell_type": "code",
   "execution_count": null,
   "id": "13053aa1",
   "metadata": {},
   "outputs": [],
   "source": [
    "(CI(c5103), CI(c5203))"
   ]
  },
  {
   "cell_type": "code",
   "execution_count": null,
   "id": "9a60f26c",
   "metadata": {},
   "outputs": [],
   "source": [
    "(CI(c10103), CI(c10203))"
   ]
  }
 ],
 "metadata": {
  "kernelspec": {
   "display_name": "Python 3 (ipykernel)",
   "language": "python",
   "name": "python3"
  },
  "language_info": {
   "codemirror_mode": {
    "name": "ipython",
    "version": 3
   },
   "file_extension": ".py",
   "mimetype": "text/x-python",
   "name": "python",
   "nbconvert_exporter": "python",
   "pygments_lexer": "ipython3",
   "version": "3.8.11"
  }
 },
 "nbformat": 4,
 "nbformat_minor": 5
}
