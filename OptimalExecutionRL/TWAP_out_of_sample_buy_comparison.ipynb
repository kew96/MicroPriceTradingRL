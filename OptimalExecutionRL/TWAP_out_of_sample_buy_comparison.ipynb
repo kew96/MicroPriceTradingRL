{
 "cells": [
  {
   "cell_type": "markdown",
   "id": "fb50d60d",
   "metadata": {},
   "source": [
    "# TWAP Comparison"
   ]
  },
  {
   "cell_type": "code",
   "execution_count": 14,
   "id": "b2cc3e70",
   "metadata": {},
   "outputs": [],
   "source": [
    "from micro_price_trading import TWAP\n",
    "from micro_price_trading.utils import CI\n",
    "from micro_price_trading.preprocessing import Preprocess"
   ]
  },
  {
   "cell_type": "markdown",
   "id": "5080259e",
   "metadata": {},
   "source": [
    "## Setup"
   ]
  },
  {
   "cell_type": "code",
   "execution_count": 15,
   "id": "15fac114",
   "metadata": {
    "pycharm": {
     "is_executing": true
    }
   },
   "outputs": [
    {
     "ename": "KeyError",
     "evalue": "'self.__res_bin'",
     "output_type": "error",
     "traceback": [
      "\u001b[0;31m---------------------------------------------------------------------------\u001b[0m",
      "\u001b[0;31mKeyError\u001b[0m                                  Traceback (most recent call last)",
      "\u001b[0;32m~/opt/anaconda3/envs/Citi/lib/python3.8/site-packages/pandas/core/indexes/base.py\u001b[0m in \u001b[0;36mget_loc\u001b[0;34m(self, key, method, tolerance)\u001b[0m\n\u001b[1;32m   2890\u001b[0m             \u001b[0;32mtry\u001b[0m\u001b[0;34m:\u001b[0m\u001b[0;34m\u001b[0m\u001b[0;34m\u001b[0m\u001b[0m\n\u001b[0;32m-> 2891\u001b[0;31m                 \u001b[0;32mreturn\u001b[0m \u001b[0mself\u001b[0m\u001b[0;34m.\u001b[0m\u001b[0m_engine\u001b[0m\u001b[0;34m.\u001b[0m\u001b[0mget_loc\u001b[0m\u001b[0;34m(\u001b[0m\u001b[0mcasted_key\u001b[0m\u001b[0;34m)\u001b[0m\u001b[0;34m\u001b[0m\u001b[0;34m\u001b[0m\u001b[0m\n\u001b[0m\u001b[1;32m   2892\u001b[0m             \u001b[0;32mexcept\u001b[0m \u001b[0mKeyError\u001b[0m \u001b[0;32mas\u001b[0m \u001b[0merr\u001b[0m\u001b[0;34m:\u001b[0m\u001b[0;34m\u001b[0m\u001b[0;34m\u001b[0m\u001b[0m\n",
      "\u001b[0;32mpandas/_libs/index.pyx\u001b[0m in \u001b[0;36mpandas._libs.index.IndexEngine.get_loc\u001b[0;34m()\u001b[0m\n",
      "\u001b[0;32mpandas/_libs/index.pyx\u001b[0m in \u001b[0;36mpandas._libs.index.IndexEngine.get_loc\u001b[0;34m()\u001b[0m\n",
      "\u001b[0;32mpandas/_libs/hashtable_class_helper.pxi\u001b[0m in \u001b[0;36mpandas._libs.hashtable.PyObjectHashTable.get_item\u001b[0;34m()\u001b[0m\n",
      "\u001b[0;32mpandas/_libs/hashtable_class_helper.pxi\u001b[0m in \u001b[0;36mpandas._libs.hashtable.PyObjectHashTable.get_item\u001b[0;34m()\u001b[0m\n",
      "\u001b[0;31mKeyError\u001b[0m: 'self.__res_bin'",
      "\nThe above exception was the direct cause of the following exception:\n",
      "\u001b[0;31mKeyError\u001b[0m                                  Traceback (most recent call last)",
      "\u001b[0;32m/var/folders/pr/fr9dv1ls42g8dwqvl1lj2ty80000gn/T/ipykernel_25918/181128551.py\u001b[0m in \u001b[0;36m<module>\u001b[0;34m\u001b[0m\n\u001b[0;32m----> 1\u001b[0;31m \u001b[0mmedium_twap\u001b[0m \u001b[0;34m=\u001b[0m \u001b[0mTWAP\u001b[0m\u001b[0;34m(\u001b[0m\u001b[0mtrade_interval\u001b[0m\u001b[0;34m=\u001b[0m\u001b[0;36m5\u001b[0m\u001b[0;34m,\u001b[0m \u001b[0mout_of_sample_file_name\u001b[0m\u001b[0;34m=\u001b[0m\u001b[0;34m'TBT_TBF_9_28_data.csv'\u001b[0m\u001b[0;34m)\u001b[0m\u001b[0;34m\u001b[0m\u001b[0;34m\u001b[0m\u001b[0m\n\u001b[0m",
      "\u001b[0;32m~/PycharmProjects/CitiExecutionAlgo/micro_price_trading/twap.py\u001b[0m in \u001b[0;36m__init__\u001b[0;34m(self, trade_interval, steps_in_day, buy, q_values_file_name, out_of_sample_file_name)\u001b[0m\n\u001b[1;32m     30\u001b[0m         \u001b[0;32mif\u001b[0m \u001b[0mout_of_sample_file_name\u001b[0m\u001b[0;34m:\u001b[0m\u001b[0;34m\u001b[0m\u001b[0;34m\u001b[0m\u001b[0m\n\u001b[1;32m     31\u001b[0m             \u001b[0mraw\u001b[0m \u001b[0;34m=\u001b[0m \u001b[0mPreprocess\u001b[0m\u001b[0;34m(\u001b[0m\u001b[0;34m'TBT_TBF__9_27_data.csv'\u001b[0m\u001b[0;34m,\u001b[0m \u001b[0mres_bin\u001b[0m\u001b[0;34m=\u001b[0m\u001b[0;36m7\u001b[0m\u001b[0;34m)\u001b[0m\u001b[0;34m\u001b[0m\u001b[0;34m\u001b[0m\u001b[0m\n\u001b[0;32m---> 32\u001b[0;31m             \u001b[0md_in_sample\u001b[0m\u001b[0;34m,\u001b[0m \u001b[0md_out_of_sample\u001b[0m \u001b[0;34m=\u001b[0m \u001b[0mraw\u001b[0m\u001b[0;34m.\u001b[0m\u001b[0mprocess\u001b[0m\u001b[0;34m(\u001b[0m\u001b[0mout_of_sample\u001b[0m\u001b[0;34m=\u001b[0m\u001b[0mout_of_sample_file_name\u001b[0m\u001b[0;34m)\u001b[0m\u001b[0;34m\u001b[0m\u001b[0;34m\u001b[0m\u001b[0m\n\u001b[0m\u001b[1;32m     33\u001b[0m             self.data = np.reshape(d_out_of_sample.data.values(),\n\u001b[1;32m     34\u001b[0m                                    \u001b[0;36m1\u001b[0m\u001b[0;34m,\u001b[0m\u001b[0;34m\u001b[0m\u001b[0;34m\u001b[0m\u001b[0m\n",
      "\u001b[0;32m~/PycharmProjects/CitiExecutionAlgo/micro_price_trading/preprocessing/preprocess.py\u001b[0m in \u001b[0;36mprocess\u001b[0;34m(self, out_of_sample)\u001b[0m\n\u001b[1;32m    267\u001b[0m \u001b[0;34m\u001b[0m\u001b[0m\n\u001b[1;32m    268\u001b[0m         \u001b[0;32mif\u001b[0m \u001b[0misinstance\u001b[0m\u001b[0;34m(\u001b[0m\u001b[0mself\u001b[0m\u001b[0;34m.\u001b[0m\u001b[0m__data_file\u001b[0m\u001b[0;34m,\u001b[0m \u001b[0mstr\u001b[0m\u001b[0;34m)\u001b[0m \u001b[0;32mor\u001b[0m \u001b[0misinstance\u001b[0m\u001b[0;34m(\u001b[0m\u001b[0mself\u001b[0m\u001b[0;34m.\u001b[0m\u001b[0m__data_file\u001b[0m\u001b[0;34m,\u001b[0m \u001b[0mPosixPath\u001b[0m\u001b[0;34m)\u001b[0m\u001b[0;34m:\u001b[0m\u001b[0;34m\u001b[0m\u001b[0;34m\u001b[0m\u001b[0m\n\u001b[0;32m--> 269\u001b[0;31m             \u001b[0mout_of_sample\u001b[0m \u001b[0;34m=\u001b[0m \u001b[0mself\u001b[0m\u001b[0;34m.\u001b[0m\u001b[0m_process_data\u001b[0m\u001b[0;34m(\u001b[0m\u001b[0mout_of_sample\u001b[0m\u001b[0;34m=\u001b[0m\u001b[0mout_of_sample\u001b[0m\u001b[0;34m)\u001b[0m\u001b[0;34m\u001b[0m\u001b[0;34m\u001b[0m\u001b[0m\n\u001b[0m\u001b[1;32m    270\u001b[0m         \u001b[0;32melse\u001b[0m\u001b[0;34m:\u001b[0m\u001b[0;34m\u001b[0m\u001b[0;34m\u001b[0m\u001b[0m\n\u001b[1;32m    271\u001b[0m             \u001b[0;32mraise\u001b[0m \u001b[0mTypeError\u001b[0m\u001b[0;34m(\u001b[0m\u001b[0;34m'\"Data\" must be of type str or PosixPath'\u001b[0m\u001b[0;34m)\u001b[0m\u001b[0;34m\u001b[0m\u001b[0;34m\u001b[0m\u001b[0m\n",
      "\u001b[0;32m~/PycharmProjects/CitiExecutionAlgo/micro_price_trading/preprocessing/preprocess.py\u001b[0m in \u001b[0;36m_process_data\u001b[0;34m(self, out_of_sample)\u001b[0m\n\u001b[1;32m     82\u001b[0m             \u001b[0mself\u001b[0m\u001b[0;34m.\u001b[0m\u001b[0m__data\u001b[0m \u001b[0;34m=\u001b[0m \u001b[0mself\u001b[0m\u001b[0;34m.\u001b[0m\u001b[0m_uniform_bin\u001b[0m\u001b[0;34m(\u001b[0m\u001b[0mself\u001b[0m\u001b[0;34m.\u001b[0m\u001b[0m__data\u001b[0m\u001b[0;34m)\u001b[0m\u001b[0;34m\u001b[0m\u001b[0;34m\u001b[0m\u001b[0m\n\u001b[1;32m     83\u001b[0m \u001b[0;34m\u001b[0m\u001b[0m\n\u001b[0;32m---> 84\u001b[0;31m         \u001b[0mself\u001b[0m\u001b[0;34m.\u001b[0m\u001b[0m__data\u001b[0m \u001b[0;34m=\u001b[0m \u001b[0mself\u001b[0m\u001b[0;34m.\u001b[0m\u001b[0m_build_states\u001b[0m\u001b[0;34m(\u001b[0m\u001b[0mself\u001b[0m\u001b[0;34m.\u001b[0m\u001b[0m__data\u001b[0m\u001b[0;34m)\u001b[0m\u001b[0;34m\u001b[0m\u001b[0;34m\u001b[0m\u001b[0m\n\u001b[0m\u001b[1;32m     85\u001b[0m \u001b[0;34m\u001b[0m\u001b[0m\n\u001b[1;32m     86\u001b[0m         \u001b[0;31m# dropna due to shift\u001b[0m\u001b[0;34m\u001b[0m\u001b[0;34m\u001b[0m\u001b[0;34m\u001b[0m\u001b[0m\n",
      "\u001b[0;32m~/PycharmProjects/CitiExecutionAlgo/micro_price_trading/preprocessing/preprocess.py\u001b[0m in \u001b[0;36m_build_states\u001b[0;34m(data)\u001b[0m\n\u001b[1;32m    200\u001b[0m \u001b[0;34m\u001b[0m\u001b[0m\n\u001b[1;32m    201\u001b[0m         data['state'] = (\n\u001b[0;32m--> 202\u001b[0;31m                 \u001b[0mdata\u001b[0m\u001b[0;34m[\u001b[0m\u001b[0;34m'self.__res_bin'\u001b[0m\u001b[0;34m]\u001b[0m\u001b[0;34m.\u001b[0m\u001b[0mastype\u001b[0m\u001b[0;34m(\u001b[0m\u001b[0mstr\u001b[0m\u001b[0;34m)\u001b[0m \u001b[0;34m+\u001b[0m\u001b[0;34m\u001b[0m\u001b[0;34m\u001b[0m\u001b[0m\n\u001b[0m\u001b[1;32m    203\u001b[0m                 \u001b[0mdata\u001b[0m\u001b[0;34m[\u001b[0m\u001b[0;34m'imb1_bin'\u001b[0m\u001b[0;34m]\u001b[0m\u001b[0;34m.\u001b[0m\u001b[0mastype\u001b[0m\u001b[0;34m(\u001b[0m\u001b[0mstr\u001b[0m\u001b[0;34m)\u001b[0m \u001b[0;34m+\u001b[0m\u001b[0;34m\u001b[0m\u001b[0;34m\u001b[0m\u001b[0m\n\u001b[1;32m    204\u001b[0m                 \u001b[0mdata\u001b[0m\u001b[0;34m[\u001b[0m\u001b[0;34m'imb2_bin'\u001b[0m\u001b[0;34m]\u001b[0m\u001b[0;34m.\u001b[0m\u001b[0mastype\u001b[0m\u001b[0;34m(\u001b[0m\u001b[0mstr\u001b[0m\u001b[0;34m)\u001b[0m \u001b[0;34m+\u001b[0m\u001b[0;34m\u001b[0m\u001b[0;34m\u001b[0m\u001b[0m\n",
      "\u001b[0;32m~/opt/anaconda3/envs/Citi/lib/python3.8/site-packages/pandas/core/frame.py\u001b[0m in \u001b[0;36m__getitem__\u001b[0;34m(self, key)\u001b[0m\n\u001b[1;32m   2900\u001b[0m             \u001b[0;32mif\u001b[0m \u001b[0mself\u001b[0m\u001b[0;34m.\u001b[0m\u001b[0mcolumns\u001b[0m\u001b[0;34m.\u001b[0m\u001b[0mnlevels\u001b[0m \u001b[0;34m>\u001b[0m \u001b[0;36m1\u001b[0m\u001b[0;34m:\u001b[0m\u001b[0;34m\u001b[0m\u001b[0;34m\u001b[0m\u001b[0m\n\u001b[1;32m   2901\u001b[0m                 \u001b[0;32mreturn\u001b[0m \u001b[0mself\u001b[0m\u001b[0;34m.\u001b[0m\u001b[0m_getitem_multilevel\u001b[0m\u001b[0;34m(\u001b[0m\u001b[0mkey\u001b[0m\u001b[0;34m)\u001b[0m\u001b[0;34m\u001b[0m\u001b[0;34m\u001b[0m\u001b[0m\n\u001b[0;32m-> 2902\u001b[0;31m             \u001b[0mindexer\u001b[0m \u001b[0;34m=\u001b[0m \u001b[0mself\u001b[0m\u001b[0;34m.\u001b[0m\u001b[0mcolumns\u001b[0m\u001b[0;34m.\u001b[0m\u001b[0mget_loc\u001b[0m\u001b[0;34m(\u001b[0m\u001b[0mkey\u001b[0m\u001b[0;34m)\u001b[0m\u001b[0;34m\u001b[0m\u001b[0;34m\u001b[0m\u001b[0m\n\u001b[0m\u001b[1;32m   2903\u001b[0m             \u001b[0;32mif\u001b[0m \u001b[0mis_integer\u001b[0m\u001b[0;34m(\u001b[0m\u001b[0mindexer\u001b[0m\u001b[0;34m)\u001b[0m\u001b[0;34m:\u001b[0m\u001b[0;34m\u001b[0m\u001b[0;34m\u001b[0m\u001b[0m\n\u001b[1;32m   2904\u001b[0m                 \u001b[0mindexer\u001b[0m \u001b[0;34m=\u001b[0m \u001b[0;34m[\u001b[0m\u001b[0mindexer\u001b[0m\u001b[0;34m]\u001b[0m\u001b[0;34m\u001b[0m\u001b[0;34m\u001b[0m\u001b[0m\n",
      "\u001b[0;32m~/opt/anaconda3/envs/Citi/lib/python3.8/site-packages/pandas/core/indexes/base.py\u001b[0m in \u001b[0;36mget_loc\u001b[0;34m(self, key, method, tolerance)\u001b[0m\n\u001b[1;32m   2891\u001b[0m                 \u001b[0;32mreturn\u001b[0m \u001b[0mself\u001b[0m\u001b[0;34m.\u001b[0m\u001b[0m_engine\u001b[0m\u001b[0;34m.\u001b[0m\u001b[0mget_loc\u001b[0m\u001b[0;34m(\u001b[0m\u001b[0mcasted_key\u001b[0m\u001b[0;34m)\u001b[0m\u001b[0;34m\u001b[0m\u001b[0;34m\u001b[0m\u001b[0m\n\u001b[1;32m   2892\u001b[0m             \u001b[0;32mexcept\u001b[0m \u001b[0mKeyError\u001b[0m \u001b[0;32mas\u001b[0m \u001b[0merr\u001b[0m\u001b[0;34m:\u001b[0m\u001b[0;34m\u001b[0m\u001b[0;34m\u001b[0m\u001b[0m\n\u001b[0;32m-> 2893\u001b[0;31m                 \u001b[0;32mraise\u001b[0m \u001b[0mKeyError\u001b[0m\u001b[0;34m(\u001b[0m\u001b[0mkey\u001b[0m\u001b[0;34m)\u001b[0m \u001b[0;32mfrom\u001b[0m \u001b[0merr\u001b[0m\u001b[0;34m\u001b[0m\u001b[0;34m\u001b[0m\u001b[0m\n\u001b[0m\u001b[1;32m   2894\u001b[0m \u001b[0;34m\u001b[0m\u001b[0m\n\u001b[1;32m   2895\u001b[0m         \u001b[0;32mif\u001b[0m \u001b[0mtolerance\u001b[0m \u001b[0;32mis\u001b[0m \u001b[0;32mnot\u001b[0m \u001b[0;32mNone\u001b[0m\u001b[0;34m:\u001b[0m\u001b[0;34m\u001b[0m\u001b[0;34m\u001b[0m\u001b[0m\n",
      "\u001b[0;31mKeyError\u001b[0m: 'self.__res_bin'"
     ]
    }
   ],
   "source": [
    "medium_twap = TWAP(trade_interval=5, out_of_sample_file_name='TBT_TBF_9_28_data.csv')"
   ]
  },
  {
   "cell_type": "markdown",
   "id": "cf3a624b",
   "metadata": {},
   "source": [
    "## Random TWAP"
   ]
  },
  {
   "cell_type": "code",
   "execution_count": null,
   "id": "edf61c1e",
   "metadata": {},
   "outputs": [],
   "source": [
    "r11, r12 = quick_twap.random_twap()\n",
    "r51, r52 = medium_twap.random_twap()\n",
    "r101, r102 = slow_twap.random_twap()\n",
    "r201, r202 = very_slow_twap.random_twap()"
   ]
  },
  {
   "cell_type": "code",
   "execution_count": null,
   "id": "9aa23b48",
   "metadata": {},
   "outputs": [],
   "source": [
    "(CI(r11), CI(r12))"
   ]
  },
  {
   "cell_type": "code",
   "execution_count": null,
   "id": "1612ec8c",
   "metadata": {},
   "outputs": [],
   "source": [
    "(CI(r51), CI(r52))"
   ]
  },
  {
   "cell_type": "code",
   "execution_count": null,
   "id": "d448b015",
   "metadata": {},
   "outputs": [],
   "source": [
    "(CI(r101), CI(r102))"
   ]
  },
  {
   "cell_type": "code",
   "execution_count": null,
   "id": "04fe6954",
   "metadata": {},
   "outputs": [],
   "source": [
    "(CI(r201), CI(r202))"
   ]
  },
  {
   "cell_type": "markdown",
   "id": "390499a6",
   "metadata": {},
   "source": [
    "## Optimal TWAP"
   ]
  },
  {
   "cell_type": "code",
   "execution_count": null,
   "id": "0c5934b9",
   "metadata": {},
   "outputs": [],
   "source": [
    "o11, o12 = quick_twap.optimal_twap()\n",
    "o51, o52 = medium_twap.optimal_twap()\n",
    "o101, o102 = slow_twap.optimal_twap()\n",
    "o201, o202 = very_slow_twap.optimal_twap()"
   ]
  },
  {
   "cell_type": "code",
   "execution_count": null,
   "id": "8da4cf62",
   "metadata": {},
   "outputs": [],
   "source": [
    "(CI(o11), CI(o12))"
   ]
  },
  {
   "cell_type": "code",
   "execution_count": null,
   "id": "6a25cf18",
   "metadata": {},
   "outputs": [],
   "source": [
    "(CI(o51), CI(o52))"
   ]
  },
  {
   "cell_type": "code",
   "execution_count": null,
   "id": "87558701",
   "metadata": {},
   "outputs": [],
   "source": [
    "(CI(o101), CI(o102))"
   ]
  },
  {
   "cell_type": "code",
   "execution_count": null,
   "id": "a7510477",
   "metadata": {},
   "outputs": [],
   "source": [
    "(CI(o201), CI(o202))"
   ]
  },
  {
   "cell_type": "markdown",
   "id": "8cb807ce",
   "metadata": {},
   "source": [
    "## Continuous TWAP"
   ]
  },
  {
   "cell_type": "markdown",
   "id": "4d4afd0d",
   "metadata": {},
   "source": [
    "### No Threshold"
   ]
  },
  {
   "cell_type": "code",
   "execution_count": null,
   "id": "8e49a3b3",
   "metadata": {
    "scrolled": true
   },
   "outputs": [],
   "source": [
    "c110, c120 = quick_twap.continuous_twap(threshold=0, verbose=True)\n",
    "c510, c520 = medium_twap.continuous_twap(threshold=0, verbose=True)\n",
    "c1010, c1020 = slow_twap.continuous_twap(threshold=0, verbose=True)\n",
    "c2010, c2020 = very_slow_twap.continuous_twap(threshold=0, verbose=True)"
   ]
  },
  {
   "cell_type": "code",
   "execution_count": null,
   "id": "a226aa7b",
   "metadata": {},
   "outputs": [],
   "source": [
    "(CI(c110), CI(c120))"
   ]
  },
  {
   "cell_type": "code",
   "execution_count": null,
   "id": "52b8fd27",
   "metadata": {},
   "outputs": [],
   "source": [
    "(CI(c510), CI(c520))"
   ]
  },
  {
   "cell_type": "code",
   "execution_count": null,
   "id": "c5f712a5",
   "metadata": {},
   "outputs": [],
   "source": [
    "(CI(c1010), CI(c1020))"
   ]
  },
  {
   "cell_type": "code",
   "execution_count": null,
   "id": "42a22959",
   "metadata": {},
   "outputs": [],
   "source": [
    "(CI(c2010), CI(c2020))"
   ]
  },
  {
   "cell_type": "markdown",
   "id": "d4ba00f2",
   "metadata": {},
   "source": [
    "### Medium Threshold"
   ]
  },
  {
   "cell_type": "code",
   "execution_count": null,
   "id": "001fb8e4",
   "metadata": {},
   "outputs": [],
   "source": [
    "c11015, c12015 = quick_twap.continuous_twap(threshold=0.15, verbose=True)\n",
    "c51015, c52015 = medium_twap.continuous_twap(threshold=0.15, verbose=True)\n",
    "c101015, c102015 = slow_twap.continuous_twap(threshold=0.15, verbose=True)\n",
    "c201015, c202015 = very_slow_twap.continuous_twap(threshold=0.15, verbose=True)"
   ]
  },
  {
   "cell_type": "code",
   "execution_count": null,
   "id": "d83f023d",
   "metadata": {},
   "outputs": [],
   "source": [
    "(CI(c11015), CI(c12015))"
   ]
  },
  {
   "cell_type": "code",
   "execution_count": null,
   "id": "95601ebf",
   "metadata": {},
   "outputs": [],
   "source": [
    "(CI(c51015), CI(c52015))"
   ]
  },
  {
   "cell_type": "code",
   "execution_count": null,
   "id": "9e50659e",
   "metadata": {},
   "outputs": [],
   "source": [
    "(CI(c101015), CI(c102015))"
   ]
  },
  {
   "cell_type": "code",
   "execution_count": null,
   "id": "90a2a376",
   "metadata": {},
   "outputs": [],
   "source": [
    "(CI(c201015), CI(c202015))"
   ]
  },
  {
   "cell_type": "markdown",
   "id": "48f7ce7d",
   "metadata": {},
   "source": [
    "### Large Threshold"
   ]
  },
  {
   "cell_type": "code",
   "execution_count": null,
   "id": "84544e9a",
   "metadata": {},
   "outputs": [],
   "source": [
    "c1103, c1203 = quick_twap.continuous_twap(threshold=0.3, verbose=True)\n",
    "c5103, c5203 = medium_twap.continuous_twap(threshold=0.3, verbose=True)\n",
    "c10103, c10203 = slow_twap.continuous_twap(threshold=0.3, verbose=True)\n",
    "c20103, c20203 = very_slow_twap.continuous_twap(threshold=0.3, verbose=True)"
   ]
  },
  {
   "cell_type": "code",
   "execution_count": null,
   "id": "d4809570",
   "metadata": {},
   "outputs": [],
   "source": [
    "(CI(c1103), CI(c1203))"
   ]
  },
  {
   "cell_type": "code",
   "execution_count": null,
   "id": "13053aa1",
   "metadata": {},
   "outputs": [],
   "source": [
    "(CI(c5103), CI(c5203))"
   ]
  },
  {
   "cell_type": "code",
   "execution_count": null,
   "id": "9a60f26c",
   "metadata": {},
   "outputs": [],
   "source": [
    "(CI(c10103), CI(c10203))"
   ]
  },
  {
   "cell_type": "code",
   "execution_count": null,
   "id": "ab2c1e73",
   "metadata": {},
   "outputs": [],
   "source": [
    "(CI(c20103), CI(c20203))"
   ]
  }
 ],
 "metadata": {
  "kernelspec": {
   "display_name": "Python 3 (ipykernel)",
   "language": "python",
   "name": "python3"
  },
  "language_info": {
   "codemirror_mode": {
    "name": "ipython",
    "version": 3
   },
   "file_extension": ".py",
   "mimetype": "text/x-python",
   "name": "python",
   "nbconvert_exporter": "python",
   "pygments_lexer": "ipython3",
   "version": "3.8.11"
  }
 },
 "nbformat": 4,
 "nbformat_minor": 5
}
