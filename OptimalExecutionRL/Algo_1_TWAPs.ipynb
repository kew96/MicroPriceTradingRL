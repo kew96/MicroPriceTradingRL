{
 "cells": [
  {
   "cell_type": "code",
   "execution_count": 7,
   "id": "0c2e092f",
   "metadata": {
    "pycharm": {
     "is_executing": false
    }
   },
   "outputs": [],
   "source": [
    "import numpy as np\n",
    "import pandas as pd\n",
    "from tqdm.auto import tqdm, trange\n",
    "from matplotlib import pyplot as plt\n",
    "\n",
    "from micro_price_trading import Preprocess, TwoAssetSimulation\n",
    "from micro_price_trading.config import TWENTY_SECOND_DAY, DATA_PATH"
   ]
  },
  {
   "cell_type": "code",
   "execution_count": 8,
   "id": "8451ebb7",
   "metadata": {},
   "outputs": [],
   "source": [
    "raw = Preprocess('Test_TBT_TBF_data.csv')\n",
    "data = raw.process()"
   ]
  },
  {
   "cell_type": "code",
   "execution_count": 9,
   "id": "5212a110",
   "metadata": {},
   "outputs": [],
   "source": [
    "with open('simulations.npy', 'rb') as file:\n",
    "    input_data = np.load(file)"
   ]
  },
  {
   "cell_type": "code",
   "execution_count": 10,
   "id": "b9fc55d5",
   "metadata": {},
   "outputs": [],
   "source": [
    "q_values = pd.read_csv(DATA_PATH.joinpath('q_values_9_27.csv'), index_col=0)"
   ]
  },
  {
   "cell_type": "code",
   "execution_count": 11,
   "id": "51813d73",
   "metadata": {},
   "outputs": [],
   "source": [
    "def CI(array, confidence = .95):\n",
    "    half_width = 1.96*array.std()/np.sqrt(len(array))\n",
    "    mu = array.mean()\n",
    "    return mu - half_width, mu, mu + half_width"
   ]
  },
  {
   "cell_type": "code",
   "execution_count": 12,
   "id": "5a50a7bd",
   "metadata": {},
   "outputs": [],
   "source": [
    "def optimal_twap(t):\n",
    "\n",
    "    avg_prices_1, avg_prices_2 = [], []\n",
    "\n",
    "    indices_to_buy_at = np.array([idx for idx in range(t, TWENTY_SECOND_DAY+1, t)])\n",
    "\n",
    "    for sim in input_data:\n",
    "\n",
    "        q_values_binary = (q_values.iloc[sim[indices_to_buy_at,0]]['Long/Short'] > \n",
    "                           q_values.iloc[sim[indices_to_buy_at,0]]['Short/Long']).values\n",
    "\n",
    "\n",
    "        indices_to_buy_asset_1 = indices_to_buy_at[np.where(q_values_binary)[0]]\n",
    "        indices_to_buy_asset_2 = indices_to_buy_at[np.where(~q_values_binary)[0]]\n",
    "\n",
    "        avg_prices_1.append(sim[indices_to_buy_asset_1,1].mean())\n",
    "        avg_prices_2.append(sim[indices_to_buy_asset_1,2].mean())\n",
    "\n",
    "    return np.array(avg_prices_1), np.array(avg_prices_2)\n"
   ]
  },
  {
   "cell_type": "code",
   "execution_count": 13,
   "id": "8b739c83",
   "metadata": {},
   "outputs": [
    {
     "data": {
      "text/plain": [
       "((18.31291700450401, 18.315084017189346, 18.317251029874683),\n",
       " (16.660120735978804, 16.66130504218239, 16.66248934838598))"
      ]
     },
     "execution_count": 13,
     "metadata": {},
     "output_type": "execute_result"
    }
   ],
   "source": [
    "avg_prices_1, avg_prices_2 = optimal_twap(5)\n",
    "CI(avg_prices_1), CI(avg_prices_2)"
   ]
  },
  {
   "cell_type": "code",
   "execution_count": 8,
   "id": "3e064a42",
   "metadata": {},
   "outputs": [
    {
     "data": {
      "text/plain": [
       "\" ATTEMPT AT VECTORIZING FOR EFFICIENY\\n\\ndef optimal_twap(t):\\n    indices_to_buy_at = np.array([idx for idx in range(t, TWENTY_SECOND_DAY+1, t)])\\n\\n    q_values_binary = (q_values.iloc[input_data[:,indices_to_buy_at,0].flatten()]['Long/Short'] >\\n                       q_values.iloc[input_data[:,indices_to_buy_at,0].flatten()]['Short/Long']).values\\n    q_values_binary = q_values_binary.reshape(size)\\n\\n    temp = np.where(q_values_binary)\\n    temp_inv = np.where(~q_values_binary)\\n\\n    indices_to_buy_asset_1 = indices_to_buy_at[temp[1]]\\n    indices_to_buy_asset_2 = indices_to_buy_at[temp_inv[1]]\\n\\n    avg_prices_1 = input_data[temp[0],\\n                              indices_to_buy_asset_1,\\n                              1]\\n\\n    avg_prices_2 = input_data[temp_inv[1],\\n                              indices_to_buy_asset_2,\\n                              2]\\n\\n\\n    return avg_prices_1, avg_prices_2\""
      ]
     },
     "execution_count": 8,
     "metadata": {},
     "output_type": "execute_result"
    }
   ],
   "source": [
    "''' ATTEMPT AT VECTORIZING FOR EFFICIENY\n",
    "\n",
    "def optimal_twap(t):\n",
    "    indices_to_buy_at = np.array([idx for idx in range(t, TWENTY_SECOND_DAY+1, t)])\n",
    "\n",
    "    q_values_binary = (q_values.iloc[input_data[:,indices_to_buy_at,0].flatten()]['Long/Short'] >\n",
    "                       q_values.iloc[input_data[:,indices_to_buy_at,0].flatten()]['Short/Long']).values\n",
    "    q_values_binary = q_values_binary.reshape(size)\n",
    "\n",
    "    temp = np.where(q_values_binary)\n",
    "    temp_inv = np.where(~q_values_binary)\n",
    "\n",
    "    indices_to_buy_asset_1 = indices_to_buy_at[temp[1]]\n",
    "    indices_to_buy_asset_2 = indices_to_buy_at[temp_inv[1]]\n",
    "\n",
    "    avg_prices_1 = input_data[temp[0],\n",
    "                              indices_to_buy_asset_1,\n",
    "                              1]\n",
    "\n",
    "    avg_prices_2 = input_data[temp_inv[1],\n",
    "                              indices_to_buy_asset_2,\n",
    "                              2]\n",
    "\n",
    "\n",
    "    return avg_prices_1, avg_prices_2'''"
   ]
  }
 ],
 "metadata": {
  "kernelspec": {
   "display_name": "Python 3 (ipykernel)",
   "language": "python",
   "name": "python3"
  },
  "language_info": {
   "codemirror_mode": {
    "name": "ipython",
    "version": 3
   },
   "file_extension": ".py",
   "mimetype": "text/x-python",
   "name": "python",
   "nbconvert_exporter": "python",
   "pygments_lexer": "ipython3",
   "version": "3.8.11"
  }
 },
 "nbformat": 4,
 "nbformat_minor": 5
}
