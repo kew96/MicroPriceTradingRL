{
 "cells": [
  {
   "cell_type": "code",
   "execution_count": 1,
   "id": "0c2e092f",
   "metadata": {
    "pycharm": {
     "is_executing": false
    }
   },
   "outputs": [],
   "source": [
    "import numpy as np\n",
    "import pandas as pd\n",
    "from tqdm.auto import tqdm, trange\n",
    "from matplotlib import pyplot as plt\n",
    "\n",
    "from micro_price_trading import Preprocess, TwoAssetSimulation\n",
    "from micro_price_trading.config import TWENTY_SECOND_DAY, DATA_PATH"
   ]
  },
  {
   "cell_type": "code",
   "execution_count": 2,
   "id": "8451ebb7",
   "metadata": {},
   "outputs": [],
   "source": [
    "raw = Preprocess('Test_TBT_TBF_data.csv')\n",
    "data = raw.process()"
   ]
  },
  {
   "cell_type": "code",
   "execution_count": 3,
   "id": "3c0b2342",
   "metadata": {},
   "outputs": [],
   "source": [
    "with open('simulations.npy', 'rb') as file:\n",
    "    input_data = np.load(file)"
   ]
  },
  {
   "cell_type": "code",
   "execution_count": 4,
   "id": "b9fc55d5",
   "metadata": {},
   "outputs": [],
   "source": [
    "q_values = pd.read_csv(DATA_PATH.joinpath('q_values_9_27.csv'), index_col=0)"
   ]
  },
  {
   "cell_type": "code",
   "execution_count": 5,
   "id": "21ea1159",
   "metadata": {},
   "outputs": [],
   "source": [
    "def CI(array, confidence = .95):\n",
    "    half_width = 1.96*array.std()/np.sqrt(len(array))\n",
    "    mu = array.mean()\n",
    "    return mu - half_width, mu + half_width"
   ]
  },
  {
   "cell_type": "code",
   "execution_count": 6,
   "id": "5a50a7bd",
   "metadata": {},
   "outputs": [],
   "source": [
    "def optimal_twap(t):\n",
    "    indices_to_buy_at = [idx for idx in range(0, TWENTY_SECOND_DAY, t)]\n",
    "    q_values_binary = (q_values.iloc[input_data[0,indices_to_buy_at,0]]['Long/Short'] >\n",
    "                       q_values.iloc[input_data[0,indices_to_buy_at,0]]['Short/Long']).values\n",
    "    \n",
    "    indices_to_buy_asset_1 = np.where(q_values_binary)[0]\n",
    "    indices_to_buy_asset_2 = np.where(~q_values_binary)[0]\n",
    "    \n",
    "    avg_prices_1 = input_data[:,indices_to_buy_asset_1, 1].mean(axis = 1)\n",
    "    avg_prices_2 = input_data[:,indices_to_buy_asset_2, 2].mean(axis = 1)\n",
    "\n",
    "    return avg_prices_1, avg_prices_2"
   ]
  },
  {
   "cell_type": "code",
   "execution_count": null,
   "outputs": [],
   "source": [
    "(CI(optimal_twap(10)[0]),\n",
    " CI(optimal_twap(10)[1]))"
   ],
   "metadata": {
    "collapsed": false,
    "pycharm": {
     "name": "#%%\n"
    }
   }
  },
  {
   "cell_type": "code",
   "execution_count": 7,
   "id": "af2c945c",
   "metadata": {},
   "outputs": [
    {
     "data": {
      "text/plain": [
       "((18.29869510546961, 18.301664288469784),\n",
       " (16.65529484796928, 16.65670668144248))"
      ]
     },
     "execution_count": 7,
     "metadata": {},
     "output_type": "execute_result"
    }
   ],
   "source": []
  },
  {
   "cell_type": "code",
   "execution_count": null,
   "id": "bf3dfeef",
   "metadata": {},
   "outputs": [],
   "source": []
  }
 ],
 "metadata": {
  "kernelspec": {
   "display_name": "Python 3 (ipykernel)",
   "language": "python",
   "name": "python3"
  },
  "language_info": {
   "codemirror_mode": {
    "name": "ipython",
    "version": 3
   },
   "file_extension": ".py",
   "mimetype": "text/x-python",
   "name": "python",
   "nbconvert_exporter": "python",
   "pygments_lexer": "ipython3",
   "version": "3.8.11"
  },
  "pycharm": {
   "stem_cell": {
    "cell_type": "raw",
    "source": [],
    "metadata": {
     "collapsed": false
    }
   }
  }
 },
 "nbformat": 4,
 "nbformat_minor": 5
}