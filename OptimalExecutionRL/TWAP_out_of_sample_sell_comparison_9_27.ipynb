{
 "cells": [
  {
   "cell_type": "markdown",
   "id": "fb50d60d",
   "metadata": {},
   "source": [
    "# TWAP Comparison - 9/27"
   ]
  },
  {
   "cell_type": "code",
   "execution_count": 1,
   "id": "b2cc3e70",
   "metadata": {},
   "outputs": [],
   "source": [
    "from micro_price_trading import TWAP\n",
    "from micro_price_trading.utils import CI, compare_executions"
   ]
  },
  {
   "cell_type": "markdown",
   "id": "5080259e",
   "metadata": {},
   "source": [
    "## Setup"
   ]
  },
  {
   "cell_type": "code",
   "execution_count": 2,
   "id": "15fac114",
   "metadata": {},
   "outputs": [],
   "source": [
    "quick_twap = TWAP(trade_interval=3, buy=False, in_sample_file_name='TBT_TBF_9_24_data.csv', out_of_sample_file_name='TBT_TBF_9_27_data.csv')\n",
    "medium_twap = TWAP(trade_interval=9, buy=False, in_sample_file_name='TBT_TBF_9_24_data.csv', out_of_sample_file_name='TBT_TBF_9_27_data.csv')\n",
    "slow_twap = TWAP(trade_interval=30, buy=False, in_sample_file_name='TBT_TBF_9_24_data.csv', out_of_sample_file_name='TBT_TBF_9_27_data.csv')"
   ]
  },
  {
   "cell_type": "markdown",
   "id": "cf3a624b",
   "metadata": {},
   "source": [
    "## Random TWAP"
   ]
  },
  {
   "cell_type": "code",
   "execution_count": 3,
   "id": "edf61c1e",
   "metadata": {},
   "outputs": [],
   "source": [
    "r11, r12 = quick_twap.random_twap()\n",
    "r31, r32 = medium_twap.random_twap()\n",
    "r101, r102 = slow_twap.random_twap()"
   ]
  },
  {
   "cell_type": "code",
   "execution_count": 4,
   "id": "9aa23b48",
   "metadata": {},
   "outputs": [
    {
     "data": {
      "text/plain": [
       "((nan, 17.7994, nan), (nan, 16.4223, nan))"
      ]
     },
     "execution_count": 4,
     "metadata": {},
     "output_type": "execute_result"
    }
   ],
   "source": [
    "(CI(r11), CI(r12))"
   ]
  },
  {
   "cell_type": "code",
   "execution_count": 5,
   "id": "1612ec8c",
   "metadata": {},
   "outputs": [
    {
     "data": {
      "text/plain": [
       "((nan, 17.8, nan), (nan, 16.4221, nan))"
      ]
     },
     "execution_count": 5,
     "metadata": {},
     "output_type": "execute_result"
    }
   ],
   "source": [
    "(CI(r31), CI(r32))"
   ]
  },
  {
   "cell_type": "code",
   "execution_count": 6,
   "id": "d448b015",
   "metadata": {},
   "outputs": [
    {
     "data": {
      "text/plain": [
       "((nan, 17.8032, nan), (nan, 16.4205, nan))"
      ]
     },
     "execution_count": 6,
     "metadata": {},
     "output_type": "execute_result"
    }
   ],
   "source": [
    "(CI(r101), CI(r102))"
   ]
  },
  {
   "cell_type": "markdown",
   "id": "390499a6",
   "metadata": {},
   "source": [
    "## Optimal TWAP"
   ]
  },
  {
   "cell_type": "code",
   "execution_count": 7,
   "id": "0c5934b9",
   "metadata": {},
   "outputs": [],
   "source": [
    "o11, o12 = quick_twap.optimal_twap()\n",
    "o31, o32 = medium_twap.optimal_twap()\n",
    "o101, o102 = slow_twap.optimal_twap()"
   ]
  },
  {
   "cell_type": "code",
   "execution_count": 8,
   "id": "09ffae3e",
   "metadata": {},
   "outputs": [
    {
     "data": {
      "text/plain": [
       "((nan, 5.9438, nan), (nan, 25.3943, nan))"
      ]
     },
     "execution_count": 8,
     "metadata": {},
     "output_type": "execute_result"
    }
   ],
   "source": [
    "(compare_executions(r11, o11, buy=False), compare_executions(r12, o12, buy=False))"
   ]
  },
  {
   "cell_type": "code",
   "execution_count": 9,
   "id": "c09ac759",
   "metadata": {},
   "outputs": [
    {
     "data": {
      "text/plain": [
       "((nan, -1.6885, nan), (nan, 35.1361, nan))"
      ]
     },
     "execution_count": 9,
     "metadata": {},
     "output_type": "execute_result"
    }
   ],
   "source": [
    "(compare_executions(r31, o31, buy=False), compare_executions(r12, o32, buy=False))"
   ]
  },
  {
   "cell_type": "code",
   "execution_count": 10,
   "id": "7d0ac141",
   "metadata": {},
   "outputs": [
    {
     "data": {
      "text/plain": [
       "((nan, -33.0484, nan), (nan, 31.1688, nan))"
      ]
     },
     "execution_count": 10,
     "metadata": {},
     "output_type": "execute_result"
    }
   ],
   "source": [
    "(compare_executions(r101, o101, buy=False), compare_executions(r102, o102, buy=False))"
   ]
  },
  {
   "cell_type": "markdown",
   "id": "8cb807ce",
   "metadata": {},
   "source": [
    "## Continuous TWAP"
   ]
  },
  {
   "cell_type": "markdown",
   "id": "4d4afd0d",
   "metadata": {},
   "source": [
    "### No Threshold"
   ]
  },
  {
   "cell_type": "code",
   "execution_count": 11,
   "id": "8e49a3b3",
   "metadata": {
    "scrolled": true
   },
   "outputs": [],
   "source": [
    "c110, c120 = quick_twap.continuous_twap(threshold=0)\n",
    "c310, c320 = medium_twap.continuous_twap(threshold=0)\n",
    "c1010, c1020 = slow_twap.continuous_twap(threshold=0)"
   ]
  },
  {
   "cell_type": "code",
   "execution_count": 12,
   "id": "bb9c7d1f",
   "metadata": {},
   "outputs": [
    {
     "data": {
      "text/plain": [
       "((-20.4545, 4.1833, 28.821099999999998), (-12.7398, -1.3778, 9.9842))"
      ]
     },
     "execution_count": 12,
     "metadata": {},
     "output_type": "execute_result"
    }
   ],
   "source": [
    "(compare_executions(r11, c110, buy=False), compare_executions(r12, c120, buy=False))"
   ]
  },
  {
   "cell_type": "code",
   "execution_count": 13,
   "id": "f8c70b92",
   "metadata": {},
   "outputs": [
    {
     "data": {
      "text/plain": [
       "((-41.1095, 0.7485, 42.6065), (-20.066200000000002, -0.4219, 19.2224))"
      ]
     },
     "execution_count": 13,
     "metadata": {},
     "output_type": "execute_result"
    }
   ],
   "source": [
    "(compare_executions(r31, c310, buy=False), compare_executions(r12, c320, buy=False))"
   ]
  },
  {
   "cell_type": "code",
   "execution_count": 14,
   "id": "f1a1ea66",
   "metadata": {},
   "outputs": [
    {
     "data": {
      "text/plain": [
       "((-106.3806, -30.2098, 45.961), (-16.0324, 19.0461, 54.1246))"
      ]
     },
     "execution_count": 14,
     "metadata": {},
     "output_type": "execute_result"
    }
   ],
   "source": [
    "(compare_executions(r101, c1010, buy=False), compare_executions(r102, c1020, buy=False))"
   ]
  },
  {
   "cell_type": "markdown",
   "id": "d4ba00f2",
   "metadata": {},
   "source": [
    "### Medium Threshold"
   ]
  },
  {
   "cell_type": "code",
   "execution_count": 15,
   "id": "001fb8e4",
   "metadata": {},
   "outputs": [],
   "source": [
    "c11015, c12015 = quick_twap.continuous_twap(threshold=0.15)\n",
    "c31015, c32015 = medium_twap.continuous_twap(threshold=0.15)\n",
    "c101015, c102015 = slow_twap.continuous_twap(threshold=0.15)"
   ]
  },
  {
   "cell_type": "code",
   "execution_count": 16,
   "id": "06353383",
   "metadata": {},
   "outputs": [
    {
     "data": {
      "text/plain": [
       "((4.785200000000003, 32.8466, 60.908), (-12.918899999999999, -1.539, 9.8409))"
      ]
     },
     "execution_count": 16,
     "metadata": {},
     "output_type": "execute_result"
    }
   ],
   "source": [
    "(compare_executions(r11, c11015, buy=False), compare_executions(r12, c12015, buy=False))"
   ]
  },
  {
   "cell_type": "code",
   "execution_count": 17,
   "id": "a8811be0",
   "metadata": {},
   "outputs": [
    {
     "data": {
      "text/plain": [
       "((-26.6033, 18.9415, 64.4863), (-20.2562, -0.5377, 19.180799999999998))"
      ]
     },
     "execution_count": 17,
     "metadata": {},
     "output_type": "execute_result"
    }
   ],
   "source": [
    "(compare_executions(r31, c31015, buy=False), compare_executions(r12, c32015, buy=False))"
   ]
  },
  {
   "cell_type": "code",
   "execution_count": 18,
   "id": "49539498",
   "metadata": {},
   "outputs": [
    {
     "data": {
      "text/plain": [
       "((-99.1415, -21.2363, 56.668899999999994), (-16.0324, 19.0461, 54.1246))"
      ]
     },
     "execution_count": 18,
     "metadata": {},
     "output_type": "execute_result"
    }
   ],
   "source": [
    "(compare_executions(r101, c101015, buy=False), compare_executions(r102, c102015, buy=False))"
   ]
  },
  {
   "cell_type": "markdown",
   "id": "48f7ce7d",
   "metadata": {},
   "source": [
    "### Large Threshold"
   ]
  },
  {
   "cell_type": "code",
   "execution_count": 19,
   "id": "84544e9a",
   "metadata": {},
   "outputs": [],
   "source": [
    "c1103, c1203 = quick_twap.continuous_twap(threshold=0.3)\n",
    "c3103, c3203 = medium_twap.continuous_twap(threshold=0.3)\n",
    "c10103, c10203 = slow_twap.continuous_twap(threshold=0.3)"
   ]
  },
  {
   "cell_type": "code",
   "execution_count": 20,
   "id": "cb3056c2",
   "metadata": {},
   "outputs": [
    {
     "data": {
      "text/plain": [
       "((143.8496, 206.2774, 268.7052), (-16.6806, -5.5311, 5.618399999999999))"
      ]
     },
     "execution_count": 20,
     "metadata": {},
     "output_type": "execute_result"
    }
   ],
   "source": [
    "(compare_executions(r11, c1103, buy=False), compare_executions(r12, c1203, buy=False))"
   ]
  },
  {
   "cell_type": "code",
   "execution_count": 21,
   "id": "0850d6a9",
   "metadata": {},
   "outputs": [
    {
     "data": {
      "text/plain": [
       "((97.55839999999999, 183.8559, 270.1534),\n",
       " (-19.441499999999998, 0.2436, 19.9287))"
      ]
     },
     "execution_count": 21,
     "metadata": {},
     "output_type": "execute_result"
    }
   ],
   "source": [
    "(compare_executions(r31, c3103, buy=False), compare_executions(r12, c3203, buy=False))"
   ]
  },
  {
   "cell_type": "code",
   "execution_count": 22,
   "id": "cc605a7a",
   "metadata": {},
   "outputs": [
    {
     "data": {
      "text/plain": [
       "((-22.096999999999994, 91.1863, 204.4696),\n",
       " (-13.879199999999997, 21.1588, 56.196799999999996))"
      ]
     },
     "execution_count": 22,
     "metadata": {},
     "output_type": "execute_result"
    }
   ],
   "source": [
    "(compare_executions(r101, c10103, buy=False), compare_executions(r102, c10203, buy=False))"
   ]
  }
 ],
 "metadata": {
  "kernelspec": {
   "display_name": "Python 3 (ipykernel)",
   "language": "python",
   "name": "python3"
  },
  "language_info": {
   "codemirror_mode": {
    "name": "ipython",
    "version": 3
   },
   "file_extension": ".py",
   "mimetype": "text/x-python",
   "name": "python",
   "nbconvert_exporter": "python",
   "pygments_lexer": "ipython3",
   "version": "3.8.11"
  }
 },
 "nbformat": 4,
 "nbformat_minor": 5
}
