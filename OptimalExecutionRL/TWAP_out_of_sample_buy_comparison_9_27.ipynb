{
 "cells": [
  {
   "cell_type": "markdown",
   "id": "fb50d60d",
   "metadata": {},
   "source": [
    "# TWAP Comparison - 9/27"
   ]
  },
  {
   "cell_type": "code",
   "execution_count": 1,
   "id": "b2cc3e70",
   "metadata": {},
   "outputs": [],
   "source": [
    "from micro_price_trading import TWAP\n",
    "from micro_price_trading.utils import CI, compare_executions"
   ]
  },
  {
   "cell_type": "markdown",
   "id": "5080259e",
   "metadata": {},
   "source": [
    "## Setup"
   ]
  },
  {
   "cell_type": "code",
   "execution_count": 2,
   "id": "15fac114",
   "metadata": {},
   "outputs": [],
   "source": [
    "quick_twap = TWAP(trade_interval=3, in_sample_file_name='TBT_TBF_9_24_data.csv', out_of_sample_file_name='TBT_TBF_9_27_data.csv')\n",
    "medium_twap = TWAP(trade_interval=9, in_sample_file_name='TBT_TBF_9_24_data.csv', out_of_sample_file_name='TBT_TBF_9_27_data.csv')\n",
    "slow_twap = TWAP(trade_interval=30, in_sample_file_name='TBT_TBF_9_24_data.csv', out_of_sample_file_name='TBT_TBF_9_27_data.csv')"
   ]
  },
  {
   "cell_type": "markdown",
   "id": "cf3a624b",
   "metadata": {},
   "source": [
    "## Random TWAP"
   ]
  },
  {
   "cell_type": "code",
   "execution_count": 3,
   "id": "edf61c1e",
   "metadata": {},
   "outputs": [],
   "source": [
    "r11, r12 = quick_twap.random_twap()\n",
    "r31, r32 = medium_twap.random_twap()\n",
    "r101, r102 = slow_twap.random_twap()"
   ]
  },
  {
   "cell_type": "code",
   "execution_count": 4,
   "id": "9aa23b48",
   "metadata": {},
   "outputs": [
    {
     "data": {
      "text/plain": [
       "((nan, 17.8001, nan), (nan, 16.4217, nan))"
      ]
     },
     "execution_count": 4,
     "metadata": {},
     "output_type": "execute_result"
    }
   ],
   "source": [
    "(CI(r11), CI(r12))"
   ]
  },
  {
   "cell_type": "code",
   "execution_count": 5,
   "id": "1612ec8c",
   "metadata": {},
   "outputs": [
    {
     "data": {
      "text/plain": [
       "((nan, 17.8017, nan), (nan, 16.4214, nan))"
      ]
     },
     "execution_count": 5,
     "metadata": {},
     "output_type": "execute_result"
    }
   ],
   "source": [
    "(CI(r31), CI(r32))"
   ]
  },
  {
   "cell_type": "code",
   "execution_count": 6,
   "id": "d448b015",
   "metadata": {},
   "outputs": [
    {
     "data": {
      "text/plain": [
       "((nan, 17.7957, nan), (nan, 16.4239, nan))"
      ]
     },
     "execution_count": 6,
     "metadata": {},
     "output_type": "execute_result"
    }
   ],
   "source": [
    "(CI(r101), CI(r102))"
   ]
  },
  {
   "cell_type": "markdown",
   "id": "390499a6",
   "metadata": {},
   "source": [
    "## Optimal TWAP"
   ]
  },
  {
   "cell_type": "code",
   "execution_count": 7,
   "id": "0c5934b9",
   "metadata": {},
   "outputs": [],
   "source": [
    "o11, o12 = quick_twap.optimal_twap()\n",
    "o31, o32 = medium_twap.optimal_twap()\n",
    "o101, o102 = slow_twap.optimal_twap()"
   ]
  },
  {
   "cell_type": "code",
   "execution_count": 9,
   "id": "09ffae3e",
   "metadata": {},
   "outputs": [
    {
     "data": {
      "text/plain": [
       "((nan, 105.7142, nan), (nan, -3.9734, nan))"
      ]
     },
     "execution_count": 9,
     "metadata": {},
     "output_type": "execute_result"
    }
   ],
   "source": [
    "(compare_executions(r11, o11), compare_executions(r12, o12))"
   ]
  },
  {
   "cell_type": "code",
   "execution_count": 10,
   "id": "c09ac759",
   "metadata": {},
   "outputs": [
    {
     "data": {
      "text/plain": [
       "((nan, 96.6564, nan), (nan, -2.4084, nan))"
      ]
     },
     "execution_count": 10,
     "metadata": {},
     "output_type": "execute_result"
    }
   ],
   "source": [
    "(compare_executions(r31, o31), compare_executions(r12, o32))"
   ]
  },
  {
   "cell_type": "code",
   "execution_count": 11,
   "id": "7d0ac141",
   "metadata": {},
   "outputs": [
    {
     "data": {
      "text/plain": [
       "((nan, 92.9511, nan), (nan, 17.5421, nan))"
      ]
     },
     "execution_count": 11,
     "metadata": {},
     "output_type": "execute_result"
    }
   ],
   "source": [
    "(compare_executions(r101, o101), compare_executions(r102, o102))"
   ]
  },
  {
   "cell_type": "markdown",
   "id": "8cb807ce",
   "metadata": {},
   "source": [
    "## Continuous TWAP"
   ]
  },
  {
   "cell_type": "markdown",
   "id": "4d4afd0d",
   "metadata": {},
   "source": [
    "### No Threshold"
   ]
  },
  {
   "cell_type": "code",
   "execution_count": 12,
   "id": "8e49a3b3",
   "metadata": {
    "scrolled": true
   },
   "outputs": [],
   "source": [
    "c110, c120 = quick_twap.continuous_twap(threshold=0)\n",
    "c310, c320 = medium_twap.continuous_twap(threshold=0)\n",
    "c1010, c1020 = slow_twap.continuous_twap(threshold=0)"
   ]
  },
  {
   "cell_type": "code",
   "execution_count": 13,
   "id": "bb9c7d1f",
   "metadata": {},
   "outputs": [
    {
     "data": {
      "text/plain": [
       "((-11.0366, 11.9926, 35.0218), (-16.1479, -4.3865, 7.3749))"
      ]
     },
     "execution_count": 13,
     "metadata": {},
     "output_type": "execute_result"
    }
   ],
   "source": [
    "(compare_executions(r11, c110), compare_executions(r12, c120))"
   ]
  },
  {
   "cell_type": "code",
   "execution_count": 14,
   "id": "f8c70b92",
   "metadata": {},
   "outputs": [
    {
     "data": {
      "text/plain": [
       "((-11.2656, 28.7573, 68.78020000000001), (-24.2095, -3.8098, 16.5899))"
      ]
     },
     "execution_count": 14,
     "metadata": {},
     "output_type": "execute_result"
    }
   ],
   "source": [
    "(compare_executions(r31, c310), compare_executions(r12, c320))"
   ]
  },
  {
   "cell_type": "code",
   "execution_count": 15,
   "id": "f1a1ea66",
   "metadata": {},
   "outputs": [
    {
     "data": {
      "text/plain": [
       "((-100.08579999999999, -27.3269, 45.432),\n",
       " (-24.362899999999996, 12.9234, 50.2097))"
      ]
     },
     "execution_count": 15,
     "metadata": {},
     "output_type": "execute_result"
    }
   ],
   "source": [
    "(compare_executions(r101, c1010), compare_executions(r102, c1020))"
   ]
  },
  {
   "cell_type": "markdown",
   "id": "d4ba00f2",
   "metadata": {},
   "source": [
    "### Medium Threshold"
   ]
  },
  {
   "cell_type": "code",
   "execution_count": 16,
   "id": "001fb8e4",
   "metadata": {},
   "outputs": [],
   "source": [
    "c11015, c12015 = quick_twap.continuous_twap(threshold=0.15)\n",
    "c31015, c32015 = medium_twap.continuous_twap(threshold=0.15)\n",
    "c101015, c102015 = slow_twap.continuous_twap(threshold=0.15)"
   ]
  },
  {
   "cell_type": "code",
   "execution_count": 17,
   "id": "06353383",
   "metadata": {},
   "outputs": [
    {
     "data": {
      "text/plain": [
       "((-15.2761, 8.7546, 32.7853), (-19.426299999999998, -6.0328, 7.3607))"
      ]
     },
     "execution_count": 17,
     "metadata": {},
     "output_type": "execute_result"
    }
   ],
   "source": [
    "(compare_executions(r11, c11015), compare_executions(r12, c12015))"
   ]
  },
  {
   "cell_type": "code",
   "execution_count": 18,
   "id": "a8811be0",
   "metadata": {},
   "outputs": [
    {
     "data": {
      "text/plain": [
       "((-15.303099999999997, 26.3195, 67.9421),\n",
       " (-25.325200000000002, -3.6688, 17.9876))"
      ]
     },
     "execution_count": 18,
     "metadata": {},
     "output_type": "execute_result"
    }
   ],
   "source": [
    "(compare_executions(r31, c31015), compare_executions(r12, c32015))"
   ]
  },
  {
   "cell_type": "code",
   "execution_count": 19,
   "id": "49539498",
   "metadata": {},
   "outputs": [
    {
     "data": {
      "text/plain": [
       "((-108.7364, -33.2561, 42.224199999999996),\n",
       " (-17.281700000000004, 19.3939, 56.069500000000005))"
      ]
     },
     "execution_count": 19,
     "metadata": {},
     "output_type": "execute_result"
    }
   ],
   "source": [
    "(compare_executions(r101, c101015), compare_executions(r102, c102015))"
   ]
  },
  {
   "cell_type": "markdown",
   "id": "48f7ce7d",
   "metadata": {},
   "source": [
    "### Large Threshold"
   ]
  },
  {
   "cell_type": "code",
   "execution_count": 20,
   "id": "84544e9a",
   "metadata": {},
   "outputs": [],
   "source": [
    "c1103, c1203 = quick_twap.continuous_twap(threshold=0.3)\n",
    "c3103, c3203 = medium_twap.continuous_twap(threshold=0.3)\n",
    "c10103, c10203 = slow_twap.continuous_twap(threshold=0.3)"
   ]
  },
  {
   "cell_type": "code",
   "execution_count": 21,
   "id": "cb3056c2",
   "metadata": {},
   "outputs": [
    {
     "data": {
      "text/plain": [
       "((-3.835000000000001, 19.643, 43.121), (-82.3052, -52.0122, -21.7192))"
      ]
     },
     "execution_count": 21,
     "metadata": {},
     "output_type": "execute_result"
    }
   ],
   "source": [
    "(compare_executions(r11, c1103), compare_executions(r12, c1203))"
   ]
  },
  {
   "cell_type": "code",
   "execution_count": 22,
   "id": "0850d6a9",
   "metadata": {},
   "outputs": [
    {
     "data": {
      "text/plain": [
       "((-15.064799999999998, 26.522, 68.1088),\n",
       " (-87.1552, -45.032, -2.9087999999999994))"
      ]
     },
     "execution_count": 22,
     "metadata": {},
     "output_type": "execute_result"
    }
   ],
   "source": [
    "(compare_executions(r31, c3103), compare_executions(r12, c3203))"
   ]
  },
  {
   "cell_type": "code",
   "execution_count": 23,
   "id": "cc605a7a",
   "metadata": {},
   "outputs": [
    {
     "data": {
      "text/plain": [
       "((-112.2673, -36.7772, 38.7129), (-47.8583, 7.4662, 62.7907))"
      ]
     },
     "execution_count": 23,
     "metadata": {},
     "output_type": "execute_result"
    }
   ],
   "source": [
    "(compare_executions(r101, c10103), compare_executions(r102, c10203))"
   ]
  }
 ],
 "metadata": {
  "kernelspec": {
   "display_name": "Python 3 (ipykernel)",
   "language": "python",
   "name": "python3"
  },
  "language_info": {
   "codemirror_mode": {
    "name": "ipython",
    "version": 3
   },
   "file_extension": ".py",
   "mimetype": "text/x-python",
   "name": "python",
   "nbconvert_exporter": "python",
   "pygments_lexer": "ipython3",
   "version": "3.8.11"
  }
 },
 "nbformat": 4,
 "nbformat_minor": 5
}
