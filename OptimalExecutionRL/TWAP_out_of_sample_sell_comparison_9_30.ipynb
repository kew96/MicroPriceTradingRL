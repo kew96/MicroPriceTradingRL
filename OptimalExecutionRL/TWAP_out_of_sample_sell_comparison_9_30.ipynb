{
 "cells": [
  {
   "cell_type": "markdown",
   "id": "fb50d60d",
   "metadata": {},
   "source": [
    "# TWAP Comparison - 9/30"
   ]
  },
  {
   "cell_type": "code",
   "execution_count": 1,
   "id": "b2cc3e70",
   "metadata": {},
   "outputs": [],
   "source": [
    "from micro_price_trading import TWAP\n",
    "from micro_price_trading.utils import CI, compare_executions"
   ]
  },
  {
   "cell_type": "markdown",
   "id": "5080259e",
   "metadata": {},
   "source": [
    "## Setup"
   ]
  },
  {
   "cell_type": "code",
   "execution_count": 2,
   "id": "15fac114",
   "metadata": {},
   "outputs": [],
   "source": [
    "quick_twap = TWAP(trade_interval=3, buy=False, in_sample_file_name='TBT_TBF_9_30_data.csv', out_of_sample_file_name='TBT_TBF_9_29_data.csv')\n",
    "medium_twap = TWAP(trade_interval=9, buy=False, in_sample_file_name='TBT_TBF_9_30_data.csv', out_of_sample_file_name='TBT_TBF_9_29_data.csv')\n",
    "slow_twap = TWAP(trade_interval=30, buy=False, in_sample_file_name='TBT_TBF_9_30_data.csv', out_of_sample_file_name='TBT_TBF_9_29_data.csv')"
   ]
  },
  {
   "cell_type": "markdown",
   "id": "cf3a624b",
   "metadata": {},
   "source": [
    "## Random TWAP"
   ]
  },
  {
   "cell_type": "code",
   "execution_count": 3,
   "id": "edf61c1e",
   "metadata": {},
   "outputs": [],
   "source": [
    "r11, r12 = quick_twap.random_twap()\n",
    "r31, r32 = medium_twap.random_twap()\n",
    "r101, r102 = slow_twap.random_twap()"
   ]
  },
  {
   "cell_type": "code",
   "execution_count": 4,
   "id": "9aa23b48",
   "metadata": {},
   "outputs": [
    {
     "data": {
      "text/plain": [
       "((nan, 18.288, nan), (nan, 16.6489, nan))"
      ]
     },
     "execution_count": 4,
     "metadata": {},
     "output_type": "execute_result"
    }
   ],
   "source": [
    "(CI(r11), CI(r12))"
   ]
  },
  {
   "cell_type": "code",
   "execution_count": 5,
   "id": "1612ec8c",
   "metadata": {},
   "outputs": [
    {
     "data": {
      "text/plain": [
       "((nan, 18.2893, nan), (nan, 16.6483, nan))"
      ]
     },
     "execution_count": 5,
     "metadata": {},
     "output_type": "execute_result"
    }
   ],
   "source": [
    "(CI(r31), CI(r32))"
   ]
  },
  {
   "cell_type": "code",
   "execution_count": 6,
   "id": "d448b015",
   "metadata": {},
   "outputs": [
    {
     "data": {
      "text/plain": [
       "((nan, 18.2812, nan), (nan, 16.6514, nan))"
      ]
     },
     "execution_count": 6,
     "metadata": {},
     "output_type": "execute_result"
    }
   ],
   "source": [
    "(CI(r101), CI(r102))"
   ]
  },
  {
   "cell_type": "markdown",
   "id": "390499a6",
   "metadata": {},
   "source": [
    "## Optimal TWAP"
   ]
  },
  {
   "cell_type": "code",
   "execution_count": 7,
   "id": "0c5934b9",
   "metadata": {},
   "outputs": [],
   "source": [
    "o11, o12 = quick_twap.optimal_twap()\n",
    "o31, o32 = medium_twap.optimal_twap()\n",
    "o101, o102 = slow_twap.optimal_twap()"
   ]
  },
  {
   "cell_type": "code",
   "execution_count": 8,
   "id": "09ffae3e",
   "metadata": {},
   "outputs": [
    {
     "data": {
      "text/plain": [
       "((nan, -131.8404, nan), (nan, 110.663, nan))"
      ]
     },
     "execution_count": 8,
     "metadata": {},
     "output_type": "execute_result"
    }
   ],
   "source": [
    "(compare_executions(r11, o11, buy=False), compare_executions(r12, o12, buy=False))"
   ]
  },
  {
   "cell_type": "code",
   "execution_count": 9,
   "id": "c09ac759",
   "metadata": {},
   "outputs": [
    {
     "data": {
      "text/plain": [
       "((nan, -162.7909, nan), (nan, 123.2989, nan))"
      ]
     },
     "execution_count": 9,
     "metadata": {},
     "output_type": "execute_result"
    }
   ],
   "source": [
    "(compare_executions(r31, o31, buy=False), compare_executions(r12, o32, buy=False))"
   ]
  },
  {
   "cell_type": "code",
   "execution_count": 10,
   "id": "7d0ac141",
   "metadata": {},
   "outputs": [
    {
     "data": {
      "text/plain": [
       "((nan, -155.6338, nan), (nan, 102.7027, nan))"
      ]
     },
     "execution_count": 10,
     "metadata": {},
     "output_type": "execute_result"
    }
   ],
   "source": [
    "(compare_executions(r101, o101, buy=False), compare_executions(r102, o102, buy=False))"
   ]
  },
  {
   "cell_type": "markdown",
   "id": "8cb807ce",
   "metadata": {},
   "source": [
    "## Continuous TWAP"
   ]
  },
  {
   "cell_type": "markdown",
   "id": "4d4afd0d",
   "metadata": {},
   "source": [
    "### No Threshold"
   ]
  },
  {
   "cell_type": "code",
   "execution_count": 11,
   "id": "8e49a3b3",
   "metadata": {
    "scrolled": true
   },
   "outputs": [],
   "source": [
    "c110, c120 = quick_twap.continuous_twap(threshold=0)\n",
    "c310, c320 = medium_twap.continuous_twap(threshold=0)\n",
    "c1010, c1020 = slow_twap.continuous_twap(threshold=0)"
   ]
  },
  {
   "cell_type": "code",
   "execution_count": 12,
   "id": "bb9c7d1f",
   "metadata": {},
   "outputs": [
    {
     "data": {
      "text/plain": [
       "((-132.4945, -57.5208, 17.452899999999993),\n",
       " (-15.753400000000001, 13.2465, 42.2464))"
      ]
     },
     "execution_count": 12,
     "metadata": {},
     "output_type": "execute_result"
    }
   ],
   "source": [
    "(compare_executions(r11, c110, buy=False), compare_executions(r12, c120, buy=False))"
   ]
  },
  {
   "cell_type": "code",
   "execution_count": 13,
   "id": "f8c70b92",
   "metadata": {},
   "outputs": [
    {
     "data": {
      "text/plain": [
       "((-187.2378, -69.0456, 49.14660000000001), (-37.8741, 11.9666, 61.8073))"
      ]
     },
     "execution_count": 13,
     "metadata": {},
     "output_type": "execute_result"
    }
   ],
   "source": [
    "(compare_executions(r31, c310, buy=False), compare_executions(r12, c320, buy=False))"
   ]
  },
  {
   "cell_type": "code",
   "execution_count": 14,
   "id": "f1a1ea66",
   "metadata": {},
   "outputs": [
    {
     "data": {
      "text/plain": [
       "((-124.64399999999999, 73.2394, 271.1228),\n",
       " (-99.47019999999999, -8.3411, 82.788))"
      ]
     },
     "execution_count": 14,
     "metadata": {},
     "output_type": "execute_result"
    }
   ],
   "source": [
    "(compare_executions(r101, c1010, buy=False), compare_executions(r102, c1020, buy=False))"
   ]
  },
  {
   "cell_type": "markdown",
   "id": "d4ba00f2",
   "metadata": {},
   "source": [
    "### Medium Threshold"
   ]
  },
  {
   "cell_type": "code",
   "execution_count": 15,
   "id": "001fb8e4",
   "metadata": {},
   "outputs": [],
   "source": [
    "c11015, c12015 = quick_twap.continuous_twap(threshold=0.15)\n",
    "c31015, c32015 = medium_twap.continuous_twap(threshold=0.15)\n",
    "c101015, c102015 = slow_twap.continuous_twap(threshold=0.15)"
   ]
  },
  {
   "cell_type": "code",
   "execution_count": 16,
   "id": "06353383",
   "metadata": {},
   "outputs": [
    {
     "data": {
      "text/plain": [
       "((-131.2515, -33.1664, 64.9187), (-19.6887, 9.9878, 39.6643))"
      ]
     },
     "execution_count": 16,
     "metadata": {},
     "output_type": "execute_result"
    }
   ],
   "source": [
    "(compare_executions(r11, c11015, buy=False), compare_executions(r12, c12015, buy=False))"
   ]
  },
  {
   "cell_type": "code",
   "execution_count": 17,
   "id": "a8811be0",
   "metadata": {},
   "outputs": [
    {
     "data": {
      "text/plain": [
       "((-242.5718, -98.2935, 45.98480000000001), (-32.3387, 18.11, 68.5587))"
      ]
     },
     "execution_count": 17,
     "metadata": {},
     "output_type": "execute_result"
    }
   ],
   "source": [
    "(compare_executions(r31, c31015, buy=False), compare_executions(r12, c32015, buy=False))"
   ]
  },
  {
   "cell_type": "code",
   "execution_count": 18,
   "id": "49539498",
   "metadata": {},
   "outputs": [
    {
     "data": {
      "text/plain": [
       "((-176.2585, 42.1604, 260.5793), (-99.36429999999999, -8.9681, 81.4281))"
      ]
     },
     "execution_count": 18,
     "metadata": {},
     "output_type": "execute_result"
    }
   ],
   "source": [
    "(compare_executions(r101, c101015, buy=False), compare_executions(r102, c102015, buy=False))"
   ]
  },
  {
   "cell_type": "markdown",
   "id": "48f7ce7d",
   "metadata": {},
   "source": [
    "### Large Threshold"
   ]
  },
  {
   "cell_type": "code",
   "execution_count": 19,
   "id": "84544e9a",
   "metadata": {},
   "outputs": [],
   "source": [
    "c1103, c1203 = quick_twap.continuous_twap(threshold=0.3)\n",
    "c3103, c3203 = medium_twap.continuous_twap(threshold=0.3)\n",
    "c10103, c10203 = slow_twap.continuous_twap(threshold=0.3)"
   ]
  },
  {
   "cell_type": "code",
   "execution_count": 20,
   "id": "cb3056c2",
   "metadata": {},
   "outputs": [
    {
     "data": {
      "text/plain": [
       "((73.2517, 270.9454, 468.6391), (-47.7742, -17.9104, 11.953400000000002))"
      ]
     },
     "execution_count": 20,
     "metadata": {},
     "output_type": "execute_result"
    }
   ],
   "source": [
    "(compare_executions(r11, c1103, buy=False), compare_executions(r12, c1203, buy=False))"
   ]
  },
  {
   "cell_type": "code",
   "execution_count": 21,
   "id": "0850d6a9",
   "metadata": {},
   "outputs": [
    {
     "data": {
      "text/plain": [
       "((10.9846, 329.7835, 648.5824), (-80.5483, -28.9413, 22.6657))"
      ]
     },
     "execution_count": 21,
     "metadata": {},
     "output_type": "execute_result"
    }
   ],
   "source": [
    "(compare_executions(r31, c3103, buy=False), compare_executions(r12, c3203, buy=False))"
   ]
  },
  {
   "cell_type": "code",
   "execution_count": 22,
   "id": "cc605a7a",
   "metadata": {},
   "outputs": [
    {
     "data": {
      "text/plain": [
       "((-115.7618, 377.3139, 870.3896), (-161.4238, -67.3895, 26.644800000000004))"
      ]
     },
     "execution_count": 22,
     "metadata": {},
     "output_type": "execute_result"
    }
   ],
   "source": [
    "(compare_executions(r101, c10103, buy=False), compare_executions(r102, c10203, buy=False))"
   ]
  }
 ],
 "metadata": {
  "kernelspec": {
   "display_name": "Python 3 (ipykernel)",
   "language": "python",
   "name": "python3"
  },
  "language_info": {
   "codemirror_mode": {
    "name": "ipython",
    "version": 3
   },
   "file_extension": ".py",
   "mimetype": "text/x-python",
   "name": "python",
   "nbconvert_exporter": "python",
   "pygments_lexer": "ipython3",
   "version": "3.8.11"
  }
 },
 "nbformat": 4,
 "nbformat_minor": 5
}
