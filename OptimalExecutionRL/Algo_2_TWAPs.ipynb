{
 "cells": [
  {
   "cell_type": "code",
   "execution_count": 1,
   "id": "0c2e092f",
   "metadata": {
    "pycharm": {
     "is_executing": false
    }
   },
   "outputs": [],
   "source": [
    "import numpy as np\n",
    "import pandas as pd\n",
    "from tqdm.auto import tqdm, trange\n",
    "from matplotlib import pyplot as plt\n",
    "\n",
    "from micro_price_trading.config import DATA_PATH"
   ]
  },
  {
   "cell_type": "code",
   "execution_count": 2,
   "id": "8451ebb7",
   "metadata": {},
   "outputs": [],
   "source": [
    "with open('simulations.npy', 'rb') as file:\n",
    "    input_data = np.load(file)"
   ]
  },
  {
   "cell_type": "code",
   "execution_count": 3,
   "id": "3d440da9",
   "metadata": {},
   "outputs": [],
   "source": [
    "def CI(array, confidence = .95):\n",
    "    half_width = 1.96*array.std()/np.sqrt(len(array))\n",
    "    mu = array.mean()\n",
    "    return mu - half_width, mu, mu + half_width"
   ]
  },
  {
   "cell_type": "code",
   "execution_count": 4,
   "id": "b9fc55d5",
   "metadata": {},
   "outputs": [],
   "source": [
    "q_values = pd.read_csv(DATA_PATH.joinpath('q_values_9_27.csv'), index_col=0)"
   ]
  },
  {
   "cell_type": "code",
   "execution_count": 6,
   "id": "5a50a7bd",
   "metadata": {},
   "outputs": [],
   "source": [
    "def optimal_twap(t, threshold=0.15):\n",
    "    \n",
    "    intervals = [range(idx*5, (idx+1)*5) for idx in range(input_data.shape[1]//t)]\n",
    "    asset1_buy_prices = list()\n",
    "    asset2_buy_prices = list()\n",
    "    data_copy = input_data[:, :-1, :].copy()\n",
    "    \n",
    "    for sim in tqdm(data_copy):\n",
    "        a1_buys = list()\n",
    "        a2_buys = list()\n",
    "        for interval in intervals:\n",
    "            subset = sim[interval, :]\n",
    "            for idx, entry in enumerate(subset):\n",
    "                q_vals = q_values.iloc[int(entry[0])].copy()\n",
    "                choice = np.argmax(q_vals)\n",
    "                if choice == 0 and q_vals[0]-q_vals[1] > threshold:\n",
    "                    a1_buys.extend([True]+[False]*(t-idx-1))\n",
    "                    a2_buys.extend([False]*(t-idx))\n",
    "                    break\n",
    "                elif choice == 1 and q_vals[1]-q_vals[0] > threshold:\n",
    "                    a1_buys.extend([False]*(t-idx))\n",
    "                    a2_buys.extend([True]+[False]*(t-idx-1))\n",
    "                    break\n",
    "                else:\n",
    "                    a1_buys.append(False)\n",
    "                    a2_buys.append(False)\n",
    "            else:\n",
    "                if a1_buys[-1] + a2_buys[-1] < 1:\n",
    "                    choice = np.argmax(q_values.iloc[int(entry[0]), 1:])\n",
    "                    if choice == 0:\n",
    "                        a1_buys[-1] = True\n",
    "                    else:\n",
    "                        a2_buys[-1] = True\n",
    "        asset1_buy_prices.append(sim[a1_buys, 1])\n",
    "        asset2_buy_prices.append(sim[a2_buys, 2])\n",
    "    return np.array(asset1_buy_prices), np.array(asset2_buy_prices)"
   ]
  },
  {
   "cell_type": "code",
   "execution_count": 7,
   "id": "7ca2ed7f",
   "metadata": {
    "scrolled": false
   },
   "outputs": [
    {
     "data": {
      "application/vnd.jupyter.widget-view+json": {
       "model_id": "5a35541853a8424ebfe1e682423ed93f",
       "version_major": 2,
       "version_minor": 0
      },
      "text/plain": [
       "HBox(children=(FloatProgress(value=0.0, max=10000.0), HTML(value='')))"
      ]
     },
     "metadata": {},
     "output_type": "display_data"
    },
    {
     "name": "stdout",
     "output_type": "stream",
     "text": [
      "\n"
     ]
    },
    {
     "name": "stderr",
     "output_type": "stream",
     "text": [
      "/tmp/ipykernel_4482/1117710253.py:36: VisibleDeprecationWarning: Creating an ndarray from ragged nested sequences (which is a list-or-tuple of lists-or-tuples-or ndarrays with different lengths or shapes) is deprecated. If you meant to do this, you must specify 'dtype=object' when creating the ndarray\n",
      "  return np.array(asset1_buy_prices), np.array(asset2_buy_prices)\n"
     ]
    }
   ],
   "source": [
    "a1, a2 = optimal_twap(5)"
   ]
  },
  {
   "cell_type": "code",
   "execution_count": 16,
   "id": "1bedce2b",
   "metadata": {},
   "outputs": [
    {
     "data": {
      "text/plain": [
       "((18.312620603839346, 18.31478383162248, 18.316947059405617),\n",
       " (16.66185272974153, 16.663035280664037, 16.664217831586544))"
      ]
     },
     "execution_count": 16,
     "metadata": {},
     "output_type": "execute_result"
    }
   ],
   "source": [
    "CI(np.array([a.mean() for a in a1])), CI(np.array([a.mean() for a in a2]))"
   ]
  }
 ],
 "metadata": {
  "kernelspec": {
   "display_name": "Python 3 (ipykernel)",
   "language": "python",
   "name": "python3"
  },
  "language_info": {
   "codemirror_mode": {
    "name": "ipython",
    "version": 3
   },
   "file_extension": ".py",
   "mimetype": "text/x-python",
   "name": "python",
   "nbconvert_exporter": "python",
   "pygments_lexer": "ipython3",
   "version": "3.8.11"
  }
 },
 "nbformat": 4,
 "nbformat_minor": 5
}
