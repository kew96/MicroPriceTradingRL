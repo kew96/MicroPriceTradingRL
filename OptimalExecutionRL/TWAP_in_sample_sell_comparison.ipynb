{
 "cells": [
  {
   "cell_type": "markdown",
   "id": "fb50d60d",
   "metadata": {},
   "source": [
    "# TWAP Comparison"
   ]
  },
  {
   "cell_type": "code",
   "execution_count": 1,
   "id": "b2cc3e70",
   "metadata": {
    "pycharm": {
     "is_executing": false
    }
   },
   "outputs": [],
   "source": [
    "from micro_price_trading import TWAP\n",
    "from micro_price_trading.utils import CI"
   ]
  },
  {
   "cell_type": "markdown",
   "id": "5080259e",
   "metadata": {},
   "source": [
    "## Setup"
   ]
  },
  {
   "cell_type": "code",
   "execution_count": 2,
   "id": "15fac114",
   "metadata": {},
   "outputs": [],
   "source": [
    "quick_twap = TWAP(trade_interval=1, buy=False)\n",
    "medium_twap = TWAP(trade_interval=5, buy=False)\n",
    "slow_twap = TWAP(trade_interval=10, buy=False)\n",
    "very_slow_twap = TWAP(trade_interval=20, buy=False)"
   ]
  },
  {
   "cell_type": "markdown",
   "id": "cf3a624b",
   "metadata": {},
   "source": [
    "## Random TWAP"
   ]
  },
  {
   "cell_type": "code",
   "execution_count": 3,
   "id": "edf61c1e",
   "metadata": {},
   "outputs": [],
   "source": [
    "r11, r12 = quick_twap.random_twap()\n",
    "r51, r52 = medium_twap.random_twap()\n",
    "r101, r102 = slow_twap.random_twap()\n",
    "r201, r202 = very_slow_twap.random_twap()"
   ]
  },
  {
   "cell_type": "code",
   "execution_count": 4,
   "id": "9aa23b48",
   "metadata": {},
   "outputs": [
    {
     "data": {
      "text/plain": [
       "((18.312183961381194, 18.31432255952381, 18.316461157666424),\n",
       " (16.660259579223833, 16.66145319931272, 16.66264681940161))"
      ]
     },
     "execution_count": 4,
     "metadata": {},
     "output_type": "execute_result"
    }
   ],
   "source": [
    "(CI(r11), CI(r12))"
   ]
  },
  {
   "cell_type": "code",
   "execution_count": 5,
   "id": "1612ec8c",
   "metadata": {},
   "outputs": [
    {
     "data": {
      "text/plain": [
       "((18.311815368811978, 18.313958085365854, 18.31610080191973),\n",
       " (16.66045168133275, 16.661650342342345, 16.66284900335194))"
      ]
     },
     "execution_count": 5,
     "metadata": {},
     "output_type": "execute_result"
    }
   ],
   "source": [
    "(CI(r51), CI(r52))"
   ]
  },
  {
   "cell_type": "code",
   "execution_count": 6,
   "id": "d448b015",
   "metadata": {},
   "outputs": [
    {
     "data": {
      "text/plain": [
       "((18.312892917479097, 18.315099145161295, 18.317305372843492),\n",
       " (16.660100166714592, 16.661255472727273, 16.662410778739954))"
      ]
     },
     "execution_count": 6,
     "metadata": {},
     "output_type": "execute_result"
    }
   ],
   "source": [
    "(CI(r101), CI(r102))"
   ]
  },
  {
   "cell_type": "code",
   "execution_count": 7,
   "id": "04fe6954",
   "metadata": {},
   "outputs": [
    {
     "data": {
      "text/plain": [
       "((18.313151447406998, 18.315317583333336, 18.317483719259673),\n",
       " (16.660031582722244, 16.661224882352943, 16.662418181983643))"
      ]
     },
     "execution_count": 7,
     "metadata": {},
     "output_type": "execute_result"
    }
   ],
   "source": [
    "(CI(r201), CI(r202))"
   ]
  },
  {
   "cell_type": "markdown",
   "id": "390499a6",
   "metadata": {},
   "source": [
    "## Optimal TWAP"
   ]
  },
  {
   "cell_type": "code",
   "execution_count": 8,
   "id": "0c5934b9",
   "metadata": {},
   "outputs": [],
   "source": [
    "o11, o12 = quick_twap.optimal_twap()\n",
    "o51, o52 = medium_twap.optimal_twap()\n",
    "o101, o102 = slow_twap.optimal_twap()\n",
    "o201, o202 = very_slow_twap.optimal_twap()"
   ]
  },
  {
   "cell_type": "code",
   "execution_count": 9,
   "id": "8da4cf62",
   "metadata": {},
   "outputs": [
    {
     "data": {
      "text/plain": [
       "((18.312004268577162, 18.314170504791832, 18.316336741006502),\n",
       " (16.660106721398495, 16.661288753268767, 16.66247078513904))"
      ]
     },
     "execution_count": 9,
     "metadata": {},
     "output_type": "execute_result"
    }
   ],
   "source": [
    "(CI(o11), CI(o12))"
   ]
  },
  {
   "cell_type": "code",
   "execution_count": 10,
   "id": "6a25cf18",
   "metadata": {},
   "outputs": [
    {
     "data": {
      "text/plain": [
       "((18.312084817636674, 18.31425426618729, 18.31642371473791),\n",
       " (16.66012075774071, 16.66130504218239, 16.662489326624073))"
      ]
     },
     "execution_count": 10,
     "metadata": {},
     "output_type": "execute_result"
    }
   ],
   "source": [
    "(CI(o51), CI(o52))"
   ]
  },
  {
   "cell_type": "code",
   "execution_count": 11,
   "id": "87558701",
   "metadata": {},
   "outputs": [
    {
     "data": {
      "text/plain": [
       "((18.31216299064722, 18.314338166994037, 18.316513343340855),\n",
       " (16.660143506392288, 16.661330563148685, 16.66251761990508))"
      ]
     },
     "execution_count": 11,
     "metadata": {},
     "output_type": "execute_result"
    }
   ],
   "source": [
    "(CI(o101), CI(o102))"
   ]
  },
  {
   "cell_type": "code",
   "execution_count": 12,
   "id": "a7510477",
   "metadata": {},
   "outputs": [
    {
     "data": {
      "text/plain": [
       "((18.312053859483367, 18.314236519808688, 18.31641918013401),\n",
       " (16.660104541483637, 16.661294802249518, 16.6624850630154))"
      ]
     },
     "execution_count": 12,
     "metadata": {},
     "output_type": "execute_result"
    }
   ],
   "source": [
    "(CI(o201), CI(o202))"
   ]
  },
  {
   "cell_type": "markdown",
   "id": "8cb807ce",
   "metadata": {},
   "source": [
    "## Continuous TWAP"
   ]
  },
  {
   "cell_type": "markdown",
   "id": "4d4afd0d",
   "metadata": {},
   "source": [
    "### No Threshold"
   ]
  },
  {
   "cell_type": "code",
   "execution_count": null,
   "id": "8e49a3b3",
   "metadata": {
    "scrolled": true
   },
   "outputs": [
    {
     "name": "stdout",
     "output_type": "stream",
     "text": [
      "Done: Threshold = 0, Trade Interval = 1\n",
      "Done: Threshold = 0, Trade Interval = 5\n"
     ]
    }
   ],
   "source": [
    "c110, c120 = quick_twap.continuous_twap(threshold=0, verbose=True)\n",
    "c510, c520 = medium_twap.continuous_twap(threshold=0, verbose=True)\n",
    "c1010, c1020 = slow_twap.continuous_twap(threshold=0, verbose=True)\n",
    "c2010, c2020 = very_slow_twap.continuous_twap(threshold=0, verbose=True)"
   ]
  },
  {
   "cell_type": "code",
   "execution_count": null,
   "id": "a226aa7b",
   "metadata": {},
   "outputs": [],
   "source": [
    "(CI(c110), CI(c120))"
   ]
  },
  {
   "cell_type": "code",
   "execution_count": null,
   "id": "52b8fd27",
   "metadata": {},
   "outputs": [],
   "source": [
    "(CI(c510), CI(c520))"
   ]
  },
  {
   "cell_type": "code",
   "execution_count": null,
   "id": "c5f712a5",
   "metadata": {},
   "outputs": [],
   "source": [
    "(CI(c1010), CI(c1020))"
   ]
  },
  {
   "cell_type": "code",
   "execution_count": null,
   "id": "42a22959",
   "metadata": {},
   "outputs": [],
   "source": [
    "(CI(c2010), CI(c2020))"
   ]
  },
  {
   "cell_type": "markdown",
   "id": "d4ba00f2",
   "metadata": {},
   "source": [
    "### Medium Threshold"
   ]
  },
  {
   "cell_type": "code",
   "execution_count": null,
   "id": "001fb8e4",
   "metadata": {},
   "outputs": [],
   "source": [
    "c11015, c12015 = quick_twap.continuous_twap(threshold=0.15, verbose=True)\n",
    "c51015, c52015 = medium_twap.continuous_twap(threshold=0.15, verbose=True)\n",
    "c101015, c102015 = slow_twap.continuous_twap(threshold=0.15, verbose=True)\n",
    "c201015, c202015 = very_slow_twap.continuous_twap(threshold=0.15, verbose=True)"
   ]
  },
  {
   "cell_type": "code",
   "execution_count": null,
   "id": "d83f023d",
   "metadata": {},
   "outputs": [],
   "source": [
    "(CI(c11015), CI(c12015))"
   ]
  },
  {
   "cell_type": "code",
   "execution_count": null,
   "id": "95601ebf",
   "metadata": {},
   "outputs": [],
   "source": [
    "(CI(c51015), CI(c52015))"
   ]
  },
  {
   "cell_type": "code",
   "execution_count": null,
   "id": "9e50659e",
   "metadata": {},
   "outputs": [],
   "source": [
    "(CI(c101015), CI(c102015))"
   ]
  },
  {
   "cell_type": "code",
   "execution_count": null,
   "id": "90a2a376",
   "metadata": {},
   "outputs": [],
   "source": [
    "(CI(c201015), CI(c202015))"
   ]
  },
  {
   "cell_type": "markdown",
   "id": "48f7ce7d",
   "metadata": {},
   "source": [
    "### Large Threshold"
   ]
  },
  {
   "cell_type": "code",
   "execution_count": null,
   "id": "84544e9a",
   "metadata": {},
   "outputs": [],
   "source": [
    "c1103, c1203 = quick_twap.continuous_twap(threshold=0.3, verbose=True)\n",
    "c5103, c5203 = medium_twap.continuous_twap(threshold=0.3, verbose=True)\n",
    "c10103, c10203 = slow_twap.continuous_twap(threshold=0.3, verbose=True)\n",
    "c20103, c20203 = very_slow_twap.continuous_twap(threshold=0.3, verbose=True)"
   ]
  },
  {
   "cell_type": "code",
   "execution_count": null,
   "id": "d4809570",
   "metadata": {},
   "outputs": [],
   "source": [
    "(CI(c1103), CI(c1203))"
   ]
  },
  {
   "cell_type": "code",
   "execution_count": null,
   "id": "13053aa1",
   "metadata": {},
   "outputs": [],
   "source": [
    "(CI(c5103), CI(c5203))"
   ]
  },
  {
   "cell_type": "code",
   "execution_count": null,
   "id": "9a60f26c",
   "metadata": {},
   "outputs": [],
   "source": [
    "(CI(c10103), CI(c10203))"
   ]
  },
  {
   "cell_type": "code",
   "execution_count": null,
   "id": "ab2c1e73",
   "metadata": {},
   "outputs": [],
   "source": [
    "(CI(c20103), CI(c20203))"
   ]
  }
 ],
 "metadata": {
  "kernelspec": {
   "display_name": "Python 3 (ipykernel)",
   "language": "python",
   "name": "python3"
  },
  "language_info": {
   "codemirror_mode": {
    "name": "ipython",
    "version": 3
   },
   "file_extension": ".py",
   "mimetype": "text/x-python",
   "name": "python",
   "nbconvert_exporter": "python",
   "pygments_lexer": "ipython3",
   "version": "3.8.11"
  },
  "pycharm": {
   "stem_cell": {
    "cell_type": "raw",
    "metadata": {
     "collapsed": false
    },
    "source": []
   }
  }
 },
 "nbformat": 4,
 "nbformat_minor": 5
}
