{
 "cells": [
  {
   "cell_type": "markdown",
   "id": "fb50d60d",
   "metadata": {},
   "source": [
    "# TWAP Comparison - 9/27"
   ]
  },
  {
   "cell_type": "code",
   "execution_count": 1,
   "id": "b2cc3e70",
   "metadata": {},
   "outputs": [],
   "source": [
    "from micro_price_trading import TWAP\n",
    "from micro_price_trading.utils import CI, compare_executions"
   ]
  },
  {
   "cell_type": "markdown",
   "id": "5080259e",
   "metadata": {},
   "source": [
    "## Setup"
   ]
  },
  {
   "cell_type": "code",
   "execution_count": 2,
   "id": "15fac114",
   "metadata": {},
   "outputs": [],
   "source": [
    "quick_twap = TWAP(trade_interval=3, buy=False, q_values_file_name='q_values_TBT_TBF_9_24.csv', simulations_file='TBT_TBF_9_27_sims.npy')\n",
    "medium_twap = TWAP(trade_interval=9, buy=False, q_values_file_name='q_values_TBT_TBF_9_24.csv', simulations_file='TBT_TBF_9_27_sims.npy')\n",
    "slow_twap = TWAP(trade_interval=30, buy=False, q_values_file_name='q_values_TBT_TBF_9_24.csv', simulations_file='TBT_TBF_9_27_sims.npy')"
   ]
  },
  {
   "cell_type": "markdown",
   "id": "cf3a624b",
   "metadata": {},
   "source": [
    "## Random TWAP"
   ]
  },
  {
   "cell_type": "code",
   "execution_count": 3,
   "id": "edf61c1e",
   "metadata": {},
   "outputs": [],
   "source": [
    "r11, r12 = quick_twap.random_twap()\n",
    "r31, r32 = medium_twap.random_twap()\n",
    "r101, r102 = slow_twap.random_twap()"
   ]
  },
  {
   "cell_type": "code",
   "execution_count": 4,
   "id": "9aa23b48",
   "metadata": {},
   "outputs": [
    {
     "data": {
      "text/plain": [
       "((17.791900000000002, 17.7936, 17.7953),\n",
       " (16.4133, 16.4142, 16.415100000000002))"
      ]
     },
     "execution_count": 4,
     "metadata": {},
     "output_type": "execute_result"
    }
   ],
   "source": [
    "(CI(r11), CI(r12))"
   ]
  },
  {
   "cell_type": "code",
   "execution_count": 5,
   "id": "1612ec8c",
   "metadata": {},
   "outputs": [
    {
     "data": {
      "text/plain": [
       "((17.7917, 17.7934, 17.795099999999998),\n",
       " (16.4135, 16.4144, 16.415300000000002))"
      ]
     },
     "execution_count": 5,
     "metadata": {},
     "output_type": "execute_result"
    }
   ],
   "source": [
    "(CI(r31), CI(r32))"
   ]
  },
  {
   "cell_type": "code",
   "execution_count": 6,
   "id": "d448b015",
   "metadata": {},
   "outputs": [
    {
     "data": {
      "text/plain": [
       "((17.7909, 17.7927, 17.7945), (16.414099999999998, 16.415, 16.4159))"
      ]
     },
     "execution_count": 6,
     "metadata": {},
     "output_type": "execute_result"
    }
   ],
   "source": [
    "(CI(r101), CI(r102))"
   ]
  },
  {
   "cell_type": "markdown",
   "id": "390499a6",
   "metadata": {},
   "source": [
    "## Optimal TWAP"
   ]
  },
  {
   "cell_type": "code",
   "execution_count": 7,
   "id": "0c5934b9",
   "metadata": {},
   "outputs": [],
   "source": [
    "o11, o12 = quick_twap.optimal_twap()\n",
    "o31, o32 = medium_twap.optimal_twap()\n",
    "o101, o102 = slow_twap.optimal_twap()"
   ]
  },
  {
   "cell_type": "code",
   "execution_count": 8,
   "id": "09ffae3e",
   "metadata": {},
   "outputs": [
    {
     "data": {
      "text/plain": [
       "((-1.2059, -0.5061, 0.19369999999999998),\n",
       " (-1.6072000000000002, -0.5596, 0.4880000000000001))"
      ]
     },
     "execution_count": 8,
     "metadata": {},
     "output_type": "execute_result"
    }
   ],
   "source": [
    "(compare_executions(r11, o11, buy=False), compare_executions(r12, o12, buy=False))"
   ]
  },
  {
   "cell_type": "code",
   "execution_count": 9,
   "id": "c09ac759",
   "metadata": {},
   "outputs": [
    {
     "data": {
      "text/plain": [
       "((0.08949999999999991, 0.9913, 1.8931), (-1.8638, -0.7342, 0.3954))"
      ]
     },
     "execution_count": 9,
     "metadata": {},
     "output_type": "execute_result"
    }
   ],
   "source": [
    "(compare_executions(r31, o31, buy=False), compare_executions(r12, o32, buy=False))"
   ]
  },
  {
   "cell_type": "code",
   "execution_count": 10,
   "id": "7d0ac141",
   "metadata": {},
   "outputs": [
    {
     "data": {
      "text/plain": [
       "((5.168900000000001, 7.2712, 9.3735), (-13.0961, -11.1686, -9.2411))"
      ]
     },
     "execution_count": 10,
     "metadata": {},
     "output_type": "execute_result"
    }
   ],
   "source": [
    "(compare_executions(r101, o101, buy=False), compare_executions(r102, o102, buy=False))"
   ]
  },
  {
   "cell_type": "markdown",
   "id": "8cb807ce",
   "metadata": {},
   "source": [
    "## Continuous TWAP"
   ]
  },
  {
   "cell_type": "markdown",
   "id": "4d4afd0d",
   "metadata": {},
   "source": [
    "### No Threshold"
   ]
  },
  {
   "cell_type": "code",
   "execution_count": 11,
   "id": "8e49a3b3",
   "metadata": {
    "scrolled": true
   },
   "outputs": [
    {
     "name": "stdout",
     "output_type": "stream",
     "text": [
      "Done: Threshold = 0, Trade Interval = 3\n",
      "Done: Threshold = 0, Trade Interval = 9\n",
      "Done: Threshold = 0, Trade Interval = 30\n"
     ]
    }
   ],
   "source": [
    "c110, c120 = quick_twap.continuous_twap(threshold=0, verbose=True)\n",
    "c310, c320 = medium_twap.continuous_twap(threshold=0, verbose=True)\n",
    "c1010, c1020 = slow_twap.continuous_twap(threshold=0, verbose=True)"
   ]
  },
  {
   "cell_type": "code",
   "execution_count": 12,
   "id": "bb9c7d1f",
   "metadata": {},
   "outputs": [
    {
     "data": {
      "text/plain": [
       "((-23.4196, 0.5978, 24.615199999999998), (-7.4996, 5.6872, 18.874))"
      ]
     },
     "execution_count": 12,
     "metadata": {},
     "output_type": "execute_result"
    }
   ],
   "source": [
    "(compare_executions(r11, c110, buy=False), compare_executions(r12, c120, buy=False))"
   ]
  },
  {
   "cell_type": "code",
   "execution_count": 13,
   "id": "f8c70b92",
   "metadata": {},
   "outputs": [
    {
     "data": {
      "text/plain": [
       "((-20.5625, 3.5356, 27.633699999999997),\n",
       " (-1.1472999999999995, 11.9426, 25.0325))"
      ]
     },
     "execution_count": 13,
     "metadata": {},
     "output_type": "execute_result"
    }
   ],
   "source": [
    "(compare_executions(r31, c310, buy=False), compare_executions(r12, c320, buy=False))"
   ]
  },
  {
   "cell_type": "code",
   "execution_count": 14,
   "id": "f1a1ea66",
   "metadata": {},
   "outputs": [
    {
     "data": {
      "text/plain": [
       "((-13.3295, 11.5668, 36.4631),\n",
       " (-3.3953000000000007, 9.3849, 22.165100000000002))"
      ]
     },
     "execution_count": 14,
     "metadata": {},
     "output_type": "execute_result"
    }
   ],
   "source": [
    "(compare_executions(r101, c1010, buy=False), compare_executions(r102, c1020, buy=False))"
   ]
  },
  {
   "cell_type": "markdown",
   "id": "d4ba00f2",
   "metadata": {},
   "source": [
    "### Medium Threshold"
   ]
  },
  {
   "cell_type": "code",
   "execution_count": 15,
   "id": "001fb8e4",
   "metadata": {},
   "outputs": [
    {
     "name": "stdout",
     "output_type": "stream",
     "text": [
      "Done: Threshold = 0.15, Trade Interval = 3\n",
      "Done: Threshold = 0.15, Trade Interval = 9\n",
      "Done: Threshold = 0.15, Trade Interval = 30\n"
     ]
    }
   ],
   "source": [
    "c11015, c12015 = quick_twap.continuous_twap(threshold=0.15, verbose=True)\n",
    "c31015, c32015 = medium_twap.continuous_twap(threshold=0.15, verbose=True)\n",
    "c101015, c102015 = slow_twap.continuous_twap(threshold=0.15, verbose=True)"
   ]
  },
  {
   "cell_type": "code",
   "execution_count": 16,
   "id": "06353383",
   "metadata": {},
   "outputs": [
    {
     "data": {
      "text/plain": [
       "((-24.1833, -0.349, 23.4853), (-8.5781, 4.6097, 17.7975))"
      ]
     },
     "execution_count": 16,
     "metadata": {},
     "output_type": "execute_result"
    }
   ],
   "source": [
    "(compare_executions(r11, c11015, buy=False), compare_executions(r12, c12015, buy=False))"
   ]
  },
  {
   "cell_type": "code",
   "execution_count": 17,
   "id": "a8811be0",
   "metadata": {},
   "outputs": [
    {
     "data": {
      "text/plain": [
       "((-23.0834, 1.1082, 25.2998), (-9.1484, 4.0916, 17.3316))"
      ]
     },
     "execution_count": 17,
     "metadata": {},
     "output_type": "execute_result"
    }
   ],
   "source": [
    "(compare_executions(r31, c31015, buy=False), compare_executions(r12, c32015, buy=False))"
   ]
  },
  {
   "cell_type": "code",
   "execution_count": 18,
   "id": "49539498",
   "metadata": {},
   "outputs": [
    {
     "data": {
      "text/plain": [
       "((-18.1547, 6.8469, 31.8485), (-16.8079, -3.8539, 9.100100000000001))"
      ]
     },
     "execution_count": 18,
     "metadata": {},
     "output_type": "execute_result"
    }
   ],
   "source": [
    "(compare_executions(r101, c101015, buy=False), compare_executions(r102, c102015, buy=False))"
   ]
  },
  {
   "cell_type": "markdown",
   "id": "48f7ce7d",
   "metadata": {},
   "source": [
    "### Large Threshold"
   ]
  },
  {
   "cell_type": "code",
   "execution_count": 19,
   "id": "84544e9a",
   "metadata": {},
   "outputs": [
    {
     "name": "stdout",
     "output_type": "stream",
     "text": [
      "Done: Threshold = 0.3, Trade Interval = 3\n",
      "Done: Threshold = 0.3, Trade Interval = 9\n",
      "Done: Threshold = 0.3, Trade Interval = 30\n"
     ]
    }
   ],
   "source": [
    "c1103, c1203 = quick_twap.continuous_twap(threshold=0.3, verbose=True)\n",
    "c3103, c3203 = medium_twap.continuous_twap(threshold=0.3, verbose=True)\n",
    "c10103, c10203 = slow_twap.continuous_twap(threshold=0.3, verbose=True)"
   ]
  },
  {
   "cell_type": "code",
   "execution_count": 20,
   "id": "cb3056c2",
   "metadata": {},
   "outputs": [
    {
     "data": {
      "text/plain": [
       "((-24.0489, -0.349, 23.3509), (-8.5996, 4.6097, 17.819000000000003))"
      ]
     },
     "execution_count": 20,
     "metadata": {},
     "output_type": "execute_result"
    }
   ],
   "source": [
    "(compare_executions(r11, c1103, buy=False), compare_executions(r12, c1203, buy=False))"
   ]
  },
  {
   "cell_type": "code",
   "execution_count": 21,
   "id": "0850d6a9",
   "metadata": {},
   "outputs": [
    {
     "data": {
      "text/plain": [
       "((-22.9745, 1.1082, 25.1909), (-9.2882, 4.0916, 17.4714))"
      ]
     },
     "execution_count": 21,
     "metadata": {},
     "output_type": "execute_result"
    }
   ],
   "source": [
    "(compare_executions(r31, c3103, buy=False), compare_executions(r12, c3203, buy=False))"
   ]
  },
  {
   "cell_type": "code",
   "execution_count": 22,
   "id": "cc605a7a",
   "metadata": {},
   "outputs": [
    {
     "data": {
      "text/plain": [
       "((-18.407899999999998, 6.8469, 32.1017),\n",
       " (-16.781200000000002, -3.8492, 9.0828))"
      ]
     },
     "execution_count": 22,
     "metadata": {},
     "output_type": "execute_result"
    }
   ],
   "source": [
    "(compare_executions(r101, c10103, buy=False), compare_executions(r102, c10203, buy=False))"
   ]
  }
 ],
 "metadata": {
  "kernelspec": {
   "display_name": "Python 3 (ipykernel)",
   "language": "python",
   "name": "python3"
  },
  "language_info": {
   "codemirror_mode": {
    "name": "ipython",
    "version": 3
   },
   "file_extension": ".py",
   "mimetype": "text/x-python",
   "name": "python",
   "nbconvert_exporter": "python",
   "pygments_lexer": "ipython3",
   "version": "3.8.11"
  }
 },
 "nbformat": 4,
 "nbformat_minor": 5
}
