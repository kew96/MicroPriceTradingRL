{
 "cells": [
  {
   "cell_type": "markdown",
   "id": "fb50d60d",
   "metadata": {},
   "source": [
    "# TWAP Comparison"
   ]
  },
  {
   "cell_type": "code",
   "execution_count": 1,
   "id": "b2cc3e70",
   "metadata": {},
   "outputs": [],
   "source": [
    "from micro_price_trading import TWAP\n",
    "from micro_price_trading.utils import CI"
   ]
  },
  {
   "cell_type": "markdown",
   "id": "5080259e",
   "metadata": {},
   "source": [
    "## Setup"
   ]
  },
  {
   "cell_type": "code",
   "execution_count": 2,
   "id": "15fac114",
   "metadata": {},
   "outputs": [],
   "source": [
    "quick_twap = TWAP(trade_interval=1)\n",
    "medium_twap = TWAP(trade_interval=5)\n",
    "slow_twap = TWAP(trade_interval=10)\n",
    "very_slow_twap = TWAP(trade_interval=20)"
   ]
  },
  {
   "cell_type": "markdown",
   "id": "cf3a624b",
   "metadata": {},
   "source": [
    "## Random TWAP"
   ]
  },
  {
   "cell_type": "code",
   "execution_count": 3,
   "id": "edf61c1e",
   "metadata": {},
   "outputs": [],
   "source": [
    "r11, r12 = quick_twap.random_twap()\n",
    "r51, r52 = medium_twap.random_twap()\n",
    "r101, r102 = slow_twap.random_twap()\n",
    "r201, r202 = very_slow_twap.random_twap()"
   ]
  },
  {
   "cell_type": "code",
   "execution_count": 4,
   "id": "9aa23b48",
   "metadata": {},
   "outputs": [
    {
     "data": {
      "text/plain": [
       "((18.312196070107504, 18.314335240677966, 18.31647441124843),\n",
       " (16.66026873489856, 16.661462032758628, 16.662655330618698))"
      ]
     },
     "execution_count": 4,
     "metadata": {},
     "output_type": "execute_result"
    }
   ],
   "source": [
    "(CI(r11), CI(r12))"
   ]
  },
  {
   "cell_type": "code",
   "execution_count": 5,
   "id": "1612ec8c",
   "metadata": {},
   "outputs": [
    {
     "data": {
      "text/plain": [
       "((18.313074712120613, 18.315270708695653, 18.317466705270693),\n",
       " (16.660007455339215, 16.661168470588237, 16.662329485837258))"
      ]
     },
     "execution_count": 5,
     "metadata": {},
     "output_type": "execute_result"
    }
   ],
   "source": [
    "(CI(r51), CI(r52))"
   ]
  },
  {
   "cell_type": "code",
   "execution_count": 6,
   "id": "d448b015",
   "metadata": {},
   "outputs": [
    {
     "data": {
      "text/plain": [
       "((18.311817104221497, 18.31395385, 18.316090595778505),\n",
       " (16.66047025331172, 16.661677368421056, 16.662884483530394))"
      ]
     },
     "execution_count": 6,
     "metadata": {},
     "output_type": "execute_result"
    }
   ],
   "source": [
    "(CI(r101), CI(r102))"
   ]
  },
  {
   "cell_type": "code",
   "execution_count": 7,
   "id": "04fe6954",
   "metadata": {},
   "outputs": [
    {
     "data": {
      "text/plain": [
       "((18.31112427272429, 18.31319062903226, 18.31525698534023),\n",
       " (16.660752875230802, 16.662022481481483, 16.663292087732163))"
      ]
     },
     "execution_count": 7,
     "metadata": {},
     "output_type": "execute_result"
    }
   ],
   "source": [
    "(CI(r201), CI(r202))"
   ]
  },
  {
   "cell_type": "markdown",
   "id": "390499a6",
   "metadata": {},
   "source": [
    "## Optimal TWAP"
   ]
  },
  {
   "cell_type": "code",
   "execution_count": 8,
   "id": "0c5934b9",
   "metadata": {},
   "outputs": [],
   "source": [
    "o11, o12 = quick_twap.optimal_twap()\n",
    "o51, o52 = medium_twap.optimal_twap()\n",
    "o101, o102 = slow_twap.optimal_twap()\n",
    "o201, o202 = very_slow_twap.optimal_twap()"
   ]
  },
  {
   "cell_type": "code",
   "execution_count": 9,
   "id": "8da4cf62",
   "metadata": {},
   "outputs": [
    {
     "data": {
      "text/plain": [
       "((18.312880063490365, 18.31504339080947, 18.317206718128578),\n",
       " (16.660192863561775, 16.661370222950705, 16.662547582339634))"
      ]
     },
     "execution_count": 9,
     "metadata": {},
     "output_type": "execute_result"
    }
   ],
   "source": [
    "(CI(o11), CI(o12))"
   ]
  },
  {
   "cell_type": "code",
   "execution_count": 10,
   "id": "6a25cf18",
   "metadata": {},
   "outputs": [
    {
     "data": {
      "text/plain": [
       "((18.312917044323374, 18.315084017189346, 18.317250990055317),\n",
       " (16.660217344687684, 16.661396986724522, 16.66257662876136))"
      ]
     },
     "execution_count": 10,
     "metadata": {},
     "output_type": "execute_result"
    }
   ],
   "source": [
    "(CI(o51), CI(o52))"
   ]
  },
  {
   "cell_type": "code",
   "execution_count": 11,
   "id": "87558701",
   "metadata": {},
   "outputs": [
    {
     "data": {
      "text/plain": [
       "((18.31299828640409, 18.315169535963904, 18.31734078552372),\n",
       " (16.660240594345268, 16.661424166830578, 16.662607739315888))"
      ]
     },
     "execution_count": 11,
     "metadata": {},
     "output_type": "execute_result"
    }
   ],
   "source": [
    "(CI(o101), CI(o102))"
   ]
  },
  {
   "cell_type": "code",
   "execution_count": 12,
   "id": "a7510477",
   "metadata": {},
   "outputs": [
    {
     "data": {
      "text/plain": [
       "((18.313043979001957, 18.315218351272588, 18.317392723543218),\n",
       " (16.66029597506741, 16.66148243073091, 16.66266888639441))"
      ]
     },
     "execution_count": 12,
     "metadata": {},
     "output_type": "execute_result"
    }
   ],
   "source": [
    "(CI(o201), CI(o202))"
   ]
  },
  {
   "cell_type": "markdown",
   "id": "8cb807ce",
   "metadata": {},
   "source": [
    "## Continuous TWAP"
   ]
  },
  {
   "cell_type": "markdown",
   "id": "4d4afd0d",
   "metadata": {},
   "source": [
    "### No Threshold"
   ]
  },
  {
   "cell_type": "code",
   "execution_count": 13,
   "id": "8e49a3b3",
   "metadata": {
    "scrolled": true
   },
   "outputs": [
    {
     "name": "stdout",
     "output_type": "stream",
     "text": [
      "Done: Threshold = 0, Trade Interval = 1\n",
      "Done: Threshold = 0, Trade Interval = 5\n",
      "Done: Threshold = 0, Trade Interval = 10\n",
      "Done: Threshold = 0, Trade Interval = 20\n"
     ]
    }
   ],
   "source": [
    "c110, c120 = quick_twap.continuous_twap(threshold=0, verbose=True)\n",
    "c510, c520 = medium_twap.continuous_twap(threshold=0, verbose=True)\n",
    "c1010, c1020 = slow_twap.continuous_twap(threshold=0, verbose=True)\n",
    "c2010, c2020 = very_slow_twap.continuous_twap(threshold=0, verbose=True)"
   ]
  },
  {
   "cell_type": "code",
   "execution_count": 14,
   "id": "a226aa7b",
   "metadata": {},
   "outputs": [
    {
     "data": {
      "text/plain": [
       "((18.31285344864973, 18.315015153524755, 18.31717685839978),\n",
       " (16.660183472317932, 16.661359767888513, 16.662536063459093))"
      ]
     },
     "execution_count": 14,
     "metadata": {},
     "output_type": "execute_result"
    }
   ],
   "source": [
    "(CI(c110), CI(c120))"
   ]
  },
  {
   "cell_type": "code",
   "execution_count": 15,
   "id": "52b8fd27",
   "metadata": {},
   "outputs": [
    {
     "data": {
      "text/plain": [
       "((18.3125551144669, 18.314716097539588, 18.316877080612276),\n",
       " (16.659548338033524, 16.660724440924465, 16.661900543815406))"
      ]
     },
     "execution_count": 15,
     "metadata": {},
     "output_type": "execute_result"
    }
   ],
   "source": [
    "(CI(c510), CI(c520))"
   ]
  },
  {
   "cell_type": "code",
   "execution_count": 16,
   "id": "c5f712a5",
   "metadata": {},
   "outputs": [
    {
     "data": {
      "text/plain": [
       "((18.31257759975528, 18.314739370218827, 18.316901140682376),\n",
       " (16.65925211128133, 16.660428305007592, 16.661604498733855))"
      ]
     },
     "execution_count": 16,
     "metadata": {},
     "output_type": "execute_result"
    }
   ],
   "source": [
    "(CI(c1010), CI(c1020))"
   ]
  },
  {
   "cell_type": "code",
   "execution_count": 17,
   "id": "42a22959",
   "metadata": {},
   "outputs": [
    {
     "data": {
      "text/plain": [
       "((18.31260440768561, 18.314766250645327, 18.316928093605046),\n",
       " (16.659083706845628, 16.660259773716984, 16.66143584058834))"
      ]
     },
     "execution_count": 17,
     "metadata": {},
     "output_type": "execute_result"
    }
   ],
   "source": [
    "(CI(c2010), CI(c2020))"
   ]
  },
  {
   "cell_type": "markdown",
   "id": "d4ba00f2",
   "metadata": {},
   "source": [
    "### Medium Threshold"
   ]
  },
  {
   "cell_type": "code",
   "execution_count": null,
   "id": "001fb8e4",
   "metadata": {},
   "outputs": [],
   "source": [
    "c11015, c12015 = quick_twap.continuous_twap(threshold=0.15)\n",
    "c51015, c52015 = medium_twap.continuous_twap(threshold=0.15)\n",
    "c101015, c102015 = slow_twap.continuous_twap(threshold=0.15)\n",
    "c201015, c202015 = very_slow_twap.continuous_twap(threshold=0.15)"
   ]
  },
  {
   "cell_type": "code",
   "execution_count": null,
   "id": "d83f023d",
   "metadata": {},
   "outputs": [],
   "source": [
    "(CI(o11015), CI(o12015))"
   ]
  },
  {
   "cell_type": "code",
   "execution_count": null,
   "id": "95601ebf",
   "metadata": {},
   "outputs": [],
   "source": [
    "(CI(o51015), CI(o52015))"
   ]
  },
  {
   "cell_type": "code",
   "execution_count": null,
   "id": "9e50659e",
   "metadata": {},
   "outputs": [],
   "source": [
    "(CI(o10115), CI(o10215))"
   ]
  },
  {
   "cell_type": "code",
   "execution_count": null,
   "id": "90a2a376",
   "metadata": {},
   "outputs": [],
   "source": [
    "(CI(o20115), CI(o20215))"
   ]
  },
  {
   "cell_type": "markdown",
   "id": "48f7ce7d",
   "metadata": {},
   "source": [
    "### Large Threshold"
   ]
  },
  {
   "cell_type": "code",
   "execution_count": null,
   "id": "84544e9a",
   "metadata": {},
   "outputs": [],
   "source": [
    "c1103, c1203 = quick_twap.continuous_twap(threshold=0.3)\n",
    "c5103, c5203 = medium_twap.continuous_twap(threshold=0.3)\n",
    "c10103, c10203 = slow_twap.continuous_twap(threshold=0.3)\n",
    "c20103, c20203 = very_slow_twap.continuous_twap(threshold=0.3)"
   ]
  },
  {
   "cell_type": "code",
   "execution_count": null,
   "id": "d4809570",
   "metadata": {},
   "outputs": [],
   "source": [
    "(CI(o1103), CI(o1203))"
   ]
  },
  {
   "cell_type": "code",
   "execution_count": null,
   "id": "13053aa1",
   "metadata": {},
   "outputs": [],
   "source": [
    "(CI(o5103), CI(o5203))"
   ]
  },
  {
   "cell_type": "code",
   "execution_count": null,
   "id": "9a60f26c",
   "metadata": {},
   "outputs": [],
   "source": [
    "(CI(o10103), CI(o10203))"
   ]
  },
  {
   "cell_type": "code",
   "execution_count": null,
   "id": "ab2c1e73",
   "metadata": {},
   "outputs": [],
   "source": [
    "(CI(o20103), CI(o20203))"
   ]
  }
 ],
 "metadata": {
  "kernelspec": {
   "display_name": "Python 3 (ipykernel)",
   "language": "python",
   "name": "python3"
  },
  "language_info": {
   "codemirror_mode": {
    "name": "ipython",
    "version": 3
   },
   "file_extension": ".py",
   "mimetype": "text/x-python",
   "name": "python",
   "nbconvert_exporter": "python",
   "pygments_lexer": "ipython3",
   "version": "3.8.11"
  }
 },
 "nbformat": 4,
 "nbformat_minor": 5
}
