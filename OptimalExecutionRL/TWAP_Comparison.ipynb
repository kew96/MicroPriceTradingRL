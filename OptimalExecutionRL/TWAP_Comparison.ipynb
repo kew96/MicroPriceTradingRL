{
 "cells": [
  {
   "cell_type": "markdown",
   "id": "fb50d60d",
   "metadata": {},
   "source": [
    "# TWAP Comparison"
   ]
  },
  {
   "cell_type": "code",
   "execution_count": 1,
   "id": "b2cc3e70",
   "metadata": {},
   "outputs": [],
   "source": [
    "from micro_price_trading import TWAP\n",
    "from micro_price_trading.utils import CI"
   ]
  },
  {
   "cell_type": "markdown",
   "id": "5080259e",
   "metadata": {},
   "source": [
    "## Setup"
   ]
  },
  {
   "cell_type": "code",
   "execution_count": 2,
   "id": "15fac114",
   "metadata": {},
   "outputs": [],
   "source": [
    "quick_twap = TWAP(trade_interval=1)\n",
    "medium_twap = TWAP(trade_interval=5)\n",
    "slow_twap = TWAP(trade_interval=10)\n",
    "very_slow_twap = TWAP(trade_interval=20)"
   ]
  },
  {
   "cell_type": "markdown",
   "id": "cf3a624b",
   "metadata": {},
   "source": [
    "## Random TWAP"
   ]
  },
  {
   "cell_type": "code",
   "execution_count": 3,
   "id": "edf61c1e",
   "metadata": {},
   "outputs": [],
   "source": [
    "r11, r12 = quick_twap.random_twap()\n",
    "r51, r52 = medium_twap.random_twap()\n",
    "r101, r102 = slow_twap.random_twap()\n",
    "r201, r202 = very_slow_twap.random_twap()"
   ]
  },
  {
   "cell_type": "code",
   "execution_count": 4,
   "id": "9aa23b48",
   "metadata": {},
   "outputs": [
    {
     "data": {
      "text/plain": [
       "((18.312361118664704, 18.31451534808014, 18.316669577495574),\n",
       " (16.660212738394964, 16.661395870402806, 16.66257900241065))"
      ]
     },
     "execution_count": 4,
     "metadata": {},
     "output_type": "execute_result"
    }
   ],
   "source": [
    "(CI(r11), CI(r12))"
   ]
  },
  {
   "cell_type": "code",
   "execution_count": 5,
   "id": "1612ec8c",
   "metadata": {},
   "outputs": [
    {
     "data": {
      "text/plain": [
       "((18.313282267669262, 18.315476313084115, 18.31767035849897),\n",
       " (16.65997982820695, 16.66114586614173, 16.66231190407651))"
      ]
     },
     "execution_count": 5,
     "metadata": {},
     "output_type": "execute_result"
    }
   ],
   "source": [
    "(CI(r51), CI(r52))"
   ]
  },
  {
   "cell_type": "code",
   "execution_count": 6,
   "id": "d448b015",
   "metadata": {},
   "outputs": [
    {
     "data": {
      "text/plain": [
       "((18.313450243489438, 18.31567832608696, 18.317906408684482),\n",
       " (16.659883750049808, 16.661016979166668, 16.662150208283528))"
      ]
     },
     "execution_count": 6,
     "metadata": {},
     "output_type": "execute_result"
    }
   ],
   "source": [
    "(CI(r101), CI(r102))"
   ]
  },
  {
   "cell_type": "code",
   "execution_count": 7,
   "id": "04fe6954",
   "metadata": {},
   "outputs": [
    {
     "data": {
      "text/plain": [
       "((18.312044794510687, 18.314187642857146, 18.316330491203605),\n",
       " (16.660385935476743, 16.66158953333333, 16.66279313118992))"
      ]
     },
     "execution_count": 7,
     "metadata": {},
     "output_type": "execute_result"
    }
   ],
   "source": [
    "(CI(r201), CI(r202))"
   ]
  },
  {
   "cell_type": "markdown",
   "id": "390499a6",
   "metadata": {},
   "source": [
    "## Optimal TWAP"
   ]
  },
  {
   "cell_type": "code",
   "execution_count": 8,
   "id": "0c5934b9",
   "metadata": {},
   "outputs": [],
   "source": [
    "o11, o12 = quick_twap.optimal_twap()\n",
    "o51, o52 = medium_twap.optimal_twap()\n",
    "o101, o102 = slow_twap.optimal_twap()\n",
    "o201, o202 = very_slow_twap.optimal_twap()"
   ]
  },
  {
   "cell_type": "code",
   "execution_count": 9,
   "id": "8da4cf62",
   "metadata": {},
   "outputs": [
    {
     "data": {
      "text/plain": [
       "((18.312880063490365, 18.31504339080947, 18.317206718128578),\n",
       " (16.660192863561775, 16.661370222950705, 16.662547582339634))"
      ]
     },
     "execution_count": 9,
     "metadata": {},
     "output_type": "execute_result"
    }
   ],
   "source": [
    "(CI(o11), CI(o12))"
   ]
  },
  {
   "cell_type": "code",
   "execution_count": 10,
   "id": "6a25cf18",
   "metadata": {},
   "outputs": [
    {
     "data": {
      "text/plain": [
       "((18.312917044323374, 18.315084017189346, 18.317250990055317),\n",
       " (16.660217344687684, 16.661396986724522, 16.66257662876136))"
      ]
     },
     "execution_count": 10,
     "metadata": {},
     "output_type": "execute_result"
    }
   ],
   "source": [
    "(CI(o51), CI(o52))"
   ]
  },
  {
   "cell_type": "code",
   "execution_count": 11,
   "id": "87558701",
   "metadata": {},
   "outputs": [
    {
     "data": {
      "text/plain": [
       "((18.31299828640409, 18.315169535963904, 18.31734078552372),\n",
       " (16.660240594345268, 16.661424166830578, 16.662607739315888))"
      ]
     },
     "execution_count": 11,
     "metadata": {},
     "output_type": "execute_result"
    }
   ],
   "source": [
    "(CI(o101), CI(o102))"
   ]
  },
  {
   "cell_type": "code",
   "execution_count": 12,
   "id": "a7510477",
   "metadata": {},
   "outputs": [
    {
     "data": {
      "text/plain": [
       "((18.313043979001957, 18.315218351272588, 18.317392723543218),\n",
       " (16.66029597506741, 16.66148243073091, 16.66266888639441))"
      ]
     },
     "execution_count": 12,
     "metadata": {},
     "output_type": "execute_result"
    }
   ],
   "source": [
    "(CI(o201), CI(o202))"
   ]
  },
  {
   "cell_type": "markdown",
   "id": "8cb807ce",
   "metadata": {},
   "source": [
    "## Continuous TWAP"
   ]
  },
  {
   "cell_type": "markdown",
   "id": "4d4afd0d",
   "metadata": {},
   "source": [
    "### No Threshold"
   ]
  },
  {
   "cell_type": "code",
   "execution_count": 13,
   "id": "8e49a3b3",
   "metadata": {
    "scrolled": true
   },
   "outputs": [
    {
     "name": "stdout",
     "output_type": "stream",
     "text": [
      "Done: Threshold = 0, Trade Interval = 1\n",
      "Done: Threshold = 0, Trade Interval = 5\n",
      "Done: Threshold = 0, Trade Interval = 10\n",
      "Done: Threshold = 0, Trade Interval = 20\n"
     ]
    }
   ],
   "source": [
    "c110, c120 = quick_twap.continuous_twap(threshold=0, verbose=True)\n",
    "c510, c520 = medium_twap.continuous_twap(threshold=0, verbose=True)\n",
    "c1010, c1020 = slow_twap.continuous_twap(threshold=0, verbose=True)\n",
    "c2010, c2020 = very_slow_twap.continuous_twap(threshold=0, verbose=True)"
   ]
  },
  {
   "cell_type": "code",
   "execution_count": 14,
   "id": "a226aa7b",
   "metadata": {},
   "outputs": [
    {
     "data": {
      "text/plain": [
       "((18.312853448649726, 18.31501515352475, 18.317176858399776),\n",
       " (16.660183472317932, 16.661359767888513, 16.662536063459093))"
      ]
     },
     "execution_count": 14,
     "metadata": {},
     "output_type": "execute_result"
    }
   ],
   "source": [
    "(CI(c110), CI(c120))"
   ]
  },
  {
   "cell_type": "code",
   "execution_count": 15,
   "id": "52b8fd27",
   "metadata": {},
   "outputs": [
    {
     "data": {
      "text/plain": [
       "((18.3125551144669, 18.314716097539588, 18.316877080612276),\n",
       " (16.659548338033524, 16.660724440924465, 16.661900543815406))"
      ]
     },
     "execution_count": 15,
     "metadata": {},
     "output_type": "execute_result"
    }
   ],
   "source": [
    "(CI(c510), CI(c520))"
   ]
  },
  {
   "cell_type": "code",
   "execution_count": 16,
   "id": "c5f712a5",
   "metadata": {},
   "outputs": [
    {
     "data": {
      "text/plain": [
       "((18.312577599755283, 18.31473937021883, 18.31690114068238),\n",
       " (16.65925211128133, 16.660428305007592, 16.661604498733855))"
      ]
     },
     "execution_count": 16,
     "metadata": {},
     "output_type": "execute_result"
    }
   ],
   "source": [
    "(CI(c1010), CI(c1020))"
   ]
  },
  {
   "cell_type": "code",
   "execution_count": 17,
   "id": "42a22959",
   "metadata": {},
   "outputs": [
    {
     "data": {
      "text/plain": [
       "((18.31260440768561, 18.314766250645327, 18.316928093605046),\n",
       " (16.659083706845628, 16.660259773716984, 16.66143584058834))"
      ]
     },
     "execution_count": 17,
     "metadata": {},
     "output_type": "execute_result"
    }
   ],
   "source": [
    "(CI(c2010), CI(c2020))"
   ]
  },
  {
   "cell_type": "markdown",
   "id": "d4ba00f2",
   "metadata": {},
   "source": [
    "### Medium Threshold"
   ]
  },
  {
   "cell_type": "code",
   "execution_count": 18,
   "id": "001fb8e4",
   "metadata": {},
   "outputs": [],
   "source": [
    "c11015, c12015 = quick_twap.continuous_twap(threshold=0.15, verbose=True)\n",
    "c51015, c52015 = medium_twap.continuous_twap(threshold=0.15, verbose=True)\n",
    "c101015, c102015 = slow_twap.continuous_twap(threshold=0.15, verbose=True)\n",
    "c201015, c202015 = very_slow_twap.continuous_twap(threshold=0.15, verbose=True)"
   ]
  },
  {
   "cell_type": "code",
   "execution_count": 20,
   "id": "d83f023d",
   "metadata": {},
   "outputs": [
    {
     "data": {
      "text/plain": [
       "((18.312524694782834, 18.314685056477977, 18.31684541817312),\n",
       " (16.660638882310135, 16.661827570325933, 16.66301625834173))"
      ]
     },
     "execution_count": 20,
     "metadata": {},
     "output_type": "execute_result"
    }
   ],
   "source": [
    "(CI(c11015), CI(c12015))"
   ]
  },
  {
   "cell_type": "code",
   "execution_count": 21,
   "id": "95601ebf",
   "metadata": {},
   "outputs": [
    {
     "data": {
      "text/plain": [
       "((18.3126483903255, 18.314811045334274, 18.31697370034305),\n",
       " (16.6594606585495, 16.6606464449801, 16.6618322314107))"
      ]
     },
     "execution_count": 21,
     "metadata": {},
     "output_type": "execute_result"
    }
   ],
   "source": [
    "(CI(c51015), CI(c52015))"
   ]
  },
  {
   "cell_type": "code",
   "execution_count": 23,
   "id": "9e50659e",
   "metadata": {},
   "outputs": [
    {
     "data": {
      "text/plain": [
       "((18.312785130647956, 18.314950645412942, 18.317116160177928),\n",
       " (16.659201490777846, 16.660387809573457, 16.661574128369068))"
      ]
     },
     "execution_count": 23,
     "metadata": {},
     "output_type": "execute_result"
    }
   ],
   "source": [
    "(CI(c101015), CI(c102015))"
   ]
  },
  {
   "cell_type": "code",
   "execution_count": 24,
   "id": "90a2a376",
   "metadata": {},
   "outputs": [
    {
     "data": {
      "text/plain": [
       "((18.313047291913193, 18.31522124421192, 18.317395196510645),\n",
       " (16.658963266396924, 16.660149290487546, 16.661335314578167))"
      ]
     },
     "execution_count": 24,
     "metadata": {},
     "output_type": "execute_result"
    }
   ],
   "source": [
    "(CI(c201015), CI(c202015))"
   ]
  },
  {
   "cell_type": "markdown",
   "id": "48f7ce7d",
   "metadata": {},
   "source": [
    "### Large Threshold"
   ]
  },
  {
   "cell_type": "code",
   "execution_count": 25,
   "id": "84544e9a",
   "metadata": {},
   "outputs": [
    {
     "name": "stdout",
     "output_type": "stream",
     "text": [
      "Done: Threshold = 0.3, Trade Interval = 1\n",
      "Done: Threshold = 0.3, Trade Interval = 5\n",
      "Done: Threshold = 0.3, Trade Interval = 10\n",
      "Done: Threshold = 0.3, Trade Interval = 20\n"
     ]
    }
   ],
   "source": [
    "c1103, c1203 = quick_twap.continuous_twap(threshold=0.3, verbose=True)\n",
    "c5103, c5203 = medium_twap.continuous_twap(threshold=0.3, verbose=True)\n",
    "c10103, c10203 = slow_twap.continuous_twap(threshold=0.3, verbose=True)\n",
    "c20103, c20203 = very_slow_twap.continuous_twap(threshold=0.3, verbose=True)"
   ]
  },
  {
   "cell_type": "code",
   "execution_count": 26,
   "id": "d4809570",
   "metadata": {},
   "outputs": [
    {
     "data": {
      "text/plain": [
       "((18.312367034618294, 18.314527428748452, 18.31668782287861),\n",
       " (16.659354329572725, 16.660547990956456, 16.661741652340186))"
      ]
     },
     "execution_count": 26,
     "metadata": {},
     "output_type": "execute_result"
    }
   ],
   "source": [
    "(CI(c1103), CI(c1203))"
   ]
  },
  {
   "cell_type": "code",
   "execution_count": 27,
   "id": "13053aa1",
   "metadata": {},
   "outputs": [
    {
     "data": {
      "text/plain": [
       "((18.31242183672445, 18.3145857977451, 18.31674975876575),\n",
       " (16.659419605695145, 16.660616799417934, 16.661813993140722))"
      ]
     },
     "execution_count": 27,
     "metadata": {},
     "output_type": "execute_result"
    }
   ],
   "source": [
    "(CI(c5103), CI(c5203))"
   ]
  },
  {
   "cell_type": "code",
   "execution_count": 28,
   "id": "9a60f26c",
   "metadata": {},
   "outputs": [
    {
     "data": {
      "text/plain": [
       "((18.312504991382433, 18.314673446553982, 18.31684190172553),\n",
       " (16.659421252617566, 16.660623552565614, 16.66182585251366))"
      ]
     },
     "execution_count": 28,
     "metadata": {},
     "output_type": "execute_result"
    }
   ],
   "source": [
    "(CI(c10103), CI(c10203))"
   ]
  },
  {
   "cell_type": "code",
   "execution_count": 29,
   "id": "ab2c1e73",
   "metadata": {},
   "outputs": [
    {
     "name": "stderr",
     "output_type": "stream",
     "text": [
      "/home/kylewalsh/miniconda3/envs/Citi/lib/python3.8/site-packages/numpy/core/fromnumeric.py:3372: RuntimeWarning: Mean of empty slice.\n",
      "  return _methods._mean(a, axis=axis, dtype=dtype,\n",
      "/home/kylewalsh/miniconda3/envs/Citi/lib/python3.8/site-packages/numpy/core/_methods.py:170: RuntimeWarning: invalid value encountered in double_scalars\n",
      "  ret = ret.dtype.type(ret / rcount)\n"
     ]
    },
    {
     "data": {
      "text/plain": [
       "((18.312746562421935, 18.31492819914402, 18.317109835866106), (nan, nan, nan))"
      ]
     },
     "execution_count": 29,
     "metadata": {},
     "output_type": "execute_result"
    }
   ],
   "source": [
    "(CI(c20103), CI(c20203))"
   ]
  }
 ],
 "metadata": {
  "kernelspec": {
   "display_name": "Python 3 (ipykernel)",
   "language": "python",
   "name": "python3"
  },
  "language_info": {
   "codemirror_mode": {
    "name": "ipython",
    "version": 3
   },
   "file_extension": ".py",
   "mimetype": "text/x-python",
   "name": "python",
   "nbconvert_exporter": "python",
   "pygments_lexer": "ipython3",
   "version": "3.8.11"
  }
 },
 "nbformat": 4,
 "nbformat_minor": 5
}
