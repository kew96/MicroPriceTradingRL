{
 "cells": [
  {
   "cell_type": "markdown",
   "id": "fb50d60d",
   "metadata": {},
   "source": [
    "# TWAP Comparison - 10/1"
   ]
  },
  {
   "cell_type": "code",
   "execution_count": 1,
   "id": "b2cc3e70",
   "metadata": {},
   "outputs": [],
   "source": [
    "from micro_price_trading import TWAP\n",
    "from micro_price_trading.utils import CI, compare_executions"
   ]
  },
  {
   "cell_type": "markdown",
   "id": "5080259e",
   "metadata": {},
   "source": [
    "## Setup"
   ]
  },
  {
   "cell_type": "code",
   "execution_count": 2,
   "id": "15fac114",
   "metadata": {},
   "outputs": [],
   "source": [
    "quick_twap = TWAP(trade_interval=3, q_values_file_name='q_values_TBT_TBF_9_30.csv', simulations_file='TBT_TBF_10_1_sims.npy')\n",
    "medium_twap = TWAP(trade_interval=9, q_values_file_name='q_values_TBT_TBF_9_30.csv', simulations_file='TBT_TBF_10_1_sims.npy')\n",
    "slow_twap = TWAP(trade_interval=30, q_values_file_name='q_values_TBT_TBF_9_30.csv', simulations_file='TBT_TBF_10_1_sims.npy')"
   ]
  },
  {
   "cell_type": "markdown",
   "id": "cf3a624b",
   "metadata": {},
   "source": [
    "## Random TWAP"
   ]
  },
  {
   "cell_type": "code",
   "execution_count": 3,
   "id": "edf61c1e",
   "metadata": {},
   "outputs": [],
   "source": [
    "r11, r12 = quick_twap.random_twap()\n",
    "r31, r32 = medium_twap.random_twap()\n",
    "r101, r102 = slow_twap.random_twap()"
   ]
  },
  {
   "cell_type": "code",
   "execution_count": 4,
   "id": "9aa23b48",
   "metadata": {},
   "outputs": [
    {
     "data": {
      "text/plain": [
       "((18.1525, 18.1546, 18.156699999999997),\n",
       " (16.589599999999997, 16.5907, 16.5918))"
      ]
     },
     "execution_count": 4,
     "metadata": {},
     "output_type": "execute_result"
    }
   ],
   "source": [
    "(CI(r11), CI(r12))"
   ]
  },
  {
   "cell_type": "code",
   "execution_count": 5,
   "id": "1612ec8c",
   "metadata": {},
   "outputs": [
    {
     "data": {
      "text/plain": [
       "((18.1522, 18.1543, 18.156399999999998),\n",
       " (16.589599999999997, 16.5907, 16.5918))"
      ]
     },
     "execution_count": 5,
     "metadata": {},
     "output_type": "execute_result"
    }
   ],
   "source": [
    "(CI(r31), CI(r32))"
   ]
  },
  {
   "cell_type": "code",
   "execution_count": 6,
   "id": "d448b015",
   "metadata": {},
   "outputs": [
    {
     "data": {
      "text/plain": [
       "((18.151500000000002, 18.1536, 18.1557),\n",
       " (16.589399999999998, 16.5905, 16.5916))"
      ]
     },
     "execution_count": 6,
     "metadata": {},
     "output_type": "execute_result"
    }
   ],
   "source": [
    "(CI(r101), CI(r102))"
   ]
  },
  {
   "cell_type": "markdown",
   "id": "390499a6",
   "metadata": {},
   "source": [
    "## Optimal TWAP"
   ]
  },
  {
   "cell_type": "code",
   "execution_count": 7,
   "id": "0c5934b9",
   "metadata": {},
   "outputs": [],
   "source": [
    "o11, o12 = quick_twap.optimal_twap()\n",
    "o31, o32 = medium_twap.optimal_twap()\n",
    "o101, o102 = slow_twap.optimal_twap()"
   ]
  },
  {
   "cell_type": "code",
   "execution_count": 8,
   "id": "09ffae3e",
   "metadata": {},
   "outputs": [
    {
     "data": {
      "text/plain": [
       "((1.8609, 3.4386, 5.0163), (-3.896, -3.2812, -2.6664000000000003))"
      ]
     },
     "execution_count": 8,
     "metadata": {},
     "output_type": "execute_result"
    }
   ],
   "source": [
    "(compare_executions(r11, o11), compare_executions(r12, o12))"
   ]
  },
  {
   "cell_type": "code",
   "execution_count": 9,
   "id": "c09ac759",
   "metadata": {},
   "outputs": [
    {
     "data": {
      "text/plain": [
       "((-0.1079000000000001, 1.5972, 3.3023),\n",
       " (-3.3491999999999997, -2.7013, -2.0534))"
      ]
     },
     "execution_count": 9,
     "metadata": {},
     "output_type": "execute_result"
    }
   ],
   "source": [
    "(compare_executions(r31, o31), compare_executions(r12, o32))"
   ]
  },
  {
   "cell_type": "code",
   "execution_count": 10,
   "id": "7d0ac141",
   "metadata": {},
   "outputs": [
    {
     "data": {
      "text/plain": [
       "((-6.6185, -3.3447, -0.07089999999999996),\n",
       " (-3.7984, -2.6883, -1.5781999999999998))"
      ]
     },
     "execution_count": 10,
     "metadata": {},
     "output_type": "execute_result"
    }
   ],
   "source": [
    "(compare_executions(r101, o101), compare_executions(r102, o102))"
   ]
  },
  {
   "cell_type": "markdown",
   "id": "8cb807ce",
   "metadata": {},
   "source": [
    "## Continuous TWAP"
   ]
  },
  {
   "cell_type": "markdown",
   "id": "4d4afd0d",
   "metadata": {},
   "source": [
    "### No Threshold"
   ]
  },
  {
   "cell_type": "code",
   "execution_count": 11,
   "id": "8e49a3b3",
   "metadata": {
    "scrolled": true
   },
   "outputs": [
    {
     "name": "stdout",
     "output_type": "stream",
     "text": [
      "Done: Threshold = 0, Trade Interval = 3\n",
      "Done: Threshold = 0, Trade Interval = 9\n",
      "Done: Threshold = 0, Trade Interval = 30\n"
     ]
    }
   ],
   "source": [
    "c110, c120 = quick_twap.continuous_twap(threshold=0, verbose=True)\n",
    "c310, c320 = medium_twap.continuous_twap(threshold=0, verbose=True)\n",
    "c1010, c1020 = slow_twap.continuous_twap(threshold=0, verbose=True)"
   ]
  },
  {
   "cell_type": "code",
   "execution_count": 12,
   "id": "bb9c7d1f",
   "metadata": {},
   "outputs": [
    {
     "data": {
      "text/plain": [
       "((-27.886400000000002, 1.7882, 31.4628), (-19.3119, -3.8327, 11.6465))"
      ]
     },
     "execution_count": 12,
     "metadata": {},
     "output_type": "execute_result"
    }
   ],
   "source": [
    "(compare_executions(r11, c110), compare_executions(r12, c120))"
   ]
  },
  {
   "cell_type": "code",
   "execution_count": 13,
   "id": "f8c70b92",
   "metadata": {},
   "outputs": [
    {
     "data": {
      "text/plain": [
       "((-30.5235, -0.7302, 29.0631), (-19.8129, -4.3589, 11.0951))"
      ]
     },
     "execution_count": 13,
     "metadata": {},
     "output_type": "execute_result"
    }
   ],
   "source": [
    "(compare_executions(r31, c310), compare_executions(r12, c320))"
   ]
  },
  {
   "cell_type": "code",
   "execution_count": 14,
   "id": "f1a1ea66",
   "metadata": {},
   "outputs": [
    {
     "data": {
      "text/plain": [
       "((-36.2603, -6.5721, 23.1161), (-23.734, -8.203, 7.328000000000001))"
      ]
     },
     "execution_count": 14,
     "metadata": {},
     "output_type": "execute_result"
    }
   ],
   "source": [
    "(compare_executions(r101, c1010), compare_executions(r102, c1020))"
   ]
  },
  {
   "cell_type": "markdown",
   "id": "d4ba00f2",
   "metadata": {},
   "source": [
    "### Medium Threshold"
   ]
  },
  {
   "cell_type": "code",
   "execution_count": 15,
   "id": "001fb8e4",
   "metadata": {},
   "outputs": [
    {
     "name": "stdout",
     "output_type": "stream",
     "text": [
      "Done: Threshold = 0.15, Trade Interval = 3\n",
      "Done: Threshold = 0.15, Trade Interval = 9\n",
      "Done: Threshold = 0.15, Trade Interval = 30\n"
     ]
    }
   ],
   "source": [
    "c11015, c12015 = quick_twap.continuous_twap(threshold=0.15, verbose=True)\n",
    "c31015, c32015 = medium_twap.continuous_twap(threshold=0.15, verbose=True)\n",
    "c101015, c102015 = slow_twap.continuous_twap(threshold=0.15, verbose=True)"
   ]
  },
  {
   "cell_type": "code",
   "execution_count": 16,
   "id": "06353383",
   "metadata": {},
   "outputs": [
    {
     "data": {
      "text/plain": [
       "((-28.1505, 1.6897, 31.529899999999998),\n",
       " (-28.8204, -13.1112, 2.597999999999999))"
      ]
     },
     "execution_count": 16,
     "metadata": {},
     "output_type": "execute_result"
    }
   ],
   "source": [
    "(compare_executions(r11, c11015), compare_executions(r12, c12015))"
   ]
  },
  {
   "cell_type": "code",
   "execution_count": 17,
   "id": "a8811be0",
   "metadata": {},
   "outputs": [
    {
     "data": {
      "text/plain": [
       "((-29.878, -0.1376, 29.602800000000002),\n",
       " (-24.4302, -8.8982, 6.633800000000001))"
      ]
     },
     "execution_count": 17,
     "metadata": {},
     "output_type": "execute_result"
    }
   ],
   "source": [
    "(compare_executions(r31, c31015), compare_executions(r12, c32015))"
   ]
  },
  {
   "cell_type": "code",
   "execution_count": 18,
   "id": "49539498",
   "metadata": {},
   "outputs": [
    {
     "data": {
      "text/plain": [
       "((-32.4101, -2.6847, 27.0407), (-20.1047, -4.2513, 11.6021))"
      ]
     },
     "execution_count": 18,
     "metadata": {},
     "output_type": "execute_result"
    }
   ],
   "source": [
    "(compare_executions(r101, c101015), compare_executions(r102, c102015))"
   ]
  },
  {
   "cell_type": "markdown",
   "id": "48f7ce7d",
   "metadata": {},
   "source": [
    "### Large Threshold"
   ]
  },
  {
   "cell_type": "code",
   "execution_count": 19,
   "id": "84544e9a",
   "metadata": {},
   "outputs": [
    {
     "name": "stdout",
     "output_type": "stream",
     "text": [
      "Done: Threshold = 0.3, Trade Interval = 3\n",
      "Done: Threshold = 0.3, Trade Interval = 9\n",
      "Done: Threshold = 0.3, Trade Interval = 30\n"
     ]
    }
   ],
   "source": [
    "c1103, c1203 = quick_twap.continuous_twap(threshold=0.3, verbose=True)\n",
    "c3103, c3203 = medium_twap.continuous_twap(threshold=0.3, verbose=True)\n",
    "c10103, c10203 = slow_twap.continuous_twap(threshold=0.3, verbose=True)"
   ]
  },
  {
   "cell_type": "code",
   "execution_count": 20,
   "id": "cb3056c2",
   "metadata": {},
   "outputs": [
    {
     "data": {
      "text/plain": [
       "((-28.012, 1.5702, 31.1524), (nan, nan, nan))"
      ]
     },
     "execution_count": 20,
     "metadata": {},
     "output_type": "execute_result"
    }
   ],
   "source": [
    "(compare_executions(r11, c1103), compare_executions(r12, c1203))"
   ]
  },
  {
   "cell_type": "code",
   "execution_count": 21,
   "id": "0850d6a9",
   "metadata": {},
   "outputs": [
    {
     "data": {
      "text/plain": [
       "((-30.148400000000002, -0.2143, 29.7198), (nan, nan, nan))"
      ]
     },
     "execution_count": 21,
     "metadata": {},
     "output_type": "execute_result"
    }
   ],
   "source": [
    "(compare_executions(r31, c3103), compare_executions(r12, c3203))"
   ]
  },
  {
   "cell_type": "code",
   "execution_count": 22,
   "id": "cc605a7a",
   "metadata": {},
   "outputs": [
    {
     "data": {
      "text/plain": [
       "((-32.7295, -2.9833, 26.762900000000002), (nan, nan, nan))"
      ]
     },
     "execution_count": 22,
     "metadata": {},
     "output_type": "execute_result"
    }
   ],
   "source": [
    "(compare_executions(r101, c10103), compare_executions(r102, c10203))"
   ]
  }
 ],
 "metadata": {
  "kernelspec": {
   "display_name": "Python 3 (ipykernel)",
   "language": "python",
   "name": "python3"
  },
  "language_info": {
   "codemirror_mode": {
    "name": "ipython",
    "version": 3
   },
   "file_extension": ".py",
   "mimetype": "text/x-python",
   "name": "python",
   "nbconvert_exporter": "python",
   "pygments_lexer": "ipython3",
   "version": "3.8.11"
  }
 },
 "nbformat": 4,
 "nbformat_minor": 5
}
