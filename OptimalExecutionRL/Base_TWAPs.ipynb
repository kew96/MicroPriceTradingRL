{
 "cells": [
  {
   "cell_type": "code",
   "execution_count": 28,
   "id": "0c2e092f",
   "metadata": {},
   "outputs": [],
   "source": [
    "import numpy as np\n",
    "import pandas as pd\n",
    "from tqdm.auto import tqdm, trange\n",
    "from matplotlib import pyplot as plt\n",
    "\n",
    "from micro_price_trading import Preprocess, TwoAssetSimulation\n",
    "from micro_price_trading.config import TWENTY_SECOND_DAY"
   ]
  },
  {
   "cell_type": "code",
   "execution_count": 3,
   "id": "8451ebb7",
   "metadata": {},
   "outputs": [],
   "source": [
    "raw = Preprocess('Test_TBT_TBF_data.csv')\n",
    "data = raw.process()"
   ]
  },
  {
   "cell_type": "code",
   "execution_count": 6,
   "id": "74554562",
   "metadata": {},
   "outputs": [],
   "source": [
    "sim = TwoAssetSimulation(data, steps=TWENTY_SECOND_DAY)"
   ]
  },
  {
   "cell_type": "code",
   "execution_count": 19,
   "id": "e53890ff",
   "metadata": {},
   "outputs": [],
   "source": [
    "paths = [-1]\n",
    "prices = list()\n",
    "for idx in range(0, TWENTY_SECOND_DAY, 15):\n",
    "    paths.append(paths[-1]+2)\n",
    "    prices.append(sim.states.mid_1[idx])\n",
    "    "
   ]
  },
  {
   "cell_type": "code",
   "execution_count": 20,
   "id": "a4f5f457",
   "metadata": {},
   "outputs": [
    {
     "data": {
      "text/plain": [
       "18.236410256410238"
      ]
     },
     "execution_count": 20,
     "metadata": {},
     "output_type": "execute_result"
    }
   ],
   "source": [
    "np.mean(prices)"
   ]
  },
  {
   "cell_type": "code",
   "execution_count": 15,
   "id": "89dee9d5",
   "metadata": {},
   "outputs": [],
   "source": [
    "paths = [-1]\n",
    "prices = list()\n",
    "for idx in range(0, TWENTY_SECOND_DAY, 15):\n",
    "    paths.append(paths[-1]+1)\n",
    "    prices.append(sim.states.mid_2[idx])\n",
    "    "
   ]
  },
  {
   "cell_type": "code",
   "execution_count": 16,
   "id": "44bdf8ec",
   "metadata": {},
   "outputs": [
    {
     "data": {
      "text/plain": [
       "16.704743589743586"
      ]
     },
     "execution_count": 16,
     "metadata": {},
     "output_type": "execute_result"
    }
   ],
   "source": [
    "np.mean(prices)"
   ]
  },
  {
   "cell_type": "code",
   "execution_count": 60,
   "id": "773df42f",
   "metadata": {},
   "outputs": [],
   "source": [
    "def base_twap(t, asset, iters):\n",
    "    shares = 1 if asset == 2 else 2\n",
    "    shares1 = list()\n",
    "    shares2 = list()\n",
    "    prices = list()\n",
    "    for _ in trange(iters):\n",
    "        shares1.append([0])\n",
    "        shares2.append([0])\n",
    "        prices.append([])\n",
    "        for idx in range(0, TWENTY_SECOND_DAY, t):\n",
    "            if asset == 1:\n",
    "                shares1[-1].append(shares1[-1][-1]+shares)\n",
    "                shares2[-1].append(0)\n",
    "            else:\n",
    "                shares2[-1].append(shares2[-1][-1]+shares)\n",
    "                shares1[-1].append(0)\n",
    "            prices[-1].append(sim.states[f'mid_{asset}'][idx])\n",
    "        sim._reset_simulation()\n",
    "    return np.array(prices), pd.DataFrame({'asset1': shares1[-1], 'asset2': shares2[-1]})"
   ]
  },
  {
   "cell_type": "code",
   "execution_count": 135,
   "id": "78bb29d4",
   "metadata": {},
   "outputs": [],
   "source": [
    "def random_twap(t, iters, weights=(0.5, 0.5)):\n",
    "    shares1 = list()\n",
    "    shares2 = list()\n",
    "    buy1 = list()\n",
    "    buy2 = list()\n",
    "    prices1 = list()\n",
    "    prices2 = list()\n",
    "    for _ in trange(iters):\n",
    "        shares1.append([0])\n",
    "        shares2.append([0])\n",
    "        prices1.append([])\n",
    "        prices2.append([])\n",
    "        buy1.append([])\n",
    "        buy2.append([])\n",
    "        for idx in range(0, TWENTY_SECOND_DAY, t):\n",
    "            asset = np.random.choice([1, 2], p=weights)\n",
    "            shares = 1 if asset == 2 else 2\n",
    "            if asset == 1:\n",
    "                shares1[-1].append(shares1[-1][-1]+shares)\n",
    "                shares2[-1].append(shares2[-1][-1])\n",
    "                prices1[-1].append(sim.states[f'mid_{asset}'][idx])\n",
    "                buy1[-1].append(shares)\n",
    "            else:\n",
    "                shares2[-1].append(shares2[-1][-1]+shares)\n",
    "                shares1[-1].append(shares1[-1][-1])\n",
    "                prices2[-1].append(sim.states[f'mid_{asset}'][idx])\n",
    "                buy2[-1].append(shares)\n",
    "        sim._reset_simulation()\n",
    "    return prices1, prices2, buy1, buy2, np.array(shares1), np.array(shares2)"
   ]
  },
  {
   "cell_type": "code",
   "execution_count": 110,
   "id": "cdd35779",
   "metadata": {},
   "outputs": [
    {
     "data": {
      "application/vnd.jupyter.widget-view+json": {
       "model_id": "795adc17cf4a43459f01daff8e16e678",
       "version_major": 2,
       "version_minor": 0
      },
      "text/plain": [
       "HBox(children=(FloatProgress(value=0.0, max=10.0), HTML(value='')))"
      ]
     },
     "metadata": {},
     "output_type": "display_data"
    },
    {
     "name": "stdout",
     "output_type": "stream",
     "text": [
      "\n"
     ]
    }
   ],
   "source": [
    "prices1, shares1 = base_twap(15, 1, 10)"
   ]
  },
  {
   "cell_type": "code",
   "execution_count": 111,
   "id": "744dfc54",
   "metadata": {},
   "outputs": [
    {
     "data": {
      "application/vnd.jupyter.widget-view+json": {
       "model_id": "ed1d5aae0f374366ab20ec4924dc9a4b",
       "version_major": 2,
       "version_minor": 0
      },
      "text/plain": [
       "HBox(children=(FloatProgress(value=0.0, max=10.0), HTML(value='')))"
      ]
     },
     "metadata": {},
     "output_type": "display_data"
    },
    {
     "name": "stdout",
     "output_type": "stream",
     "text": [
      "\n"
     ]
    }
   ],
   "source": [
    "prices2, shares2 = base_twap(15, 2, 10)"
   ]
  },
  {
   "cell_type": "code",
   "execution_count": 151,
   "id": "d5dae0ab",
   "metadata": {},
   "outputs": [
    {
     "data": {
      "application/vnd.jupyter.widget-view+json": {
       "model_id": "986024b4dafa4efcad58add7991d8057",
       "version_major": 2,
       "version_minor": 0
      },
      "text/plain": [
       "HBox(children=(FloatProgress(value=0.0, max=10.0), HTML(value='')))"
      ]
     },
     "metadata": {},
     "output_type": "display_data"
    },
    {
     "name": "stdout",
     "output_type": "stream",
     "text": [
      "\n"
     ]
    }
   ],
   "source": [
    "p1, p2, b1, b2, s1, s2 = random_twap(15, 10, (0.05, 0.95))"
   ]
  },
  {
   "cell_type": "code",
   "execution_count": 152,
   "id": "980c3f59",
   "metadata": {},
   "outputs": [],
   "source": [
    "p1_means = [np.mean(l) for l in p1]\n",
    "p2_means = [np.mean(l) for l in p2]"
   ]
  },
  {
   "cell_type": "code",
   "execution_count": 153,
   "id": "e497c348",
   "metadata": {},
   "outputs": [],
   "source": [
    "avg1 = (p1_means-prices1.mean(axis=1))*s1[:, -1]"
   ]
  },
  {
   "cell_type": "code",
   "execution_count": 154,
   "id": "c84b1083",
   "metadata": {},
   "outputs": [],
   "source": [
    "avg2 = (p2_means-prices2.mean(axis=1))*s2[:, -1]"
   ]
  },
  {
   "cell_type": "code",
   "execution_count": 155,
   "id": "1e444ff3",
   "metadata": {},
   "outputs": [
    {
     "data": {
      "text/plain": [
       "-1.2026025641025195"
      ]
     },
     "execution_count": 155,
     "metadata": {},
     "output_type": "execute_result"
    }
   ],
   "source": [
    "(avg1 + avg2).mean()"
   ]
  },
  {
   "cell_type": "code",
   "execution_count": 156,
   "id": "ad72e287",
   "metadata": {},
   "outputs": [
    {
     "data": {
      "image/png": "[encoded data removed]",
      "text/plain": [
       "<Figure size 1080x720 with 1 Axes>"
      ]
     },
     "metadata": {
      "needs_background": "light"
     },
     "output_type": "display_data"
    }
   ],
   "source": [
    "fig, ax = plt.subplots(figsize=(15, 10))\n",
    "shares1.plot('asset2', 'asset1', kind='line', ax=ax, label='asset1')\n",
    "shares2.plot('asset2', 'asset1', kind='line', ax=ax, label='asset2')\n",
    "ax.plot([shares2.asset2.iloc[-1], 0], [0, shares1.asset1.iloc[-1]], 'lime', linewidth=2)\n",
    "ax.plot([shares2.asset2.iloc[-1], 0], [0, shares1.asset1.iloc[-1]], 'k--', linewidth=2, dashes=(3, 3))\n",
    "ax.set_xlim(-5, 160)\n",
    "for idx in range(s1.shape[0]):\n",
    "    ax.plot(s2[idx], s1[idx], 'm', alpha=0.7)"
   ]
  }
 ],
 "metadata": {
  "kernelspec": {
   "display_name": "Python 3 (ipykernel)",
   "language": "python",
   "name": "python3"
  },
  "language_info": {
   "codemirror_mode": {
    "name": "ipython",
    "version": 3
   },
   "file_extension": ".py",
   "mimetype": "text/x-python",
   "name": "python",
   "nbconvert_exporter": "python",
   "pygments_lexer": "ipython3",
   "version": "3.8.11"
  }
 },
 "nbformat": 4,
 "nbformat_minor": 5
}
