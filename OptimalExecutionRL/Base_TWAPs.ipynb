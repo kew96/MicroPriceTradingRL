{
 "cells": [
  {
   "cell_type": "code",
   "execution_count": 1,
   "id": "0c2e092f",
   "metadata": {},
   "outputs": [],
   "source": [
    "import numpy as np\n",
    "import pandas as pd\n",
    "from tqdm.auto import tqdm, trange\n",
    "from matplotlib import pyplot as plt\n",
    "\n",
    "from micro_price_trading import Preprocess, TwoAssetSimulation\n",
    "from micro_price_trading.config import TWENTY_SECOND_DAY, DATA_PATH"
   ]
  },
  {
   "cell_type": "code",
   "execution_count": 2,
   "id": "8451ebb7",
   "metadata": {},
   "outputs": [],
   "source": [
    "raw = Preprocess('Test_TBT_TBF_data.csv')\n",
    "data = raw.process()"
   ]
  },
  {
   "cell_type": "code",
   "execution_count": 3,
   "id": "773df42f",
   "metadata": {},
   "outputs": [],
   "source": [
    "def base_twap(t, asset, iters):\n",
    "    sim = TwoAssetSimulation(data, steps=TWENTY_SECOND_DAY, seed=0)\n",
    "    shares = 1 if asset == 2 else 2\n",
    "    shares1 = list()\n",
    "    shares2 = list()\n",
    "    prices = list()\n",
    "    for _ in trange(iters):\n",
    "        shares1.append([0])\n",
    "        shares2.append([0])\n",
    "        prices.append([])\n",
    "        for idx in range(0, TWENTY_SECOND_DAY, t):\n",
    "            if asset == 1:\n",
    "                shares1[-1].append(shares1[-1][-1]+shares)\n",
    "                shares2[-1].append(0)\n",
    "            else:\n",
    "                shares2[-1].append(shares2[-1][-1]+shares)\n",
    "                shares1[-1].append(0)\n",
    "            prices[-1].append(sim.states[f'mid_{asset}'][idx])\n",
    "        sim._reset_simulation()\n",
    "    return np.array(prices), pd.DataFrame({'asset1': shares1[-1], 'asset2': shares2[-1]})"
   ]
  },
  {
   "cell_type": "code",
   "execution_count": 4,
   "id": "78bb29d4",
   "metadata": {},
   "outputs": [],
   "source": [
    "def random_twap(t, iters, weights=(0.5, 0.5)):\n",
    "    sim = TwoAssetSimulation(data, steps=TWENTY_SECOND_DAY, seed=0)\n",
    "    np.random.seed(0)\n",
    "    shares1 = list()\n",
    "    shares2 = list()\n",
    "    buy1 = list()\n",
    "    buy2 = list()\n",
    "    prices1 = list()\n",
    "    prices2 = list()\n",
    "    for _ in trange(iters):\n",
    "        shares1.append([0])\n",
    "        shares2.append([0])\n",
    "        prices1.append([])\n",
    "        prices2.append([])\n",
    "        buy1.append([])\n",
    "        buy2.append([])\n",
    "        all_choices = np.random.choice([1, 2], p=weights, size=TWENTY_SECOND_DAY//t)\n",
    "        for asset, idx in zip(all_choices, range(0, TWENTY_SECOND_DAY, t)):\n",
    "            shares = 1 if asset == 2 else 2\n",
    "            if asset == 1:\n",
    "                shares1[-1].append(shares1[-1][-1]+shares)\n",
    "                shares2[-1].append(shares2[-1][-1])\n",
    "                prices1[-1].append(sim.states[f'mid_{asset}'][idx])\n",
    "                buy1[-1].append(shares)\n",
    "            else:\n",
    "                shares2[-1].append(shares2[-1][-1]+shares)\n",
    "                shares1[-1].append(shares1[-1][-1])\n",
    "                prices2[-1].append(sim.states[f'mid_{asset}'][idx])\n",
    "                buy2[-1].append(shares)\n",
    "        sim._reset_simulation()\n",
    "    return prices1, prices2, buy1, buy2, np.array(shares1), np.array(shares2)"
   ]
  },
  {
   "cell_type": "code",
   "execution_count": 37,
   "id": "cdd35779",
   "metadata": {},
   "outputs": [
    {
     "data": {
      "application/vnd.jupyter.widget-view+json": {
       "model_id": "e22016cd7ad4433fb94cd51f4ac10380",
       "version_major": 2,
       "version_minor": 0
      },
      "text/plain": [
       "HBox(children=(FloatProgress(value=0.0, max=1000.0), HTML(value='')))"
      ]
     },
     "metadata": {},
     "output_type": "display_data"
    },
    {
     "name": "stdout",
     "output_type": "stream",
     "text": [
      "\n"
     ]
    }
   ],
   "source": [
    "prices1, shares1 = base_twap(3, 1, 1000)"
   ]
  },
  {
   "cell_type": "code",
   "execution_count": 38,
   "id": "744dfc54",
   "metadata": {},
   "outputs": [
    {
     "data": {
      "application/vnd.jupyter.widget-view+json": {
       "model_id": "44c9629992d245abaa76f80947c34630",
       "version_major": 2,
       "version_minor": 0
      },
      "text/plain": [
       "HBox(children=(FloatProgress(value=0.0, max=1000.0), HTML(value='')))"
      ]
     },
     "metadata": {},
     "output_type": "display_data"
    },
    {
     "name": "stdout",
     "output_type": "stream",
     "text": [
      "\n"
     ]
    }
   ],
   "source": [
    "prices2, shares2 = base_twap(3, 2, 1000)"
   ]
  },
  {
   "cell_type": "code",
   "execution_count": 39,
   "id": "d5dae0ab",
   "metadata": {},
   "outputs": [
    {
     "data": {
      "application/vnd.jupyter.widget-view+json": {
       "model_id": "5b0d57ee30fd4b76915e6c950207b42d",
       "version_major": 2,
       "version_minor": 0
      },
      "text/plain": [
       "HBox(children=(FloatProgress(value=0.0, max=1000.0), HTML(value='')))"
      ]
     },
     "metadata": {},
     "output_type": "display_data"
    },
    {
     "name": "stdout",
     "output_type": "stream",
     "text": [
      "\n"
     ]
    }
   ],
   "source": [
    "p1, p2, b1, b2, s1, s2 = random_twap(3, 1000, (0.5, 0.5))"
   ]
  },
  {
   "cell_type": "code",
   "execution_count": 40,
   "id": "980c3f59",
   "metadata": {},
   "outputs": [],
   "source": [
    "p1_means = [np.mean(l) for l in p1]\n",
    "p2_means = [np.mean(l) for l in p2]"
   ]
  },
  {
   "cell_type": "code",
   "execution_count": 41,
   "id": "e497c348",
   "metadata": {},
   "outputs": [],
   "source": [
    "avg1 = (p1_means-prices1.mean(axis=1))*s1[:, -1]"
   ]
  },
  {
   "cell_type": "code",
   "execution_count": 42,
   "id": "c84b1083",
   "metadata": {},
   "outputs": [],
   "source": [
    "avg2 = (p2_means-prices2.mean(axis=1))*s2[:, -1]"
   ]
  },
  {
   "cell_type": "code",
   "execution_count": 43,
   "id": "4397b57e",
   "metadata": {},
   "outputs": [],
   "source": [
    "diff = avg1 + avg2"
   ]
  },
  {
   "cell_type": "code",
   "execution_count": 44,
   "id": "dc666e09",
   "metadata": {},
   "outputs": [
    {
     "data": {
      "text/plain": [
       "(-0.07766351275532507, 0.06427628198603422)"
      ]
     },
     "execution_count": 44,
     "metadata": {},
     "output_type": "execute_result"
    }
   ],
   "source": [
    "(diff.mean() - 1.96 * diff.std()/np.sqrt(len(diff)), diff.mean() + 1.96 * diff.std()/np.sqrt(len(diff)))"
   ]
  },
  {
   "cell_type": "code",
   "execution_count": 13,
   "id": "cc2591ec",
   "metadata": {},
   "outputs": [],
   "source": [
    "def optimal_twap(t, iters, q_vals):\n",
    "    sim = TwoAssetSimulation(data, steps=TWENTY_SECOND_DAY, seed=0)\n",
    "    shares1 = list()\n",
    "    shares2 = list()\n",
    "    buy1 = list()\n",
    "    buy2 = list()\n",
    "    prices1 = list()\n",
    "    prices2 = list()\n",
    "    for _ in trange(iters):\n",
    "        shares1.append([0])\n",
    "        shares2.append([0])\n",
    "        prices1.append([])\n",
    "        prices2.append([])\n",
    "        buy1.append([])\n",
    "        buy2.append([])\n",
    "        for idx in range(0, TWENTY_SECOND_DAY, t):\n",
    "            res_imb_state = sim.states.states[idx]\n",
    "            qs = q_vals.loc[res_imb_state]\n",
    "            if qs[0] > qs[1]:\n",
    "                asset = 1\n",
    "            else:\n",
    "                asset = 2\n",
    "            shares = 1 if asset == 2 else 2\n",
    "            if asset == 1:\n",
    "                shares1[-1].append(shares1[-1][-1]+shares)\n",
    "                shares2[-1].append(shares2[-1][-1])\n",
    "                prices1[-1].append(sim.states[f'mid_{asset}'][idx])\n",
    "                buy1[-1].append(shares)\n",
    "            else:\n",
    "                shares2[-1].append(shares2[-1][-1]+shares)\n",
    "                shares1[-1].append(shares1[-1][-1])\n",
    "                prices2[-1].append(sim.states[f'mid_{asset}'][idx])\n",
    "                buy2[-1].append(shares)\n",
    "        sim._reset_simulation()\n",
    "    return prices1, prices2, buy1, buy2, np.array(shares1), np.array(shares2)"
   ]
  },
  {
   "cell_type": "code",
   "execution_count": 14,
   "id": "5e4dd433",
   "metadata": {},
   "outputs": [],
   "source": [
    "q_values = pd.read_csv(DATA_PATH.joinpath('q_values_9_27.csv'), index_col=0)"
   ]
  },
  {
   "cell_type": "code",
   "execution_count": 45,
   "id": "00c594aa",
   "metadata": {},
   "outputs": [
    {
     "data": {
      "application/vnd.jupyter.widget-view+json": {
       "model_id": "98753d2f62cc4bed945e006d406a70dc",
       "version_major": 2,
       "version_minor": 0
      },
      "text/plain": [
       "HBox(children=(FloatProgress(value=0.0, max=1000.0), HTML(value='')))"
      ]
     },
     "metadata": {},
     "output_type": "display_data"
    },
    {
     "name": "stdout",
     "output_type": "stream",
     "text": [
      "\n"
     ]
    }
   ],
   "source": [
    "op1, op2, ob1, ob2, os1, os2 = optimal_twap(3, 1000, q_values)"
   ]
  },
  {
   "cell_type": "code",
   "execution_count": 46,
   "id": "969d4308",
   "metadata": {},
   "outputs": [],
   "source": [
    "op1_means = [np.mean(l) for l in op1]\n",
    "op2_means = [np.mean(l) for l in op2]"
   ]
  },
  {
   "cell_type": "code",
   "execution_count": 47,
   "id": "22da7f59",
   "metadata": {},
   "outputs": [],
   "source": [
    "oavg1 = (op1_means-prices1.mean(axis=1))*os1[:, -1]"
   ]
  },
  {
   "cell_type": "code",
   "execution_count": 48,
   "id": "2754d220",
   "metadata": {},
   "outputs": [],
   "source": [
    "oavg2 = (op2_means-prices2.mean(axis=1))*os2[:, -1]"
   ]
  },
  {
   "cell_type": "code",
   "execution_count": 49,
   "id": "557ee826",
   "metadata": {},
   "outputs": [],
   "source": [
    "odiff = oavg1 + oavg2"
   ]
  },
  {
   "cell_type": "code",
   "execution_count": 50,
   "id": "e4c6c473",
   "metadata": {},
   "outputs": [
    {
     "data": {
      "text/plain": [
       "(-0.12273668178635445, 0.155878066401739)"
      ]
     },
     "execution_count": 50,
     "metadata": {},
     "output_type": "execute_result"
    }
   ],
   "source": [
    "(odiff.mean() - 1.96 * odiff.std()/np.sqrt(len(odiff)), odiff.mean() + 1.96 * odiff.std()/np.sqrt(len(odiff)))"
   ]
  },
  {
   "cell_type": "code",
   "execution_count": 51,
   "id": "ad72e287",
   "metadata": {},
   "outputs": [
    {
     "data": {
      "image/png": "[encoded data removed]",
      "text/plain": [
       "<Figure size 1080x720 with 1 Axes>"
      ]
     },
     "metadata": {
      "needs_background": "light"
     },
     "output_type": "display_data"
    }
   ],
   "source": [
    "fig, ax = plt.subplots(figsize=(15, 10))\n",
    "shares1.plot('asset2', 'asset1', kind='line', ax=ax, label='asset1')\n",
    "shares2.plot('asset2', 'asset1', kind='line', ax=ax, label='asset2')\n",
    "ax.plot([shares2.asset2.iloc[-1], 0], [0, shares1.asset1.iloc[-1]], 'lime', linewidth=2)\n",
    "ax.plot([shares2.asset2.iloc[-1], 0], [0, shares1.asset1.iloc[-1]], 'k--', linewidth=2, dashes=(3, 3))\n",
    "ax.set_xlim(-5, shares1.asset1.max()+10)\n",
    "for idx in range(s1.shape[0]):\n",
    "    ax.plot(s2[idx], s1[idx], 'm', alpha=0.7)\n",
    "for idx in range(os1.shape[0]):\n",
    "    ax.plot(os2[idx], os1[idx], 'c', alpha=0.7)"
   ]
  }
 ],
 "metadata": {
  "kernelspec": {
   "display_name": "Python 3 (ipykernel)",
   "language": "python",
   "name": "python3"
  },
  "language_info": {
   "codemirror_mode": {
    "name": "ipython",
    "version": 3
   },
   "file_extension": ".py",
   "mimetype": "text/x-python",
   "name": "python",
   "nbconvert_exporter": "python",
   "pygments_lexer": "ipython3",
   "version": "3.8.11"
  }
 },
 "nbformat": 4,
 "nbformat_minor": 5
}
