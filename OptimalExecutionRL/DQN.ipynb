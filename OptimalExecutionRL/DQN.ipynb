{
 "cells": [
  {
   "cell_type": "code",
   "execution_count": 1,
   "id": "0c619b80",
   "metadata": {
    "pycharm": {
     "is_executing": false
    }
   },
   "outputs": [],
   "source": [
    "from rljax.algorithm import DQN\n",
    "from rljax.trainer import Trainer\n",
    "import numpy as np\n",
    "import pandas as pd\n",
    "\n",
    "from micro_price_trading.config import TWENTY_SECOND_DAY\n",
    "from micro_price_trading import Preprocess, OptimalExecutionEnvironment"
   ]
  },
  {
   "cell_type": "code",
   "execution_count": 2,
   "id": "1f6732b3",
   "metadata": {},
   "outputs": [],
   "source": [
    "raw = Preprocess('TBT_TBF_data.csv', res_bin=6)\n",
    "data = raw.process()"
   ]
  },
  {
   "cell_type": "code",
   "execution_count": 3,
   "id": "2a7fd7b0",
   "metadata": {},
   "outputs": [
    {
     "name": "stderr",
     "output_type": "stream",
     "text": [
      "WARNING:absl:No GPU/TPU found, falling back to CPU. (Set TF_CPP_MIN_LOG_LEVEL=0 and rerun for more info.)\n"
     ]
    },
    {
     "name": "stdout",
     "output_type": "stream",
     "text": [
      "Num steps: 2000     Return: -2941032685.2   Time: 0:00:43\n",
      "Num steps: 4000     Return: -2941829078.9   Time: 0:01:37\n",
      "Num steps: 6000     Return: -5062383578.8   Time: 0:02:29\n",
      "Num steps: 8000     Return: -5054255970.8   Time: 0:03:23\n",
      "Num steps: 10000    Return: -5062789941.9   Time: 0:04:19\n"
     ]
    }
   ],
   "source": [
    "# 23,400 seconds between 9:30am and 4pm broken in 10 second increments\n",
    "\n",
    "NUM_AGENT_STEPS = 10000\n",
    "SEED = 0\n",
    "\n",
    "env = OptimalExecutionEnvironment(\n",
    "    data,\n",
    "    risk_weights=(2, 1),\n",
    "    trade_penalty=1.1,\n",
    "    reward_func=lambda port, p: port.cash,\n",
    "    steps=TWENTY_SECOND_DAY,\n",
    "    end_units_risk=TWENTY_SECOND_DAY//5*2,\n",
    "    seed=SEED\n",
    ")\n",
    "env_test = env.copy_env()\n",
    "\n",
    "algo = DQN(\n",
    "    num_agent_steps=NUM_AGENT_STEPS,\n",
    "    state_space=env.observation_space,\n",
    "    action_space=env.action_space,\n",
    "    seed=SEED,\n",
    "    batch_size=256,\n",
    "    start_steps=1000,\n",
    "    update_interval=1,\n",
    "    update_interval_target=400,\n",
    "    eps_decay_steps=0,\n",
    "    loss_type=\"l2\",\n",
    "    lr=1e-4,\n",
    ")\n",
    "\n",
    "trainer = Trainer(\n",
    "    env=env,\n",
    "    env_test=env_test,\n",
    "    algo=algo,\n",
    "    log_dir=\"\",\n",
    "    num_agent_steps=NUM_AGENT_STEPS,\n",
    "    eval_interval=2000,\n",
    "    seed=SEED,\n",
    ")\n",
    "trainer.train()"
   ]
  },
  {
   "cell_type": "code",
   "execution_count": 4,
   "id": "ac9d52ff",
   "metadata": {},
   "outputs": [
    {
     "data": {
      "text/plain": [
       "468"
      ]
     },
     "execution_count": 4,
     "metadata": {},
     "output_type": "execute_result"
    }
   ],
   "source": [
    "env.end_units_risk"
   ]
  },
  {
   "cell_type": "code",
   "execution_count": 5,
   "id": "f47b4b3f",
   "metadata": {},
   "outputs": [
    {
     "name": "stderr",
     "output_type": "stream",
     "text": [
      "/mnt/c/Users/cspa3/Desktop/Projects/CitiExecutionAlgo/micro_price_trading/history/optimal_execution_history.py:72: VisibleDeprecationWarning: Creating an ndarray from ragged nested sequences (which is a list-or-tuple of lists-or-tuples-or ndarrays with different lengths or shapes) is deprecated. If you meant to do this, you must specify 'dtype=object' when creating the ndarray\n",
      "  return np.array(self._portfolios)\n"
     ]
    },
    {
     "data": {
      "text/plain": [
       "[Portfolio(time=1161, cash=-8579516.56, shares=(399, 521867), prices=(17.85500000000001, 16.415), total_risk=522665, res_imbalance_state='201', trade=Trade(asset=2, shares=450, risk=450, price=16.415, cost=7386.75, penalty=False), penalty_trade=None),\n",
       " Portfolio(time=1162, cash=-8586903.31, shares=(399, 522317), prices=(17.85500000000001, 16.415), total_risk=523115, res_imbalance_state='101', trade=Trade(asset=2, shares=450, risk=450, price=16.415, cost=7386.75, penalty=False), penalty_trade=None),\n",
       " Portfolio(time=1163, cash=-8594290.06, shares=(399, 522767), prices=(17.85500000000001, 16.415), total_risk=523565, res_imbalance_state='211', trade=Trade(asset=2, shares=450, risk=450, price=16.415, cost=7386.75, penalty=False), penalty_trade=None),\n",
       " Portfolio(time=1164, cash=-8601676.81, shares=(399, 523217), prices=(17.85500000000001, 16.415), total_risk=524015, res_imbalance_state='211', trade=Trade(asset=2, shares=450, risk=450, price=16.415, cost=7386.75, penalty=False), penalty_trade=None),\n",
       " Portfolio(time=1165, cash=-8609063.56, shares=(399, 523667), prices=(17.85500000000001, 16.425), total_risk=524465, res_imbalance_state='311', trade=Trade(asset=2, shares=450, risk=450, price=16.415, cost=7386.75, penalty=False), penalty_trade=None),\n",
       " Portfolio(time=1166, cash=-8616454.81, shares=(399, 524117), prices=(17.85500000000001, 16.425), total_risk=524915, res_imbalance_state='310', trade=Trade(asset=2, shares=450, risk=450, price=16.425, cost=7391.25, penalty=False), penalty_trade=None),\n",
       " Portfolio(time=1167, cash=-8623846.06, shares=(399, 524567), prices=(17.85500000000001, 16.425), total_risk=525365, res_imbalance_state='200', trade=Trade(asset=2, shares=450, risk=450, price=16.425, cost=7391.25, penalty=False), penalty_trade=None),\n",
       " Portfolio(time=1168, cash=-8631237.31, shares=(399, 525017), prices=(17.85500000000001, 16.425), total_risk=525815, res_imbalance_state='200', trade=Trade(asset=2, shares=450, risk=450, price=16.425, cost=7391.25, penalty=False), penalty_trade=None),\n",
       " Portfolio(time=1169, cash=-8638628.56, shares=(399, 525467), prices=(17.85500000000001, 16.425), total_risk=526265, res_imbalance_state='120', trade=Trade(asset=2, shares=450, risk=450, price=16.425, cost=7391.25, penalty=False), penalty_trade=None),\n",
       " Portfolio(time=1170, cash=-8646019.81, shares=(399, 525917), prices=(17.85500000000001, 16.425), total_risk=526715, res_imbalance_state='120', trade=Trade(asset=2, shares=450, risk=450, price=16.425, cost=7391.25, penalty=False), penalty_trade=None)]"
      ]
     },
     "execution_count": 5,
     "metadata": {},
     "output_type": "execute_result"
    }
   ],
   "source": [
    "env_test.portfolio_history[-1][-10:]"
   ]
  },
  {
   "cell_type": "code",
   "execution_count": 6,
   "id": "d44c23e9",
   "metadata": {},
   "outputs": [
    {
     "ename": "AttributeError",
     "evalue": "'OptimalExecutionEnvironment' object has no attribute '_portfolio_values_history'",
     "output_type": "error",
     "traceback": [
      "\u001B[0;31m---------------------------------------------------------------------------\u001B[0m",
      "\u001B[0;31mAttributeError\u001B[0m                            Traceback (most recent call last)",
      "\u001B[0;32m/tmp/ipykernel_23302/2893368472.py\u001B[0m in \u001B[0;36m<module>\u001B[0;34m\u001B[0m\n\u001B[0;32m----> 1\u001B[0;31m \u001B[0menv\u001B[0m\u001B[0;34m.\u001B[0m\u001B[0mplot\u001B[0m\u001B[0;34m(\u001B[0m\u001B[0;34m)\u001B[0m\u001B[0;34m\u001B[0m\u001B[0;34m\u001B[0m\u001B[0m\n\u001B[0m",
      "\u001B[0;32m/mnt/c/Users/cspa3/Desktop/Projects/CitiExecutionAlgo/micro_price_trading/environment/optimal_execution_environment.py\u001B[0m in \u001B[0;36mplot\u001B[0;34m(self, data, num_env_to_analyze, state)\u001B[0m\n\u001B[1;32m    331\u001B[0m             \u001B[0mfig\u001B[0m\u001B[0;34m,\u001B[0m \u001B[0maxs\u001B[0m \u001B[0;34m=\u001B[0m \u001B[0mplt\u001B[0m\u001B[0;34m.\u001B[0m\u001B[0msubplots\u001B[0m\u001B[0;34m(\u001B[0m\u001B[0mfigsize\u001B[0m\u001B[0;34m=\u001B[0m\u001B[0;34m(\u001B[0m\u001B[0;36m15\u001B[0m\u001B[0;34m,\u001B[0m \u001B[0;36m10\u001B[0m\u001B[0;34m)\u001B[0m\u001B[0;34m)\u001B[0m\u001B[0;34m\u001B[0m\u001B[0;34m\u001B[0m\u001B[0m\n\u001B[1;32m    332\u001B[0m \u001B[0;34m\u001B[0m\u001B[0m\n\u001B[0;32m--> 333\u001B[0;31m             axs.plot(range(len(self._portfolio_values_history[-2])), self._portfolio_values_history[-2], label='Total',\n\u001B[0m\u001B[1;32m    334\u001B[0m                      c='k', alpha=0.7)\n\u001B[1;32m    335\u001B[0m             \u001B[0maxs\u001B[0m\u001B[0;34m.\u001B[0m\u001B[0mset_ylabel\u001B[0m\u001B[0;34m(\u001B[0m\u001B[0;34m'Total Value'\u001B[0m\u001B[0;34m,\u001B[0m \u001B[0mfontsize\u001B[0m\u001B[0;34m=\u001B[0m\u001B[0;36m14\u001B[0m\u001B[0;34m)\u001B[0m\u001B[0;34m\u001B[0m\u001B[0;34m\u001B[0m\u001B[0m\n",
      "\u001B[0;31mAttributeError\u001B[0m: 'OptimalExecutionEnvironment' object has no attribute '_portfolio_values_history'"
     ]
    },
    {
     "data": {
      "image/png": "[encoded data removed]",
      "text/plain": [
       "<Figure size 1080x720 with 1 Axes>"
      ]
     },
     "metadata": {
      "needs_background": "light"
     },
     "output_type": "display_data"
    }
   ],
   "source": [
    "env.plot()"
   ]
  },
  {
   "cell_type": "code",
   "execution_count": null,
   "id": "b4ad22ae",
   "metadata": {},
   "outputs": [],
   "source": [
    "env_test.plot()"
   ]
  },
  {
   "cell_type": "code",
   "execution_count": null,
   "id": "a54e1f19",
   "metadata": {},
   "outputs": [],
   "source": [
    "env_test.plot('position_history')"
   ]
  },
  {
   "cell_type": "code",
   "execution_count": null,
   "id": "733cd314",
   "metadata": {},
   "outputs": [],
   "source": [
    "env_test.plot('summarize_decisions')"
   ]
  },
  {
   "cell_type": "code",
   "execution_count": null,
   "id": "2fd2588b",
   "metadata": {},
   "outputs": [],
   "source": [
    "env.plot('learning_progress')"
   ]
  }
 ],
 "metadata": {
  "kernelspec": {
   "display_name": "Python 3 (ipykernel)",
   "language": "python",
   "name": "python3"
  },
  "language_info": {
   "codemirror_mode": {
    "name": "ipython",
    "version": 3
   },
   "file_extension": ".py",
   "mimetype": "text/x-python",
   "name": "python",
   "nbconvert_exporter": "python",
   "pygments_lexer": "ipython3",
   "version": "3.8.11"
  }
 },
 "nbformat": 4,
 "nbformat_minor": 5
}