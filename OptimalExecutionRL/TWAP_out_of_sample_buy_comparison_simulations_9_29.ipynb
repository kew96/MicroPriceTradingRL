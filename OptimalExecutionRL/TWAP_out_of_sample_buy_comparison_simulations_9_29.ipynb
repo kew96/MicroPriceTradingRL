{
 "cells": [
  {
   "cell_type": "markdown",
   "id": "fb50d60d",
   "metadata": {},
   "source": [
    "# TWAP Comparison - 9/29"
   ]
  },
  {
   "cell_type": "code",
   "execution_count": 1,
   "id": "b2cc3e70",
   "metadata": {},
   "outputs": [],
   "source": [
    "from micro_price_trading import TWAP\n",
    "from micro_price_trading.utils import CI, compare_executions"
   ]
  },
  {
   "cell_type": "markdown",
   "id": "5080259e",
   "metadata": {},
   "source": [
    "## Setup"
   ]
  },
  {
   "cell_type": "code",
   "execution_count": 2,
   "id": "15fac114",
   "metadata": {},
   "outputs": [],
   "source": [
    "quick_twap = TWAP(trade_interval=3, q_values_file_name='q_values_TBT_TBF_9_28.csv', simulations_file='TBT_TBF_9_29_sims.npy')\n",
    "medium_twap = TWAP(trade_interval=9, q_values_file_name='q_values_TBT_TBF_9_28.csv', simulations_file='TBT_TBF_9_29_sims.npy')\n",
    "slow_twap = TWAP(trade_interval=30, q_values_file_name='q_values_TBT_TBF_9_28.csv', simulations_file='TBT_TBF_9_29_sims.npy')"
   ]
  },
  {
   "cell_type": "markdown",
   "id": "cf3a624b",
   "metadata": {},
   "source": [
    "## Random TWAP"
   ]
  },
  {
   "cell_type": "code",
   "execution_count": 3,
   "id": "edf61c1e",
   "metadata": {},
   "outputs": [],
   "source": [
    "r11, r12 = quick_twap.random_twap()\n",
    "r31, r32 = medium_twap.random_twap()\n",
    "r101, r102 = slow_twap.random_twap()"
   ]
  },
  {
   "cell_type": "code",
   "execution_count": 4,
   "id": "9aa23b48",
   "metadata": {},
   "outputs": [
    {
     "data": {
      "text/plain": [
       "((18.2998, 18.3027, 18.305600000000002), (16.6485, 16.65, 16.6515))"
      ]
     },
     "execution_count": 4,
     "metadata": {},
     "output_type": "execute_result"
    }
   ],
   "source": [
    "(CI(r11), CI(r12))"
   ]
  },
  {
   "cell_type": "code",
   "execution_count": 5,
   "id": "1612ec8c",
   "metadata": {},
   "outputs": [
    {
     "data": {
      "text/plain": [
       "((18.2991, 18.302, 18.3049), (16.6485, 16.65, 16.6515))"
      ]
     },
     "execution_count": 5,
     "metadata": {},
     "output_type": "execute_result"
    }
   ],
   "source": [
    "(CI(r31), CI(r32))"
   ]
  },
  {
   "cell_type": "code",
   "execution_count": 6,
   "id": "d448b015",
   "metadata": {},
   "outputs": [
    {
     "data": {
      "text/plain": [
       "((18.3028, 18.3058, 18.3088), (16.6485, 16.6498, 16.6511))"
      ]
     },
     "execution_count": 6,
     "metadata": {},
     "output_type": "execute_result"
    }
   ],
   "source": [
    "(CI(r101), CI(r102))"
   ]
  },
  {
   "cell_type": "markdown",
   "id": "390499a6",
   "metadata": {},
   "source": [
    "## Optimal TWAP"
   ]
  },
  {
   "cell_type": "code",
   "execution_count": 7,
   "id": "0c5934b9",
   "metadata": {},
   "outputs": [],
   "source": [
    "o11, o12 = quick_twap.optimal_twap()\n",
    "o31, o32 = medium_twap.optimal_twap()\n",
    "o101, o102 = slow_twap.optimal_twap()"
   ]
  },
  {
   "cell_type": "code",
   "execution_count": 8,
   "id": "09ffae3e",
   "metadata": {},
   "outputs": [
    {
     "data": {
      "text/plain": [
       "((2.8715, 3.923, 4.9745), (1.3777, 2.1831, 2.9885))"
      ]
     },
     "execution_count": 8,
     "metadata": {},
     "output_type": "execute_result"
    }
   ],
   "source": [
    "(compare_executions(r11, o11), compare_executions(r12, o12))"
   ]
  },
  {
   "cell_type": "code",
   "execution_count": 9,
   "id": "c09ac759",
   "metadata": {},
   "outputs": [
    {
     "data": {
      "text/plain": [
       "((-5.0053, -3.6081, -2.2108999999999996), (1.4954, 2.3877, 3.2800000000000002))"
      ]
     },
     "execution_count": 9,
     "metadata": {},
     "output_type": "execute_result"
    }
   ],
   "source": [
    "(compare_executions(r31, o31), compare_executions(r12, o32))"
   ]
  },
  {
   "cell_type": "code",
   "execution_count": 10,
   "id": "7d0ac141",
   "metadata": {},
   "outputs": [
    {
     "data": {
      "text/plain": [
       "((27.964399999999998, 31.4196, 34.8748), (-3.3676000000000004, -0.2783, 2.811))"
      ]
     },
     "execution_count": 10,
     "metadata": {},
     "output_type": "execute_result"
    }
   ],
   "source": [
    "(compare_executions(r101, o101), compare_executions(r102, o102))"
   ]
  },
  {
   "cell_type": "markdown",
   "id": "8cb807ce",
   "metadata": {},
   "source": [
    "## Continuous TWAP"
   ]
  },
  {
   "cell_type": "markdown",
   "id": "4d4afd0d",
   "metadata": {},
   "source": [
    "### No Threshold"
   ]
  },
  {
   "cell_type": "code",
   "execution_count": 11,
   "id": "8e49a3b3",
   "metadata": {
    "scrolled": true
   },
   "outputs": [
    {
     "name": "stdout",
     "output_type": "stream",
     "text": [
      "Done: Threshold = 0, Trade Interval = 3\n",
      "Done: Threshold = 0, Trade Interval = 9\n",
      "Done: Threshold = 0, Trade Interval = 30\n"
     ]
    }
   ],
   "source": [
    "c110, c120 = quick_twap.continuous_twap(threshold=0, verbose=True)\n",
    "c310, c320 = medium_twap.continuous_twap(threshold=0, verbose=True)\n",
    "c1010, c1020 = slow_twap.continuous_twap(threshold=0, verbose=True)"
   ]
  },
  {
   "cell_type": "code",
   "execution_count": 12,
   "id": "bb9c7d1f",
   "metadata": {},
   "outputs": [
    {
     "data": {
      "text/plain": [
       "((-38.5034, 2.1802, 42.8638), (-17.525199999999998, 3.1657, 23.8566))"
      ]
     },
     "execution_count": 12,
     "metadata": {},
     "output_type": "execute_result"
    }
   ],
   "source": [
    "(compare_executions(r11, c110), compare_executions(r12, c120))"
   ]
  },
  {
   "cell_type": "code",
   "execution_count": 13,
   "id": "f8c70b92",
   "metadata": {},
   "outputs": [
    {
     "data": {
      "text/plain": [
       "((-44.664899999999996, -4.0126, 36.6397), (-11.5568, 9.1549, 29.8666))"
      ]
     },
     "execution_count": 13,
     "metadata": {},
     "output_type": "execute_result"
    }
   ],
   "source": [
    "(compare_executions(r31, c310), compare_executions(r12, c320))"
   ]
  },
  {
   "cell_type": "code",
   "execution_count": 14,
   "id": "f1a1ea66",
   "metadata": {},
   "outputs": [
    {
     "data": {
      "text/plain": [
       "((-7.468899999999998, 34.325, 76.1189), (-8.400199999999998, 11.2741, 30.9484))"
      ]
     },
     "execution_count": 14,
     "metadata": {},
     "output_type": "execute_result"
    }
   ],
   "source": [
    "(compare_executions(r101, c1010), compare_executions(r102, c1020))"
   ]
  },
  {
   "cell_type": "markdown",
   "id": "d4ba00f2",
   "metadata": {},
   "source": [
    "### Medium Threshold"
   ]
  },
  {
   "cell_type": "code",
   "execution_count": null,
   "id": "001fb8e4",
   "metadata": {},
   "outputs": [
    {
     "name": "stdout",
     "output_type": "stream",
     "text": [
      "Done: Threshold = 0.15, Trade Interval = 3\n",
      "Done: Threshold = 0.15, Trade Interval = 9\n"
     ]
    }
   ],
   "source": [
    "c11015, c12015 = quick_twap.continuous_twap(threshold=0.15, verbose=True)\n",
    "c31015, c32015 = medium_twap.continuous_twap(threshold=0.15, verbose=True)\n",
    "c101015, c102015 = slow_twap.continuous_twap(threshold=0.15, verbose=True)"
   ]
  },
  {
   "cell_type": "code",
   "execution_count": null,
   "id": "06353383",
   "metadata": {},
   "outputs": [],
   "source": [
    "(compare_executions(r11, c11015), compare_executions(r12, c12015))"
   ]
  },
  {
   "cell_type": "code",
   "execution_count": null,
   "id": "a8811be0",
   "metadata": {},
   "outputs": [],
   "source": [
    "(compare_executions(r31, c31015), compare_executions(r12, c32015))"
   ]
  },
  {
   "cell_type": "code",
   "execution_count": null,
   "id": "49539498",
   "metadata": {},
   "outputs": [],
   "source": [
    "(compare_executions(r101, c101015), compare_executions(r102, c102015))"
   ]
  },
  {
   "cell_type": "markdown",
   "id": "48f7ce7d",
   "metadata": {},
   "source": [
    "### Large Threshold"
   ]
  },
  {
   "cell_type": "code",
   "execution_count": null,
   "id": "84544e9a",
   "metadata": {},
   "outputs": [],
   "source": [
    "c1103, c1203 = quick_twap.continuous_twap(threshold=0.3, verbose=True)\n",
    "c3103, c3203 = medium_twap.continuous_twap(threshold=0.3, verbose=True)\n",
    "c10103, c10203 = slow_twap.continuous_twap(threshold=0.3, verbose=True)"
   ]
  },
  {
   "cell_type": "code",
   "execution_count": null,
   "id": "cb3056c2",
   "metadata": {},
   "outputs": [],
   "source": [
    "(compare_executions(r11, c1103), compare_executions(r12, c1203))"
   ]
  },
  {
   "cell_type": "code",
   "execution_count": null,
   "id": "0850d6a9",
   "metadata": {},
   "outputs": [],
   "source": [
    "(compare_executions(r31, c3103), compare_executions(r12, c3203))"
   ]
  },
  {
   "cell_type": "code",
   "execution_count": null,
   "id": "cc605a7a",
   "metadata": {},
   "outputs": [],
   "source": [
    "(compare_executions(r101, c10103), compare_executions(r102, c10203))"
   ]
  }
 ],
 "metadata": {
  "kernelspec": {
   "display_name": "Python 3 (ipykernel)",
   "language": "python",
   "name": "python3"
  },
  "language_info": {
   "codemirror_mode": {
    "name": "ipython",
    "version": 3
   },
   "file_extension": ".py",
   "mimetype": "text/x-python",
   "name": "python",
   "nbconvert_exporter": "python",
   "pygments_lexer": "ipython3",
   "version": "3.8.11"
  }
 },
 "nbformat": 4,
 "nbformat_minor": 5
}
