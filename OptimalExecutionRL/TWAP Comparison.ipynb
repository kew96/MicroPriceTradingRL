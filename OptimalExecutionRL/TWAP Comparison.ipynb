{
 "cells": [
  {
   "cell_type": "markdown",
   "id": "395317ea",
   "metadata": {},
   "source": [
    "# TWAP Comparison"
   ]
  },
  {
   "cell_type": "code",
   "execution_count": 1,
   "id": "5738b6a3",
   "metadata": {},
   "outputs": [],
   "source": [
    "from micro_price_trading import TWAP\n",
    "from micro_price_trading.utils import CI"
   ]
  },
  {
   "cell_type": "markdown",
   "id": "a9a40dee",
   "metadata": {},
   "source": [
    "## Setup"
   ]
  },
  {
   "cell_type": "code",
   "execution_count": 2,
   "id": "0ac6405e",
   "metadata": {},
   "outputs": [],
   "source": [
    "quick_twap = TWAP(trade_interval=1)\n",
    "medium_twap = TWAP(trade_interval=5)\n",
    "slow_twap = TWAP(trade_interval=10)\n",
    "very_slow_twap = TWAP(trade_interval=20)"
   ]
  },
  {
   "cell_type": "markdown",
   "id": "3615761e",
   "metadata": {},
   "source": [
    "## Random TWAP"
   ]
  },
  {
   "cell_type": "code",
   "execution_count": 3,
   "id": "de784922",
   "metadata": {},
   "outputs": [],
   "source": [
    "r11, r12 = quick_twap.random_twap()\n",
    "r51, r52 = medium_twap.random_twap()\n",
    "r101, r102 = slow_twap.random_twap()\n",
    "r201, r202 = very_slow_twap.random_twap()"
   ]
  },
  {
   "cell_type": "code",
   "execution_count": 4,
   "id": "ce6e2657",
   "metadata": {},
   "outputs": [
    {
     "data": {
      "text/plain": [
       "((18.312628103312232, 18.314788318671454, 18.316948534030676),\n",
       " (16.660115571937354, 16.66129446329528, 16.66247335465321))"
      ]
     },
     "execution_count": 4,
     "metadata": {},
     "output_type": "execute_result"
    }
   ],
   "source": [
    "(CI(r11), CI(r12))"
   ]
  },
  {
   "cell_type": "code",
   "execution_count": 5,
   "id": "042ad0c5",
   "metadata": {},
   "outputs": [
    {
     "data": {
      "text/plain": [
       "((18.31186286995555, 18.31399318992248, 18.31612350988941),\n",
       " (16.66045425969376, 16.661663666666666, 16.66287307363957))"
      ]
     },
     "execution_count": 5,
     "metadata": {},
     "output_type": "execute_result"
    }
   ],
   "source": [
    "(CI(r51), CI(r52))"
   ]
  },
  {
   "cell_type": "code",
   "execution_count": 6,
   "id": "17394312",
   "metadata": {},
   "outputs": [
    {
     "data": {
      "text/plain": [
       "((18.312403193649484, 18.314555660000003, 18.316708126350523),\n",
       " (16.660310568693216, 16.661513619047618, 16.66271666940202))"
      ]
     },
     "execution_count": 6,
     "metadata": {},
     "output_type": "execute_result"
    }
   ],
   "source": [
    "(CI(r101), CI(r102))"
   ]
  },
  {
   "cell_type": "code",
   "execution_count": 7,
   "id": "fcc82760",
   "metadata": {},
   "outputs": [
    {
     "data": {
      "text/plain": [
       "((18.31171598300383, 18.31386655882353, 18.316017134643232),\n",
       " (16.660643994957464, 16.661856250000003, 16.663068505042542))"
      ]
     },
     "execution_count": 7,
     "metadata": {},
     "output_type": "execute_result"
    }
   ],
   "source": [
    "(CI(r201), CI(r202))"
   ]
  },
  {
   "cell_type": "markdown",
   "id": "ebe62708",
   "metadata": {},
   "source": [
    "## Optimal TWAP"
   ]
  },
  {
   "cell_type": "code",
   "execution_count": 8,
   "id": "63655155",
   "metadata": {},
   "outputs": [],
   "source": [
    "o11, o12 = quick_twap.optimal_twap()\n",
    "o51, o52 = medium_twap.optimal_twap()\n",
    "o101, o102 = slow_twap.optimal_twap()\n",
    "o201, o202 = very_slow_twap.optimal_twap()"
   ]
  },
  {
   "cell_type": "code",
   "execution_count": 9,
   "id": "835f134c",
   "metadata": {},
   "outputs": [
    {
     "data": {
      "text/plain": [
       "((18.312880063490365, 18.31504339080947, 18.317206718128578),\n",
       " (16.660192863561775, 16.661370222950705, 16.662547582339634))"
      ]
     },
     "execution_count": 9,
     "metadata": {},
     "output_type": "execute_result"
    }
   ],
   "source": [
    "(CI(o11), CI(o12))"
   ]
  },
  {
   "cell_type": "code",
   "execution_count": 10,
   "id": "e1dc71fb",
   "metadata": {},
   "outputs": [
    {
     "data": {
      "text/plain": [
       "((18.312917044323374, 18.315084017189346, 18.317250990055317),\n",
       " (16.660217344687684, 16.661396986724522, 16.66257662876136))"
      ]
     },
     "execution_count": 10,
     "metadata": {},
     "output_type": "execute_result"
    }
   ],
   "source": [
    "(CI(o51), CI(o52))"
   ]
  },
  {
   "cell_type": "code",
   "execution_count": 11,
   "id": "f7b7aea2",
   "metadata": {},
   "outputs": [
    {
     "data": {
      "text/plain": [
       "((18.31299828640409, 18.315169535963904, 18.31734078552372),\n",
       " (16.660240594345268, 16.661424166830578, 16.662607739315888))"
      ]
     },
     "execution_count": 11,
     "metadata": {},
     "output_type": "execute_result"
    }
   ],
   "source": [
    "(CI(o101), CI(o102))"
   ]
  },
  {
   "cell_type": "code",
   "execution_count": 12,
   "id": "64f60006",
   "metadata": {},
   "outputs": [
    {
     "data": {
      "text/plain": [
       "((18.313043979001957, 18.315218351272588, 18.317392723543218),\n",
       " (16.66029597506741, 16.66148243073091, 16.66266888639441))"
      ]
     },
     "execution_count": 12,
     "metadata": {},
     "output_type": "execute_result"
    }
   ],
   "source": [
    "(CI(o201), CI(o202))"
   ]
  },
  {
   "cell_type": "markdown",
   "id": "e893429a",
   "metadata": {},
   "source": [
    "## Continuous TWAP"
   ]
  },
  {
   "cell_type": "markdown",
   "id": "515ae57e",
   "metadata": {},
   "source": [
    "### No Threshold"
   ]
  },
  {
   "cell_type": "code",
   "execution_count": null,
   "id": "b56b7630",
   "metadata": {},
   "outputs": [
    {
     "data": {
      "application/vnd.jupyter.widget-view+json": {
       "model_id": "b096b4e264894fbbacd5a655168ab11d",
       "version_major": 2,
       "version_minor": 0
      },
      "text/plain": [
       "HBox(children=(FloatProgress(value=0.0, description='Threshold = 0', max=10000.0, style=ProgressStyle(descript…"
      ]
     },
     "metadata": {},
     "output_type": "display_data"
    }
   ],
   "source": [
    "c110, c120 = quick_twap.continuous_twap(threshold=0)\n",
    "c510, c520 = medium_twap.continuous_twap(threshold=0)\n",
    "c1010, c1020 = slow_twap.continuous_twap(threshold=0)\n",
    "c2010, c2020 = very_slow_twap.continuous_twap(threshold=0)"
   ]
  },
  {
   "cell_type": "code",
   "execution_count": null,
   "id": "ffc51852",
   "metadata": {},
   "outputs": [],
   "source": [
    "(CI(o110), CI(o120))"
   ]
  },
  {
   "cell_type": "code",
   "execution_count": null,
   "id": "ea6c4e52",
   "metadata": {},
   "outputs": [],
   "source": [
    "(CI(o510), CI(o520))"
   ]
  },
  {
   "cell_type": "code",
   "execution_count": null,
   "id": "53c28a8b",
   "metadata": {},
   "outputs": [],
   "source": [
    "(CI(o1010), CI(o1020))"
   ]
  },
  {
   "cell_type": "code",
   "execution_count": null,
   "id": "5ac0ffea",
   "metadata": {},
   "outputs": [],
   "source": [
    "(CI(o2010), CI(o2020))"
   ]
  },
  {
   "cell_type": "markdown",
   "id": "55d77464",
   "metadata": {},
   "source": [
    "### Medium Threshold"
   ]
  },
  {
   "cell_type": "code",
   "execution_count": null,
   "id": "e5a65581",
   "metadata": {},
   "outputs": [],
   "source": [
    "c11015, c12015 = quick_twap.continuous_twap(threshold=0.15)\n",
    "c51015, c52015 = medium_twap.continuous_twap(threshold=0.15)\n",
    "c101015, c102015 = slow_twap.continuous_twap(threshold=0.15)\n",
    "c201015, c202015 = very_slow_twap.continuous_twap(threshold=0.15)"
   ]
  },
  {
   "cell_type": "code",
   "execution_count": null,
   "id": "b5286684",
   "metadata": {},
   "outputs": [],
   "source": [
    "(CI(o11015), CI(o12015))"
   ]
  },
  {
   "cell_type": "code",
   "execution_count": null,
   "id": "4df8bcbf",
   "metadata": {},
   "outputs": [],
   "source": [
    "(CI(o51015), CI(o52015))"
   ]
  },
  {
   "cell_type": "code",
   "execution_count": null,
   "id": "c5e799a6",
   "metadata": {},
   "outputs": [],
   "source": [
    "(CI(o10115), CI(o10215))"
   ]
  },
  {
   "cell_type": "code",
   "execution_count": null,
   "id": "be073fa6",
   "metadata": {},
   "outputs": [],
   "source": [
    "(CI(o20115), CI(o20215))"
   ]
  },
  {
   "cell_type": "markdown",
   "id": "ea54fa7d",
   "metadata": {},
   "source": [
    "### Large Threshold"
   ]
  },
  {
   "cell_type": "code",
   "execution_count": null,
   "id": "4fa50e7b",
   "metadata": {},
   "outputs": [],
   "source": [
    "c1103, c1203 = quick_twap.continuous_twap(threshold=0.3)\n",
    "c5103, c5203 = medium_twap.continuous_twap(threshold=0.3)\n",
    "c10103, c10203 = slow_twap.continuous_twap(threshold=0.3)\n",
    "c20103, c20203 = very_slow_twap.continuous_twap(threshold=0.3)"
   ]
  },
  {
   "cell_type": "code",
   "execution_count": null,
   "id": "0de7c6ca",
   "metadata": {},
   "outputs": [],
   "source": [
    "(CI(o1103), CI(o1203))"
   ]
  },
  {
   "cell_type": "code",
   "execution_count": null,
   "id": "c915e0b4",
   "metadata": {},
   "outputs": [],
   "source": [
    "(CI(o5103), CI(o5203))"
   ]
  },
  {
   "cell_type": "code",
   "execution_count": null,
   "id": "1671779a",
   "metadata": {},
   "outputs": [],
   "source": [
    "(CI(o10103), CI(o10203))"
   ]
  },
  {
   "cell_type": "code",
   "execution_count": null,
   "id": "4c69d45e",
   "metadata": {},
   "outputs": [],
   "source": [
    "(CI(o20103), CI(o20203))"
   ]
  }
 ],
 "metadata": {
  "kernelspec": {
   "display_name": "Python 3 (ipykernel)",
   "language": "python",
   "name": "python3"
  },
  "language_info": {
   "codemirror_mode": {
    "name": "ipython",
    "version": 3
   },
   "file_extension": ".py",
   "mimetype": "text/x-python",
   "name": "python",
   "nbconvert_exporter": "python",
   "pygments_lexer": "ipython3",
   "version": "3.8.11"
  }
 },
 "nbformat": 4,
 "nbformat_minor": 5
}
