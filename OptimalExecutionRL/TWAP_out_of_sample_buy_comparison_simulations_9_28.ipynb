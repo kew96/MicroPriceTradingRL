{
 "cells": [
  {
   "cell_type": "markdown",
   "id": "fb50d60d",
   "metadata": {},
   "source": [
    "# TWAP Comparison - 9/28"
   ]
  },
  {
   "cell_type": "code",
   "execution_count": 1,
   "id": "b2cc3e70",
   "metadata": {},
   "outputs": [],
   "source": [
    "from micro_price_trading import TWAP\n",
    "from micro_price_trading.utils import CI, compare_executions"
   ]
  },
  {
   "cell_type": "markdown",
   "id": "5080259e",
   "metadata": {},
   "source": [
    "## Setup"
   ]
  },
  {
   "cell_type": "code",
   "execution_count": 2,
   "id": "15fac114",
   "metadata": {},
   "outputs": [],
   "source": [
    "quick_twap = TWAP(trade_interval=3, q_values_file_name='q_values_TBT_TBF_9_27.csv', simulations_file='TBT_TBF_9_28_sims.npy')\n",
    "medium_twap = TWAP(trade_interval=9, q_values_file_name='q_values_TBT_TBF_9_27.csv', simulations_file='TBT_TBF_9_28_sims.npy')\n",
    "slow_twap = TWAP(trade_interval=30, q_values_file_name='q_values_TBT_TBF_9_27.csv', simulations_file='TBT_TBF_9_28_sims.npy')"
   ]
  },
  {
   "cell_type": "markdown",
   "id": "cf3a624b",
   "metadata": {},
   "source": [
    "## Random TWAP"
   ]
  },
  {
   "cell_type": "code",
   "execution_count": 3,
   "id": "edf61c1e",
   "metadata": {},
   "outputs": [],
   "source": [
    "r11, r12 = quick_twap.random_twap()\n",
    "r31, r32 = medium_twap.random_twap()\n",
    "r101, r102 = slow_twap.random_twap()"
   ]
  },
  {
   "cell_type": "code",
   "execution_count": 4,
   "id": "9aa23b48",
   "metadata": {},
   "outputs": [
    {
     "data": {
      "text/plain": [
       "((18.310200000000002, 18.3123, 18.3144), (16.6621, 16.6633, 16.6645))"
      ]
     },
     "execution_count": 4,
     "metadata": {},
     "output_type": "execute_result"
    }
   ],
   "source": [
    "(CI(r11), CI(r12))"
   ]
  },
  {
   "cell_type": "code",
   "execution_count": 5,
   "id": "1612ec8c",
   "metadata": {},
   "outputs": [
    {
     "data": {
      "text/plain": [
       "((18.309900000000003, 18.312, 18.3141), (16.662399999999998, 16.6636, 16.6648))"
      ]
     },
     "execution_count": 5,
     "metadata": {},
     "output_type": "execute_result"
    }
   ],
   "source": [
    "(CI(r31), CI(r32))"
   ]
  },
  {
   "cell_type": "code",
   "execution_count": 6,
   "id": "d448b015",
   "metadata": {},
   "outputs": [
    {
     "data": {
      "text/plain": [
       "((18.3105, 18.3126, 18.3147), (16.6623, 16.6635, 16.6647))"
      ]
     },
     "execution_count": 6,
     "metadata": {},
     "output_type": "execute_result"
    }
   ],
   "source": [
    "(CI(r101), CI(r102))"
   ]
  },
  {
   "cell_type": "markdown",
   "id": "390499a6",
   "metadata": {},
   "source": [
    "## Optimal TWAP"
   ]
  },
  {
   "cell_type": "code",
   "execution_count": 7,
   "id": "0c5934b9",
   "metadata": {
    "collapsed": true
   },
   "outputs": [
    {
     "name": "stderr",
     "output_type": "stream",
     "text": [
      "/mnt/c/Users/cspa3/Desktop/Projects/CitiExecutionAlgo/micro_price_trading/twap.py:88: RuntimeWarning: Mean of empty slice.\n",
      "  avg_prices_1.append(sim[indices_to_buy_asset_1, 1].mean())\n",
      "/home/kylewalsh/miniconda3/envs/Citi/lib/python3.8/site-packages/numpy/core/_methods.py:170: RuntimeWarning: invalid value encountered in double_scalars\n",
      "  ret = ret.dtype.type(ret / rcount)\n",
      "/mnt/c/Users/cspa3/Desktop/Projects/CitiExecutionAlgo/micro_price_trading/twap.py:88: RuntimeWarning: Mean of empty slice.\n",
      "  avg_prices_1.append(sim[indices_to_buy_asset_1, 1].mean())\n",
      "/home/kylewalsh/miniconda3/envs/Citi/lib/python3.8/site-packages/numpy/core/_methods.py:170: RuntimeWarning: invalid value encountered in double_scalars\n",
      "  ret = ret.dtype.type(ret / rcount)\n",
      "/mnt/c/Users/cspa3/Desktop/Projects/CitiExecutionAlgo/micro_price_trading/twap.py:88: RuntimeWarning: Mean of empty slice.\n",
      "  avg_prices_1.append(sim[indices_to_buy_asset_1, 1].mean())\n",
      "/home/kylewalsh/miniconda3/envs/Citi/lib/python3.8/site-packages/numpy/core/_methods.py:170: RuntimeWarning: invalid value encountered in double_scalars\n",
      "  ret = ret.dtype.type(ret / rcount)\n",
      "/mnt/c/Users/cspa3/Desktop/Projects/CitiExecutionAlgo/micro_price_trading/twap.py:88: RuntimeWarning: Mean of empty slice.\n",
      "  avg_prices_1.append(sim[indices_to_buy_asset_1, 1].mean())\n",
      "/home/kylewalsh/miniconda3/envs/Citi/lib/python3.8/site-packages/numpy/core/_methods.py:170: RuntimeWarning: invalid value encountered in double_scalars\n",
      "  ret = ret.dtype.type(ret / rcount)\n",
      "/mnt/c/Users/cspa3/Desktop/Projects/CitiExecutionAlgo/micro_price_trading/twap.py:88: RuntimeWarning: Mean of empty slice.\n",
      "  avg_prices_1.append(sim[indices_to_buy_asset_1, 1].mean())\n",
      "/home/kylewalsh/miniconda3/envs/Citi/lib/python3.8/site-packages/numpy/core/_methods.py:170: RuntimeWarning: invalid value encountered in double_scalars\n",
      "  ret = ret.dtype.type(ret / rcount)\n",
      "/mnt/c/Users/cspa3/Desktop/Projects/CitiExecutionAlgo/micro_price_trading/twap.py:88: RuntimeWarning: Mean of empty slice.\n",
      "  avg_prices_1.append(sim[indices_to_buy_asset_1, 1].mean())\n",
      "/home/kylewalsh/miniconda3/envs/Citi/lib/python3.8/site-packages/numpy/core/_methods.py:170: RuntimeWarning: invalid value encountered in double_scalars\n",
      "  ret = ret.dtype.type(ret / rcount)\n",
      "/mnt/c/Users/cspa3/Desktop/Projects/CitiExecutionAlgo/micro_price_trading/twap.py:88: RuntimeWarning: Mean of empty slice.\n",
      "  avg_prices_1.append(sim[indices_to_buy_asset_1, 1].mean())\n",
      "/home/kylewalsh/miniconda3/envs/Citi/lib/python3.8/site-packages/numpy/core/_methods.py:170: RuntimeWarning: invalid value encountered in double_scalars\n",
      "  ret = ret.dtype.type(ret / rcount)\n",
      "/mnt/c/Users/cspa3/Desktop/Projects/CitiExecutionAlgo/micro_price_trading/twap.py:88: RuntimeWarning: Mean of empty slice.\n",
      "  avg_prices_1.append(sim[indices_to_buy_asset_1, 1].mean())\n",
      "/home/kylewalsh/miniconda3/envs/Citi/lib/python3.8/site-packages/numpy/core/_methods.py:170: RuntimeWarning: invalid value encountered in double_scalars\n",
      "  ret = ret.dtype.type(ret / rcount)\n",
      "/mnt/c/Users/cspa3/Desktop/Projects/CitiExecutionAlgo/micro_price_trading/twap.py:88: RuntimeWarning: Mean of empty slice.\n",
      "  avg_prices_1.append(sim[indices_to_buy_asset_1, 1].mean())\n",
      "/home/kylewalsh/miniconda3/envs/Citi/lib/python3.8/site-packages/numpy/core/_methods.py:170: RuntimeWarning: invalid value encountered in double_scalars\n",
      "  ret = ret.dtype.type(ret / rcount)\n",
      "/mnt/c/Users/cspa3/Desktop/Projects/CitiExecutionAlgo/micro_price_trading/twap.py:88: RuntimeWarning: Mean of empty slice.\n",
      "  avg_prices_1.append(sim[indices_to_buy_asset_1, 1].mean())\n",
      "/home/kylewalsh/miniconda3/envs/Citi/lib/python3.8/site-packages/numpy/core/_methods.py:170: RuntimeWarning: invalid value encountered in double_scalars\n",
      "  ret = ret.dtype.type(ret / rcount)\n",
      "/mnt/c/Users/cspa3/Desktop/Projects/CitiExecutionAlgo/micro_price_trading/twap.py:88: RuntimeWarning: Mean of empty slice.\n",
      "  avg_prices_1.append(sim[indices_to_buy_asset_1, 1].mean())\n",
      "/home/kylewalsh/miniconda3/envs/Citi/lib/python3.8/site-packages/numpy/core/_methods.py:170: RuntimeWarning: invalid value encountered in double_scalars\n",
      "  ret = ret.dtype.type(ret / rcount)\n"
     ]
    }
   ],
   "source": [
    "o11, o12 = quick_twap.optimal_twap()\n",
    "o31, o32 = medium_twap.optimal_twap()\n",
    "o101, o102 = slow_twap.optimal_twap()"
   ]
  },
  {
   "cell_type": "code",
   "execution_count": 8,
   "id": "09ffae3e",
   "metadata": {},
   "outputs": [
    {
     "data": {
      "text/plain": [
       "((-13.9797, -11.4737, -8.967699999999999),\n",
       " (-0.6016, -0.2409, 0.11980000000000002))"
      ]
     },
     "execution_count": 8,
     "metadata": {},
     "output_type": "execute_result"
    }
   ],
   "source": [
    "(compare_executions(r11, o11), compare_executions(r12, o12))"
   ]
  },
  {
   "cell_type": "code",
   "execution_count": 9,
   "id": "c09ac759",
   "metadata": {},
   "outputs": [
    {
     "data": {
      "text/plain": [
       "((-18.0925, -15.0458, -11.9991), (-0.972, -0.593, -0.21399999999999997))"
      ]
     },
     "execution_count": 9,
     "metadata": {},
     "output_type": "execute_result"
    }
   ],
   "source": [
    "(compare_executions(r31, o31), compare_executions(r12, o32))"
   ]
  },
  {
   "cell_type": "code",
   "execution_count": 10,
   "id": "7d0ac141",
   "metadata": {},
   "outputs": [
    {
     "data": {
      "text/plain": [
       "((-17.5398, -12.2056, -6.8714), (-1.1869, -0.1105, 0.9659))"
      ]
     },
     "execution_count": 10,
     "metadata": {},
     "output_type": "execute_result"
    }
   ],
   "source": [
    "(compare_executions(r101, o101), compare_executions(r102, o102))"
   ]
  },
  {
   "cell_type": "markdown",
   "id": "8cb807ce",
   "metadata": {},
   "source": [
    "## Continuous TWAP"
   ]
  },
  {
   "cell_type": "markdown",
   "id": "4d4afd0d",
   "metadata": {},
   "source": [
    "### No Threshold"
   ]
  },
  {
   "cell_type": "code",
   "execution_count": 11,
   "id": "8e49a3b3",
   "metadata": {
    "scrolled": true
   },
   "outputs": [
    {
     "name": "stdout",
     "output_type": "stream",
     "text": [
      "Done: Threshold = 0, Trade Interval = 3\n",
      "Done: Threshold = 0, Trade Interval = 9\n",
      "Done: Threshold = 0, Trade Interval = 30\n"
     ]
    }
   ],
   "source": [
    "c110, c120 = quick_twap.continuous_twap(threshold=0, verbose=True)\n",
    "c310, c320 = medium_twap.continuous_twap(threshold=0, verbose=True)\n",
    "c1010, c1020 = slow_twap.continuous_twap(threshold=0, verbose=True)"
   ]
  },
  {
   "cell_type": "code",
   "execution_count": 12,
   "id": "bb9c7d1f",
   "metadata": {},
   "outputs": [
    {
     "data": {
      "text/plain": [
       "((-34.3594, -4.0223, 26.314799999999998), (-16.373, 0.3878, 17.1486))"
      ]
     },
     "execution_count": 12,
     "metadata": {},
     "output_type": "execute_result"
    }
   ],
   "source": [
    "(compare_executions(r11, c110), compare_executions(r12, c120))"
   ]
  },
  {
   "cell_type": "code",
   "execution_count": 13,
   "id": "f8c70b92",
   "metadata": {},
   "outputs": [
    {
     "data": {
      "text/plain": [
       "((-37.3213, -6.9958, 23.329700000000003),\n",
       " (-15.911099999999998, 0.8472, 17.6055))"
      ]
     },
     "execution_count": 13,
     "metadata": {},
     "output_type": "execute_result"
    }
   ],
   "source": [
    "(compare_executions(r31, c310), compare_executions(r12, c320))"
   ]
  },
  {
   "cell_type": "code",
   "execution_count": 14,
   "id": "f1a1ea66",
   "metadata": {},
   "outputs": [
    {
     "data": {
      "text/plain": [
       "((-33.4693, -3.0072, 27.4549), (-12.9072, 4.0409, 20.989))"
      ]
     },
     "execution_count": 14,
     "metadata": {},
     "output_type": "execute_result"
    }
   ],
   "source": [
    "(compare_executions(r101, c1010), compare_executions(r102, c1020))"
   ]
  },
  {
   "cell_type": "markdown",
   "id": "d4ba00f2",
   "metadata": {},
   "source": [
    "### Medium Threshold"
   ]
  },
  {
   "cell_type": "code",
   "execution_count": 15,
   "id": "001fb8e4",
   "metadata": {},
   "outputs": [
    {
     "name": "stdout",
     "output_type": "stream",
     "text": [
      "Done: Threshold = 0.15, Trade Interval = 3\n",
      "Done: Threshold = 0.15, Trade Interval = 9\n",
      "Done: Threshold = 0.15, Trade Interval = 30\n"
     ]
    }
   ],
   "source": [
    "c11015, c12015 = quick_twap.continuous_twap(threshold=0.15, verbose=True)\n",
    "c31015, c32015 = medium_twap.continuous_twap(threshold=0.15, verbose=True)\n",
    "c101015, c102015 = slow_twap.continuous_twap(threshold=0.15, verbose=True)"
   ]
  },
  {
   "cell_type": "code",
   "execution_count": 16,
   "id": "06353383",
   "metadata": {},
   "outputs": [
    {
     "data": {
      "text/plain": [
       "((-33.836400000000005, -3.1374, 27.561600000000002),\n",
       " (-13.4094, 3.4672, 20.3438))"
      ]
     },
     "execution_count": 16,
     "metadata": {},
     "output_type": "execute_result"
    }
   ],
   "source": [
    "(compare_executions(r11, c11015), compare_executions(r12, c12015))"
   ]
  },
  {
   "cell_type": "code",
   "execution_count": 17,
   "id": "a8811be0",
   "metadata": {},
   "outputs": [
    {
     "data": {
      "text/plain": [
       "((-36.5554, -6.168, 24.2194), (-6.177699999999998, 10.4052, 26.9881))"
      ]
     },
     "execution_count": 17,
     "metadata": {},
     "output_type": "execute_result"
    }
   ],
   "source": [
    "(compare_executions(r31, c31015), compare_executions(r12, c32015))"
   ]
  },
  {
   "cell_type": "code",
   "execution_count": 18,
   "id": "49539498",
   "metadata": {},
   "outputs": [
    {
     "data": {
      "text/plain": [
       "((-33.7269, -3.0107, 27.7055), (7.373899999999999, 24.4151, 41.4563))"
      ]
     },
     "execution_count": 18,
     "metadata": {},
     "output_type": "execute_result"
    }
   ],
   "source": [
    "(compare_executions(r101, c101015), compare_executions(r102, c102015))"
   ]
  },
  {
   "cell_type": "markdown",
   "id": "48f7ce7d",
   "metadata": {},
   "source": [
    "### Large Threshold"
   ]
  },
  {
   "cell_type": "code",
   "execution_count": 19,
   "id": "84544e9a",
   "metadata": {},
   "outputs": [
    {
     "name": "stdout",
     "output_type": "stream",
     "text": [
      "Done: Threshold = 0.3, Trade Interval = 3\n",
      "Done: Threshold = 0.3, Trade Interval = 9\n",
      "Done: Threshold = 0.3, Trade Interval = 30\n"
     ]
    }
   ],
   "source": [
    "c1103, c1203 = quick_twap.continuous_twap(threshold=0.3, verbose=True)\n",
    "c3103, c3203 = medium_twap.continuous_twap(threshold=0.3, verbose=True)\n",
    "c10103, c10203 = slow_twap.continuous_twap(threshold=0.3, verbose=True)"
   ]
  },
  {
   "cell_type": "code",
   "execution_count": 20,
   "id": "cb3056c2",
   "metadata": {},
   "outputs": [
    {
     "data": {
      "text/plain": [
       "((-33.660000000000004, -2.9045, 27.851000000000003),\n",
       " (62.66589999999999, 83.8513, 105.0367))"
      ]
     },
     "execution_count": 20,
     "metadata": {},
     "output_type": "execute_result"
    }
   ],
   "source": [
    "(compare_executions(r11, c1103), compare_executions(r12, c1203))"
   ]
  },
  {
   "cell_type": "code",
   "execution_count": 21,
   "id": "0850d6a9",
   "metadata": {},
   "outputs": [
    {
     "data": {
      "text/plain": [
       "((-36.254, -6.0558, 24.142400000000002), (64.6451, 95.2034, 125.7617))"
      ]
     },
     "execution_count": 21,
     "metadata": {},
     "output_type": "execute_result"
    }
   ],
   "source": [
    "(compare_executions(r31, c3103), compare_executions(r12, c3203))"
   ]
  },
  {
   "cell_type": "code",
   "execution_count": 22,
   "id": "cc605a7a",
   "metadata": {},
   "outputs": [
    {
     "data": {
      "text/plain": [
       "((-33.683, -2.8055, 28.072000000000003), (37.9238, 90.0398, 142.1558))"
      ]
     },
     "execution_count": 22,
     "metadata": {},
     "output_type": "execute_result"
    }
   ],
   "source": [
    "(compare_executions(r101, c10103), compare_executions(r102, c10203))"
   ]
  }
 ],
 "metadata": {
  "kernelspec": {
   "display_name": "Python 3 (ipykernel)",
   "language": "python",
   "name": "python3"
  },
  "language_info": {
   "codemirror_mode": {
    "name": "ipython",
    "version": 3
   },
   "file_extension": ".py",
   "mimetype": "text/x-python",
   "name": "python",
   "nbconvert_exporter": "python",
   "pygments_lexer": "ipython3",
   "version": "3.8.11"
  }
 },
 "nbformat": 4,
 "nbformat_minor": 5
}
