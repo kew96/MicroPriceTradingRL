{
 "cells": [
  {
   "cell_type": "code",
   "execution_count": 1,
   "id": "b788e94f",
   "metadata": {},
   "outputs": [],
   "source": [
    "import json\n",
    "from pathlib import Path\n",
    "from itertools import permutations\n",
    "from multiprocessing import cpu_count, Manager, Pool\n",
    "\n",
    "import numpy as np\n",
    "import pandas as pd\n",
    "from tqdm.auto import tqdm, trange\n",
    "from matplotlib import pyplot as plt\n",
    "\n",
    "from classes import Preprocess\n",
    "\n",
    "# Disables no GPU warning\n",
    "# Comment out to see warning or use GPU\n",
    "import jax\n",
    "jax.config.update('jax_platform_name', 'cpu')\n",
    "\n",
    "from classes.environment import Env\n",
    "\n",
    "PATH = Path.cwd()"
   ]
  },
  {
   "cell_type": "code",
   "execution_count": 2,
   "id": "830122aa",
   "metadata": {},
   "outputs": [],
   "source": [
    "raw = Preprocess(PATH.joinpath('asset_data', 'TBT_TBF_data.csv'), residual_num=7)\n",
    "data = raw.process()"
   ]
  },
  {
   "cell_type": "code",
   "execution_count": 3,
   "id": "3d0aa793",
   "metadata": {},
   "outputs": [],
   "source": [
    "def sniper(state_1, state_2, env, start_state):\n",
    "    state = start_state\n",
    "    done = False\n",
    "    all_rewards = list()\n",
    "    while not done:\n",
    "        if state[0] == state_1:\n",
    "            state, reward, done, _ = env.step(0)\n",
    "        elif state[0] == state_2:\n",
    "            state, reward, done, _ = env.step(1)\n",
    "        else:\n",
    "            state, reward, done, _ = env.step(2)\n",
    "        all_rewards.append(reward)\n",
    "    return all_rewards"
   ]
  },
  {
   "cell_type": "code",
   "execution_count": 4,
   "id": "811609f5",
   "metadata": {},
   "outputs": [],
   "source": [
    "def imap_sniper(states):\n",
    "    env = Env(data, steps=2340//2)\n",
    "    mappings = env.mapping\n",
    "    \n",
    "    long = mappings[states[0]]\n",
    "    short = mappings[states[1]]\n",
    "    \n",
    "    rewards = list()\n",
    "    for _ in trange(5, leave=False, position=1):\n",
    "        rewards.append(sniper(long, short, env, env.reset()))\n",
    "        \n",
    "    final = np.array(rewards)\n",
    "    \n",
    "    strategy_rewards[str((states[0], states[1]))] = final[:, -1].mean()"
   ]
  },
  {
   "cell_type": "code",
   "execution_count": 5,
   "id": "61ee65fc",
   "metadata": {},
   "outputs": [
    {
     "name": "stdout",
     "output_type": "stream",
     "text": [
      "Number of processes: 15\n",
      "Creating pool\n",
      "Start processing\n"
     ]
    },
    {
     "data": {
      "application/vnd.jupyter.widget-view+json": {
       "model_id": "7182dc121cdd40c88e73a0979c1e66ef",
       "version_major": 2,
       "version_minor": 0
      },
      "text/plain": [
       "HBox(children=(FloatProgress(value=0.0, max=1953.0), HTML(value='')))"
      ]
     },
     "metadata": {},
     "output_type": "display_data"
    },
    {
     "name": "stdout",
     "output_type": "stream",
     "text": [
      "\n"
     ]
    }
   ],
   "source": [
    "# This takes a while to run, ~2.5 hrs on 15 processes\n",
    "\n",
    "pairs = list(permutations(Env.get_mapping().keys(), 2))\n",
    "\n",
    "num_procs = cpu_count()-1\n",
    "chunk = 2\n",
    "print('Number of processes:', num_procs)\n",
    "\n",
    "procs = list()\n",
    "manager = Manager()\n",
    "strategy_rewards = manager.dict()\n",
    "\n",
    "print('Creating pool')\n",
    "pool = Pool(processes=num_procs)\n",
    "\n",
    "print('Start processing')\n",
    "for _ in tqdm(pool.imap_unordered(imap_sniper, pairs, chunksize=chunk), total=len(pairs)//chunk, smoothing=0.1):\n",
    "    pass\n",
    "\n",
    "strategy_rewards = dict(strategy_rewards)\n",
    "\n",
    "# Order strategy_rewards from largest to smallest\n",
    "strategy_rewards = {k: v for k, v in sorted(strategy_rewards.items(), key=lambda item: -item[1])}\n",
    "with open('intermediate_data/TBT_TBF_9_242728_sniper_pairs.json', 'w') as file:\n",
    "    json.dump(strategy_rewards, file)"
   ]
  },
  {
   "cell_type": "code",
   "execution_count": 6,
   "id": "29a32825",
   "metadata": {},
   "outputs": [],
   "source": [
    "try:\n",
    "    strategy_rewards\n",
    "except NameError:\n",
    "    import json\n",
    "    with open('intermediate_data/TBT_UBT_9_242728_sniper_pairs.json') as file:\n",
    "        strategy_rewards = json.load(file)"
   ]
  },
  {
   "cell_type": "code",
   "execution_count": null,
   "id": "ac9bf9f8",
   "metadata": {},
   "outputs": [],
   "source": [
    "key = list(strategy_rewards.keys())[0]\n",
    "s1 = key[2:5]\n",
    "s2 = key[9:12]\n",
    "env = Env(data, steps=2340//2)\n",
    "mappings = env.mapping\n",
    "plt.figure(figsize=(15, 10))\n",
    "\n",
    "rewards1 = np.array([sniper(mappings[s1], mappings[s2], env, env.reset()) for _ in range(10)])\n",
    "rewards2 = np.array([sniper(mappings[s2], mappings[s1], env, env.reset()) for _ in range(10)])\n",
    "\n",
    "plt.plot(rewards1.mean(axis=0), 'g-')\n",
    "plt.plot(rewards2.mean(axis=0), 'r--')\n",
    "    \n",
    "plt.title(f'({s1}, {s2})')\n",
    "plt.plot()\n",
    "plt.savefig('figures/top_performing_single_sniper.png', format='png')"
   ]
  },
  {
   "cell_type": "code",
   "execution_count": null,
   "id": "504050ee",
   "metadata": {},
   "outputs": [],
   "source": [
    "key = list(strategy_rewards.keys())[-1]\n",
    "s1 = key[9:12]\n",
    "s2 = key[2:5]\n",
    "env = Env(data, steps=2340//2)\n",
    "mappings = env.mapping\n",
    "plt.figure(figsize=(15, 10))\n",
    "\n",
    "rewards1 = np.array([sniper(mappings[s1], mappings[s2], env, env.reset()) for _ in range(10)])\n",
    "rewards2 = np.array([sniper(mappings[s2], mappings[s1], env, env.reset()) for _ in range(10)])\n",
    "\n",
    "plt.plot(rewards1.mean(axis=0), 'g-')\n",
    "plt.plot(rewards2.mean(axis=0), 'r--')\n",
    "    \n",
    "plt.title(f'({s1}, {s2})')\n",
    "plt.plot()\n",
    "plt.savefig('figures/bottom_performing_single_sniper.png', format='png')"
   ]
  }
 ],
 "metadata": {
  "kernelspec": {
   "display_name": "Python 3 (ipykernel)",
   "language": "python",
   "name": "python3"
  },
  "language_info": {
   "codemirror_mode": {
    "name": "ipython",
    "version": 3
   },
   "file_extension": ".py",
   "mimetype": "text/x-python",
   "name": "python",
   "nbconvert_exporter": "python",
   "pygments_lexer": "ipython3",
   "version": "3.8.11"
  }
 },
 "nbformat": 4,
 "nbformat_minor": 5
}
