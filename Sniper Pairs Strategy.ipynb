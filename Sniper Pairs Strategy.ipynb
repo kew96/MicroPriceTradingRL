{
 "cells": [
  {
   "cell_type": "code",
   "execution_count": 1,
   "id": "b788e94f",
   "metadata": {},
   "outputs": [],
   "source": [
    "import json\n",
    "from itertools import permutations\n",
    "from multiprocessing import cpu_count, Manager, Pool\n",
    "\n",
    "import numpy as np\n",
    "import pandas as pd\n",
    "from tqdm.auto import tqdm, trange\n",
    "from matplotlib import pyplot as plt\n",
    "\n",
    "# Disables no GPU warning\n",
    "# Comment out to see warning or use GPU\n",
    "import jax\n",
    "jax.config.update('jax_platform_name', 'cpu')\n",
    "\n",
    "from environment import Env"
   ]
  },
  {
   "cell_type": "code",
   "execution_count": 2,
   "id": "830122aa",
   "metadata": {},
   "outputs": [],
   "source": [
    "data = pd.read_csv(\"SH_SDS_data_4.csv\", index_col=0)\n",
    "data.current_state = [('000'+str(cs))[-3:] for cs in data.current_state]\n",
    "prob = pd.read_csv(\"SH_SDS_transition_matrix.csv\", index_col=0)\n",
    "prob.index = [('000'+str(idx))[-3:] for idx in prob.index]"
   ]
  },
  {
   "cell_type": "code",
   "execution_count": 3,
   "id": "3d0aa793",
   "metadata": {},
   "outputs": [],
   "source": [
    "def sniper(state_1, state_2, env, start_state):\n",
    "    state = start_state\n",
    "    done = False\n",
    "    all_rewards = list()\n",
    "    while not done:\n",
    "        if state[0] == state_1:\n",
    "            state, reward, done, _ = env.step(0)\n",
    "        elif state[0] == state_2:\n",
    "            state, reward, done, _ = env.step(1)\n",
    "        else:\n",
    "            state, reward, done, _ = env.step(2)\n",
    "        all_rewards.append(reward)\n",
    "    return all_rewards"
   ]
  },
  {
   "cell_type": "code",
   "execution_count": 4,
   "id": "811609f5",
   "metadata": {},
   "outputs": [],
   "source": [
    "def imap_sniper(states):\n",
    "    env = Env(data, prob, steps=2000)\n",
    "    mappings = env.mapping\n",
    "    \n",
    "    long = mappings[states[0]]\n",
    "    short = mappings[states[1]]\n",
    "    \n",
    "    rewards = list()\n",
    "    for _ in trange(5, leave=False, position=1):\n",
    "        rewards.append(sniper(long, short, env, env.reset()))\n",
    "        \n",
    "    final = np.array(rewards)\n",
    "    \n",
    "    strategy_rewards[str((states[0], states[1]))] = final[:, -1].mean()"
   ]
  },
  {
   "cell_type": "code",
   "execution_count": 5,
   "id": "61ee65fc",
   "metadata": {},
   "outputs": [
    {
     "name": "stdout",
     "output_type": "stream",
     "text": [
      "Number of processes: 15\n",
      "Creating pool\n",
      "Start processing\n"
     ]
    },
    {
     "data": {
      "application/vnd.jupyter.widget-view+json": {
       "model_id": "930b11d693af417e8ef5812fe8c74dd1",
       "version_major": 2,
       "version_minor": 0
      },
      "text/plain": [
       "HBox(children=(FloatProgress(value=0.0, max=2862.0), HTML(value='')))"
      ]
     },
     "metadata": {},
     "output_type": "display_data"
    },
    {
     "name": "stdout",
     "output_type": "stream",
     "text": [
      "\n"
     ]
    }
   ],
   "source": [
    "# This takes a while to run, ~2.5 hrs on 15 processes\n",
    "\n",
    "pairs = list(permutations(Env.get_mapping().keys(), 2))\n",
    "\n",
    "num_procs = cpu_count()-1\n",
    "chunk = 1\n",
    "print('Number of processes:', num_procs)\n",
    "\n",
    "procs = list()\n",
    "manager = Manager()\n",
    "strategy_rewards = manager.dict()\n",
    "\n",
    "print('Creating pool')\n",
    "pool = Pool(processes=num_procs)\n",
    "\n",
    "print('Start processing')\n",
    "for _ in tqdm(pool.imap_unordered(imap_sniper, pairs, chunksize=chunk), total=len(pairs)//chunk):\n",
    "    pass\n",
    "\n",
    "strategy_rewards = dict(strategy_rewards)\n",
    "\n",
    "# Order strategy_rewards from largest to smallest\n",
    "strategy_rewards = {k: v for k, v in sorted(strategy_rewards.items(), key=lambda item: -item[1])}\n",
    "with open('sniper_pairs.json', 'w') as file:\n",
    "    json.dump(strategy_rewards, file)"
   ]
  },
  {
   "cell_type": "code",
   "execution_count": 6,
   "id": "29a32825",
   "metadata": {},
   "outputs": [],
   "source": [
    "try:\n",
    "    strategy_rewards\n",
    "except NameError:\n",
    "    import json\n",
    "    with open('sniper_pairs.json') as file:\n",
    "        strategy_rewards = json.load(file)"
   ]
  },
  {
   "cell_type": "code",
   "execution_count": 7,
   "id": "ac9bf9f8",
   "metadata": {},
   "outputs": [
    {
     "name": "stdout",
     "output_type": "stream",
     "text": [
      "State: (6, , )\n"
     ]
    },
    {
     "ename": "KeyError",
     "evalue": "'6, '",
     "output_type": "error",
     "traceback": [
      "\u001b[0;31m---------------------------------------------------------------------------\u001b[0m",
      "\u001b[0;31mKeyError\u001b[0m                                  Traceback (most recent call last)",
      "\u001b[0;32m/tmp/ipykernel_405/1605911400.py\u001b[0m in \u001b[0;36m<module>\u001b[0;34m\u001b[0m\n\u001b[1;32m      8\u001b[0m \u001b[0mplt\u001b[0m\u001b[0;34m.\u001b[0m\u001b[0mfigure\u001b[0m\u001b[0;34m(\u001b[0m\u001b[0mfigsize\u001b[0m\u001b[0;34m=\u001b[0m\u001b[0;34m(\u001b[0m\u001b[0;36m15\u001b[0m\u001b[0;34m,\u001b[0m \u001b[0;36m10\u001b[0m\u001b[0;34m)\u001b[0m\u001b[0;34m)\u001b[0m\u001b[0;34m\u001b[0m\u001b[0;34m\u001b[0m\u001b[0m\n\u001b[1;32m      9\u001b[0m \u001b[0;32mfor\u001b[0m \u001b[0m_\u001b[0m \u001b[0;32min\u001b[0m \u001b[0mrange\u001b[0m\u001b[0;34m(\u001b[0m\u001b[0;36m10\u001b[0m\u001b[0;34m)\u001b[0m\u001b[0;34m:\u001b[0m\u001b[0;34m\u001b[0m\u001b[0;34m\u001b[0m\u001b[0m\n\u001b[0;32m---> 10\u001b[0;31m     \u001b[0mplt\u001b[0m\u001b[0;34m.\u001b[0m\u001b[0mplot\u001b[0m\u001b[0;34m(\u001b[0m\u001b[0msniper\u001b[0m\u001b[0;34m(\u001b[0m\u001b[0mmappings\u001b[0m\u001b[0;34m[\u001b[0m\u001b[0ms1\u001b[0m\u001b[0;34m]\u001b[0m\u001b[0;34m,\u001b[0m \u001b[0mmappings\u001b[0m\u001b[0;34m[\u001b[0m\u001b[0ms2\u001b[0m\u001b[0;34m]\u001b[0m\u001b[0;34m,\u001b[0m \u001b[0menv\u001b[0m\u001b[0;34m,\u001b[0m \u001b[0menv\u001b[0m\u001b[0;34m.\u001b[0m\u001b[0mreset\u001b[0m\u001b[0;34m(\u001b[0m\u001b[0;34m)\u001b[0m\u001b[0;34m)\u001b[0m\u001b[0;34m,\u001b[0m \u001b[0;34m'g-'\u001b[0m\u001b[0;34m)\u001b[0m\u001b[0;34m\u001b[0m\u001b[0;34m\u001b[0m\u001b[0m\n\u001b[0m\u001b[1;32m     11\u001b[0m     \u001b[0mplt\u001b[0m\u001b[0;34m.\u001b[0m\u001b[0mplot\u001b[0m\u001b[0;34m(\u001b[0m\u001b[0msniper\u001b[0m\u001b[0;34m(\u001b[0m\u001b[0mmappings\u001b[0m\u001b[0;34m[\u001b[0m\u001b[0ms2\u001b[0m\u001b[0;34m]\u001b[0m\u001b[0;34m,\u001b[0m \u001b[0mmappings\u001b[0m\u001b[0;34m[\u001b[0m\u001b[0ms1\u001b[0m\u001b[0;34m]\u001b[0m\u001b[0;34m,\u001b[0m \u001b[0menv\u001b[0m\u001b[0;34m,\u001b[0m \u001b[0menv\u001b[0m\u001b[0;34m.\u001b[0m\u001b[0mreset\u001b[0m\u001b[0;34m(\u001b[0m\u001b[0;34m)\u001b[0m\u001b[0;34m)\u001b[0m\u001b[0;34m,\u001b[0m \u001b[0;34m'r*'\u001b[0m\u001b[0;34m)\u001b[0m\u001b[0;34m\u001b[0m\u001b[0;34m\u001b[0m\u001b[0m\n",
      "\u001b[0;31mKeyError\u001b[0m: '6, '"
     ]
    },
    {
     "data": {
      "text/plain": [
       "<Figure size 1080x720 with 0 Axes>"
      ]
     },
     "metadata": {},
     "output_type": "display_data"
    }
   ],
   "source": [
    "key = list(strategy_rewards.keys())[0]\n",
    "s1 = key[2:5]\n",
    "s2 = key[9:12]\n",
    "rewards = []\n",
    "env = Env(data, prob, steps=2000)\n",
    "mappings = env.mapping\n",
    "plt.figure(figsize=(15, 10))\n",
    "for _ in range(10):\n",
    "    plt.plot(sniper(mappings[s1], mappings[s2], env, env.reset()), 'g-')\n",
    "    plt.plot(sniper(mappings[s2], mappings[s1], env, env.reset()), 'r*')\n",
    "    \n",
    "plt.title(f'({s1}, {s2})')"
   ]
  },
  {
   "cell_type": "code",
   "execution_count": null,
   "id": "504050ee",
   "metadata": {},
   "outputs": [],
   "source": [
    "key = list(strategy_rewards.keys())[-1]\n",
    "s1 = key[9:12]\n",
    "s2 = key[2:5]\n",
    "rewards = []\n",
    "env = Env(data, prob, steps=2000)\n",
    "mappings = env.mapping\n",
    "plt.figure(figsize=(15, 10))\n",
    "for _ in range(10):\n",
    "    plt.plot(sniper(mappings[s1], mappings[s2], env, env.reset()), 'g-')\n",
    "    plt.plot(sniper(mappings[s2], mappings[s1], env, env.reset()), 'r*')\n",
    "    \n",
    "plt.title(f'({s1}, {s2})')"
   ]
  },
  {
   "cell_type": "code",
   "execution_count": null,
   "id": "93fd08f2",
   "metadata": {},
   "outputs": [],
   "source": [
    "key = list(strategy_rewards.keys())[1500]\n",
    "s1 = key[2:5]\n",
    "s2 = key[9:12]\n",
    "print(f'State: ({s1}, {s2})')\n",
    "rewards = []\n",
    "env = Env(data, prob, steps=2000)\n",
    "mappings = env.mapping\n",
    "plt.figure(figsize=(15, 10))\n",
    "for _ in range(10):\n",
    "    plt.plot(sniper(mappings[s1], mappings[s2], env, env.reset()), 'g-')\n",
    "    plt.plot(sniper(mappings[s2], mappings[s1], env, env.reset()), 'r*')\n",
    "    \n",
    "plt.title(f'({s1}, {s2})')"
   ]
  }
 ],
 "metadata": {
  "kernelspec": {
   "display_name": "Python 3 (ipykernel)",
   "language": "python",
   "name": "python3"
  },
  "language_info": {
   "codemirror_mode": {
    "name": "ipython",
    "version": 3
   },
   "file_extension": ".py",
   "mimetype": "text/x-python",
   "name": "python",
   "nbconvert_exporter": "python",
   "pygments_lexer": "ipython3",
   "version": "3.8.11"
  }
 },
 "nbformat": 4,
 "nbformat_minor": 5
}
