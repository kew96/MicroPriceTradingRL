{
 "cells": [
  {
   "cell_type": "code",
   "execution_count": 1,
   "id": "50be8b89",
   "metadata": {},
   "outputs": [],
   "source": [
    "import re\n",
    "import json\n",
    "\n",
    "from pathlib import Path\n",
    "from multiprocessing import cpu_count, Manager, Pool\n",
    "\n",
    "import numpy as np\n",
    "import pandas as pd\n",
    "from tqdm.auto import trange, tqdm\n",
    "from matplotlib import pyplot as plt\n",
    "\n",
    "from classes import Preprocess\n",
    "\n",
    "# Disables no GPU warning\n",
    "# Comment out to see warning or use GPU\n",
    "import jax\n",
    "jax.config.update('jax_platform_name', 'cpu')\n",
    "\n",
    "from classes.environment import Env\n",
    "\n",
    "PATH = Path.cwd()"
   ]
  },
  {
   "cell_type": "code",
   "execution_count": 2,
   "id": "bef65aab",
   "metadata": {},
   "outputs": [],
   "source": [
    "raw = Preprocess(PATH.joinpath('asset_data', 'TBT_TBF_data.csv'), residual_num=7)\n",
    "data = raw.process()\n",
    "\n",
    "with open('intermediate_data/TBT_TBF_9_242728_sniper_pairs.json') as json_file:\n",
    "    pairs_rewards = json.load(json_file)\n",
    "\n",
    "ordered_rewards = {k: np.mean(v) for k, v in sorted(pairs_rewards.items(), key=lambda item: -item[1])}"
   ]
  },
  {
   "cell_type": "code",
   "execution_count": 3,
   "id": "1b528146",
   "metadata": {
    "scrolled": true
   },
   "outputs": [
    {
     "name": "stdout",
     "output_type": "stream",
     "text": [
      "['221', '311', '200', '211', '210', '120', '321', '220', '110', '121', '301', '201', '322', '111', '100', '222']\n",
      "['401', '411', '422', '311', '301', '502', '402', '412', '501', '321', '421', '512', '300', '522', '201', '210']\n"
     ]
    }
   ],
   "source": [
    "entries = 16\n",
    "\n",
    "top_ten_long = list()\n",
    "for key in list(ordered_rewards.keys()):\n",
    "    if len(top_ten_long) == entries//2:\n",
    "        break\n",
    "    elif key[2:5] not in top_ten_long:\n",
    "        top_ten_long.append(key[2:5])\n",
    "    \n",
    "for key in list(ordered_rewards.keys())[::-1]:\n",
    "    if len(top_ten_long) == entries:\n",
    "        break\n",
    "    elif key[9:12] not in top_ten_long:\n",
    "        top_ten_long.append(key[9:12])\n",
    "    \n",
    "bottom_ten_short = list()\n",
    "for key in list(ordered_rewards.keys()):\n",
    "    if len(bottom_ten_short) == entries//2:\n",
    "        break\n",
    "    elif key[9:12] not in bottom_ten_short:\n",
    "        bottom_ten_short.append(key[9:12])\n",
    "    \n",
    "for key in list(ordered_rewards.keys())[::-1]:\n",
    "    if len(bottom_ten_short) == entries:\n",
    "        break\n",
    "    elif key[2:5] not in bottom_ten_short:\n",
    "        bottom_ten_short.append(key[2:5])\n",
    "        \n",
    "print(top_ten_long)\n",
    "print(bottom_ten_short)"
   ]
  },
  {
   "cell_type": "code",
   "execution_count": 4,
   "id": "04e3ffd2",
   "metadata": {},
   "outputs": [
    {
     "name": "stdout",
     "output_type": "stream",
     "text": [
      "['221', '200', '211', '120', '220', '110', '121', '322', '111', '100', '222']\n",
      "['401', '411', '422', '502', '402', '412', '501', '421', '512', '300', '522']\n"
     ]
    }
   ],
   "source": [
    "for val in top_ten_long:\n",
    "    if val in bottom_ten_short:\n",
    "        top_ten_long.remove(val)\n",
    "        bottom_ten_short.remove(val)\n",
    "        \n",
    "for val in bottom_ten_short:\n",
    "    if val in top_ten_long:\n",
    "        top_ten_long.remove(val)\n",
    "        bottom_ten_short.remove(val)\n",
    "        \n",
    "print(top_ten_long)\n",
    "print(bottom_ten_short)"
   ]
  },
  {
   "cell_type": "code",
   "execution_count": 5,
   "id": "3cf96b58",
   "metadata": {},
   "outputs": [],
   "source": [
    "all_lists = list()\n",
    "for len1 in range(1, 7):\n",
    "    long_states = top_ten_long[:len1]\n",
    "    for len2 in range(1, 7):\n",
    "        short_states = bottom_ten_short[:len2]\n",
    "        all_lists.append((long_states, short_states))"
   ]
  },
  {
   "cell_type": "code",
   "execution_count": 6,
   "id": "5a4c48da",
   "metadata": {},
   "outputs": [],
   "source": [
    "def sniper_list(states_1, states_2, env, start_state):\n",
    "    state = start_state\n",
    "    done = False\n",
    "    all_rewards = list()\n",
    "    while not done:\n",
    "        if int(state[0].item()) in states_1:\n",
    "            state, reward, done, _ = env.step(0)\n",
    "        elif int(state[0].item()) in states_2:\n",
    "            state, reward, done, _ = env.step(1)\n",
    "        else:\n",
    "            state, reward, done, _ = env.step(2)\n",
    "        all_rewards.append(reward)\n",
    "    return all_rewards"
   ]
  },
  {
   "cell_type": "code",
   "execution_count": 7,
   "id": "6cbc3b64",
   "metadata": {},
   "outputs": [],
   "source": [
    "def imap_sniper_list(list_of_input_tuples):\n",
    "    env = Env(data, steps=2340//2)\n",
    "    mappings = env.mapping\n",
    "    \n",
    "    long = [mappings[s] for s in list_of_input_tuples[0]]\n",
    "    short = [mappings[s] for s in list_of_input_tuples[1]]\n",
    "    rewards = list()\n",
    "    for _ in trange(10, leave=False, position=1):\n",
    "        rewards.append(sniper_list(long, short, env, env.reset()))\n",
    "    \n",
    "    final = np.array(rewards)\n",
    "    \n",
    "    strategy_rewards[str(list_of_input_tuples)] = final[:, -1].mean()"
   ]
  },
  {
   "cell_type": "code",
   "execution_count": 8,
   "id": "87970c5a",
   "metadata": {},
   "outputs": [
    {
     "name": "stdout",
     "output_type": "stream",
     "text": [
      "Number of processes: 15\n",
      "Creating pool\n",
      "Start processing\n"
     ]
    },
    {
     "data": {
      "application/vnd.jupyter.widget-view+json": {
       "model_id": "695561ce37bc4adf9293a13ed550d896",
       "version_major": 2,
       "version_minor": 0
      },
      "text/plain": [
       "HBox(children=(FloatProgress(value=0.0, max=18.0), HTML(value='')))"
      ]
     },
     "metadata": {},
     "output_type": "display_data"
    },
    {
     "name": "stdout",
     "output_type": "stream",
     "text": [
      "\n"
     ]
    }
   ],
   "source": [
    "num_procs = cpu_count()-1\n",
    "chunk = 2\n",
    "print('Number of processes:', num_procs)\n",
    "\n",
    "procs = list()\n",
    "manager = Manager()\n",
    "strategy_rewards = manager.dict()\n",
    "\n",
    "print('Creating pool')\n",
    "pool = Pool(processes=num_procs)\n",
    "\n",
    "print('Start processing')\n",
    "for _ in tqdm(pool.imap_unordered(imap_sniper_list, all_lists, chunksize=chunk), total=len(all_lists)//chunk):\n",
    "    pass\n",
    "\n",
    "strategy_rewards = dict(strategy_rewards)\n",
    "with open('intermediate_data/TBT_TBF_9_242728_selective_sniper.json', 'w') as file:\n",
    "    json.dump(strategy_rewards, file)"
   ]
  },
  {
   "cell_type": "code",
   "execution_count": 9,
   "id": "1bd601f6",
   "metadata": {},
   "outputs": [],
   "source": [
    "try:\n",
    "    strategy_rewards\n",
    "except NameError:\n",
    "    import json\n",
    "    with open('intermediate_data/TBT_TBF_9_242728_selective_sniper.json') as file:\n",
    "        strategy_rewards = json.load(file)\n",
    "        \n",
    "strategy_rewards = {k: v for k, v in sorted(strategy_rewards.items(), key=lambda item: -item[1])}"
   ]
  },
  {
   "cell_type": "code",
   "execution_count": 10,
   "id": "bf9a978a",
   "metadata": {},
   "outputs": [],
   "source": [
    "regex_strategy_list = re.compile(r\"\\[(('\\d*',\\s)*'\\d*')\\]\")\n",
    "regex_strategy = re.compile(r\"\\d+\")"
   ]
  },
  {
   "cell_type": "code",
   "execution_count": null,
   "id": "1e97de68",
   "metadata": {},
   "outputs": [],
   "source": [
    "key = list(strategy_rewards.keys())[0]\n",
    "long_short_list = regex_strategy_list.findall(key)\n",
    "long = regex_strategy.findall(long_short_list[0][0])\n",
    "short = regex_strategy.findall(long_short_list[1][0])\n",
    "\n",
    "env = Env(data, steps=2340//2)\n",
    "mappings = env.mapping\n",
    "\n",
    "long_mapped = [mappings[s] for s in long]\n",
    "short_mapped = [mappings[s] for s in short]\n",
    "\n",
    "plt.figure(figsize=(15, 10))\n",
    "\n",
    "rewards1 = np.array([sniper_list(long_mapped, short_mapped, env, env.reset()) for _ in range(10)])\n",
    "rewards2 = np.array([sniper_list(short_mapped, long_mapped, env, env.reset()) for _ in range(10)])\n",
    "\n",
    "plt.plot(rewards1.mean(axis=0), 'g-')\n",
    "plt.plot(rewards2.mean(axis=0), 'r--')\n",
    "    \n",
    "plt.title(f'({long}, {short})')\n",
    "plt.plot()\n",
    "plt.savefig('figures/top_performing_exhaustive_sniper.png', format='png')"
   ]
  },
  {
   "cell_type": "code",
   "execution_count": null,
   "id": "4e5c9888",
   "metadata": {},
   "outputs": [],
   "source": [
    "key = list(strategy_rewards.keys())[-1]\n",
    "long_short_list = regex_strategy_list.findall(key)\n",
    "long = regex_strategy.findall(long_short_list[0][0])\n",
    "short = regex_strategy.findall(long_short_list[1][0])\n",
    "\n",
    "env = Env(data, steps=2340//2)\n",
    "mappings = env.mapping\n",
    "\n",
    "long_mapped = [mappings[s] for s in long]\n",
    "short_mapped = [mappings[s] for s in short]\n",
    "\n",
    "plt.figure(figsize=(15, 10))\n",
    "\n",
    "rewards1 = np.array([sniper_list(long_mapped, short_mapped, env, env.reset()) for _ in range(10)])\n",
    "rewards2 = np.array([sniper_list(short_mapped, long_mapped, env, env.reset()) for _ in range(10)])\n",
    "\n",
    "plt.plot(rewards1.mean(axis=0), 'g-')\n",
    "plt.plot(rewards2.mean(axis=0), 'r--')\n",
    "    \n",
    "plt.title(f'({long}, {short})')\n",
    "plt.plot()\n",
    "plt.savefig('figures/bottom_performing_exhaustive_sniper.png', format='png')"
   ]
  }
 ],
 "metadata": {
  "kernelspec": {
   "display_name": "Python 3 (ipykernel)",
   "language": "python",
   "name": "python3"
  },
  "language_info": {
   "codemirror_mode": {
    "name": "ipython",
    "version": 3
   },
   "file_extension": ".py",
   "mimetype": "text/x-python",
   "name": "python",
   "nbconvert_exporter": "python",
   "pygments_lexer": "ipython3",
   "version": "3.8.11"
  }
 },
 "nbformat": 4,
 "nbformat_minor": 5
}
