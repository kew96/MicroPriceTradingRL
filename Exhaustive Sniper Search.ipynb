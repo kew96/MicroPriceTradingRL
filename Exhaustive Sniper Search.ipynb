{
 "cells": [
  {
   "cell_type": "code",
   "execution_count": 2,
   "id": "50be8b89",
   "metadata": {},
   "outputs": [],
   "source": [
    "import json\n",
    "\n",
    "from collections import Counter\n",
    "from itertools import permutations, product, chain, count\n",
    "\n",
    "from threading import Thread\n",
    "from multiprocessing import Process, cpu_count, Manager, Pool\n",
    "\n",
    "import numpy as np\n",
    "import pandas as pd\n",
    "from tqdm.auto import trange, tqdm\n",
    "from matplotlib import pyplot as plt\n",
    "\n",
    "from environment import Env"
   ]
  },
  {
   "cell_type": "code",
   "execution_count": 3,
   "id": "bef65aab",
   "metadata": {},
   "outputs": [],
   "source": [
    "data = pd.read_csv(\"SH_SDS_data_4.csv\", index_col=0)\n",
    "data.current_state = [('000'+str(cs))[-3:] for cs in data.current_state]\n",
    "prob = pd.read_csv(\"SH_SDS_transition_matrix.csv\", index_col=0)\n",
    "prob.index = [('000'+str(idx))[-3:] for idx in prob.index]\n",
    "\n",
    "with open('result.json') as json_file:\n",
    "    strategy_rewards = json.load(json_file)\n",
    "\n",
    "ordered_rewards = {k: np.mean(v) for k, v in sorted(strategy_rewards.items(), key=lambda item: -np.mean(item[1]))}"
   ]
  },
  {
   "cell_type": "code",
   "execution_count": 5,
   "id": "1b528146",
   "metadata": {},
   "outputs": [],
   "source": [
    "top_ten_long = list()\n",
    "for key in list(ordered_rewards.keys()):\n",
    "    if len(top_ten_long) == 5:\n",
    "        break\n",
    "    elif key[2:5] not in top_ten_long:\n",
    "        top_ten_long.append(key[2:5])\n",
    "    \n",
    "for key in list(ordered_rewards.keys())[::-1]:\n",
    "    if len(top_ten_long) == 10:\n",
    "        break\n",
    "    elif key[9:12] not in top_ten_long:\n",
    "        top_ten_long.append(key[9:12])\n",
    "    \n",
    "bottom_ten_short = list()\n",
    "for key in list(ordered_rewards.keys()):\n",
    "    if len(bottom_ten_short) == 5:\n",
    "        break\n",
    "    elif key[9:12] not in bottom_ten_short:\n",
    "        bottom_ten_short.append(key[9:12])\n",
    "    \n",
    "for key in list(ordered_rewards.keys())[::-1]:\n",
    "    if len(bottom_ten_short) == 10:\n",
    "        break\n",
    "    elif key[2:5] not in bottom_ten_short:\n",
    "        bottom_ten_short.append(key[2:5])"
   ]
  },
  {
   "cell_type": "code",
   "execution_count": 6,
   "id": "3cf96b58",
   "metadata": {},
   "outputs": [],
   "source": [
    "all_lists = list()\n",
    "for len1 in range(1, 7):\n",
    "    long_states = top_ten_long[:len1]\n",
    "    for len2 in range(1, 7):\n",
    "        short_states = bottom_ten_short[:len2]\n",
    "        all_lists.append((long_states, short_states))"
   ]
  },
  {
   "cell_type": "code",
   "execution_count": null,
   "id": "5a4c48da",
   "metadata": {},
   "outputs": [],
   "source": [
    "def sniper_list(states_1, states_2, env, start_state):\n",
    "    state = start_state\n",
    "    done = False\n",
    "    all_rewards = list()\n",
    "    while not done:\n",
    "        if int(state[0].item()) in states_1:\n",
    "            state, reward, done, _ = env.step(0)\n",
    "        elif int(state[0].item()) in states_2:\n",
    "            state, reward, done, _ = env.step(1)\n",
    "        else:\n",
    "            state, reward, done, _ = env.step(2)\n",
    "        all_rewards.append(reward)\n",
    "    return all_rewards"
   ]
  },
  {
   "cell_type": "code",
   "execution_count": null,
   "id": "6cbc3b64",
   "metadata": {},
   "outputs": [],
   "source": [
    "def imap_sniper(list_of_input_tuples):\n",
    "    env = Env(data, prob, steps=2000)\n",
    "    mappings = env.mapping\n",
    "    \n",
    "    long = [mappings[s] for s in list_of_input_tuples[0]]\n",
    "    short = [mappings[s] for s in list_of_input_tuples[1]]\n",
    "    rew = list()\n",
    "    for _ in trange(10, leave=False, position=1):\n",
    "        rew.append(sniper_list(long, short, env, env.reset()))\n",
    "    final = np.array(rew)\n",
    "    \n",
    "    strategy_rewards[str(list_of_input_tuples)] = final[:, -1].mean()"
   ]
  },
  {
   "cell_type": "code",
   "execution_count": 12,
   "id": "87970c5a",
   "metadata": {
    "collapsed": true
   },
   "outputs": [
    {
     "name": "stdout",
     "output_type": "stream",
     "text": [
      "Number of proccesses: 15\n",
      "Creating pool\n",
      "Starting processing\n"
     ]
    },
    {
     "data": {
      "application/vnd.jupyter.widget-view+json": {
       "model_id": "e02d3a06e7b143518fb298bee5bbc128",
       "version_major": 2,
       "version_minor": 0
      },
      "text/plain": [
       "HBox(children=(FloatProgress(value=0.0, max=36.0), HTML(value='')))"
      ]
     },
     "metadata": {},
     "output_type": "display_data"
    },
    {
     "name": "stderr",
     "output_type": "stream",
     "text": [
      "WARNING:absl:No GPU/TPU found, falling back to CPU. (Set TF_CPP_MIN_LOG_LEVEL=0 and rerun for more info.)\n",
      "WARNING:absl:No GPU/TPU found, falling back to CPU. (Set TF_CPP_MIN_LOG_LEVEL=0 and rerun for more info.)\n",
      "WARNING:absl:No GPU/TPU found, falling back to CPU. (Set TF_CPP_MIN_LOG_LEVEL=0 and rerun for more info.)\n",
      "WARNING:absl:No GPU/TPU found, falling back to CPU. (Set TF_CPP_MIN_LOG_LEVEL=0 and rerun for more info.)\n",
      "WARNING:absl:No GPU/TPU found, falling back to CPU. (Set TF_CPP_MIN_LOG_LEVEL=0 and rerun for more info.)\n",
      "WARNING:absl:No GPU/TPU found, falling back to CPU. (Set TF_CPP_MIN_LOG_LEVEL=0 and rerun for more info.)\n",
      "WARNING:absl:No GPU/TPU found, falling back to CPU. (Set TF_CPP_MIN_LOG_LEVEL=0 and rerun for more info.)\n",
      "WARNING:absl:No GPU/TPU found, falling back to CPU. (Set TF_CPP_MIN_LOG_LEVEL=0 and rerun for more info.)\n",
      "WARNING:absl:No GPU/TPU found, falling back to CPU. (Set TF_CPP_MIN_LOG_LEVEL=0 and rerun for more info.)\n",
      "WARNING:absl:No GPU/TPU found, falling back to CPU. (Set TF_CPP_MIN_LOG_LEVEL=0 and rerun for more info.)\n",
      "WARNING:absl:No GPU/TPU found, falling back to CPU. (Set TF_CPP_MIN_LOG_LEVEL=0 and rerun for more info.)\n",
      "WARNING:absl:No GPU/TPU found, falling back to CPU. (Set TF_CPP_MIN_LOG_LEVEL=0 and rerun for more info.)\n",
      "WARNING:absl:No GPU/TPU found, falling back to CPU. (Set TF_CPP_MIN_LOG_LEVEL=0 and rerun for more info.)\n",
      "WARNING:absl:No GPU/TPU found, falling back to CPU. (Set TF_CPP_MIN_LOG_LEVEL=0 and rerun for more info.)\n",
      "WARNING:absl:No GPU/TPU found, falling back to CPU. (Set TF_CPP_MIN_LOG_LEVEL=0 and rerun for more info.)\n"
     ]
    },
    {
     "data": {
      "application/vnd.jupyter.widget-view+json": {
       "model_id": "",
       "version_major": 2,
       "version_minor": 0
      },
      "text/plain": [
       "HBox(children=(FloatProgress(value=0.0, max=10.0), HTML(value='')))"
      ]
     },
     "metadata": {},
     "output_type": "display_data"
    },
    {
     "data": {
      "application/vnd.jupyter.widget-view+json": {
       "model_id": "",
       "version_major": 2,
       "version_minor": 0
      },
      "text/plain": [
       "HBox(children=(FloatProgress(value=0.0, max=10.0), HTML(value='')))"
      ]
     },
     "metadata": {},
     "output_type": "display_data"
    },
    {
     "data": {
      "application/vnd.jupyter.widget-view+json": {
       "model_id": "",
       "version_major": 2,
       "version_minor": 0
      },
      "text/plain": [
       "HBox(children=(FloatProgress(value=0.0, max=10.0), HTML(value='')))"
      ]
     },
     "metadata": {},
     "output_type": "display_data"
    },
    {
     "data": {
      "application/vnd.jupyter.widget-view+json": {
       "model_id": "",
       "version_major": 2,
       "version_minor": 0
      },
      "text/plain": [
       "HBox(children=(FloatProgress(value=0.0, max=10.0), HTML(value='')))"
      ]
     },
     "metadata": {},
     "output_type": "display_data"
    },
    {
     "data": {
      "application/vnd.jupyter.widget-view+json": {
       "model_id": "",
       "version_major": 2,
       "version_minor": 0
      },
      "text/plain": [
       "HBox(children=(FloatProgress(value=0.0, max=10.0), HTML(value='')))"
      ]
     },
     "metadata": {},
     "output_type": "display_data"
    },
    {
     "data": {
      "application/vnd.jupyter.widget-view+json": {
       "model_id": "",
       "version_major": 2,
       "version_minor": 0
      },
      "text/plain": [
       "HBox(children=(FloatProgress(value=0.0, max=10.0), HTML(value='')))"
      ]
     },
     "metadata": {},
     "output_type": "display_data"
    },
    {
     "data": {
      "application/vnd.jupyter.widget-view+json": {
       "model_id": "",
       "version_major": 2,
       "version_minor": 0
      },
      "text/plain": [
       "HBox(children=(FloatProgress(value=0.0, max=10.0), HTML(value='')))"
      ]
     },
     "metadata": {},
     "output_type": "display_data"
    },
    {
     "data": {
      "application/vnd.jupyter.widget-view+json": {
       "model_id": "",
       "version_major": 2,
       "version_minor": 0
      },
      "text/plain": [
       "HBox(children=(FloatProgress(value=0.0, max=10.0), HTML(value='')))"
      ]
     },
     "metadata": {},
     "output_type": "display_data"
    },
    {
     "data": {
      "application/vnd.jupyter.widget-view+json": {
       "model_id": "",
       "version_major": 2,
       "version_minor": 0
      },
      "text/plain": [
       "HBox(children=(FloatProgress(value=0.0, max=10.0), HTML(value='')))"
      ]
     },
     "metadata": {},
     "output_type": "display_data"
    },
    {
     "data": {
      "application/vnd.jupyter.widget-view+json": {
       "model_id": "",
       "version_major": 2,
       "version_minor": 0
      },
      "text/plain": [
       "HBox(children=(FloatProgress(value=0.0, max=10.0), HTML(value='')))"
      ]
     },
     "metadata": {},
     "output_type": "display_data"
    },
    {
     "data": {
      "application/vnd.jupyter.widget-view+json": {
       "model_id": "",
       "version_major": 2,
       "version_minor": 0
      },
      "text/plain": [
       "HBox(children=(FloatProgress(value=0.0, max=10.0), HTML(value='')))"
      ]
     },
     "metadata": {},
     "output_type": "display_data"
    },
    {
     "data": {
      "application/vnd.jupyter.widget-view+json": {
       "model_id": "",
       "version_major": 2,
       "version_minor": 0
      },
      "text/plain": [
       "HBox(children=(FloatProgress(value=0.0, max=10.0), HTML(value='')))"
      ]
     },
     "metadata": {},
     "output_type": "display_data"
    },
    {
     "data": {
      "application/vnd.jupyter.widget-view+json": {
       "model_id": "",
       "version_major": 2,
       "version_minor": 0
      },
      "text/plain": [
       "HBox(children=(FloatProgress(value=0.0, max=10.0), HTML(value='')))"
      ]
     },
     "metadata": {},
     "output_type": "display_data"
    },
    {
     "data": {
      "application/vnd.jupyter.widget-view+json": {
       "model_id": "",
       "version_major": 2,
       "version_minor": 0
      },
      "text/plain": [
       "HBox(children=(FloatProgress(value=0.0, max=10.0), HTML(value='')))"
      ]
     },
     "metadata": {},
     "output_type": "display_data"
    },
    {
     "data": {
      "application/vnd.jupyter.widget-view+json": {
       "model_id": "",
       "version_major": 2,
       "version_minor": 0
      },
      "text/plain": [
       "HBox(children=(FloatProgress(value=0.0, max=10.0), HTML(value='')))"
      ]
     },
     "metadata": {},
     "output_type": "display_data"
    },
    {
     "data": {
      "application/vnd.jupyter.widget-view+json": {
       "model_id": "",
       "version_major": 2,
       "version_minor": 0
      },
      "text/plain": [
       "HBox(children=(FloatProgress(value=0.0, max=10.0), HTML(value='')))"
      ]
     },
     "metadata": {},
     "output_type": "display_data"
    },
    {
     "data": {
      "application/vnd.jupyter.widget-view+json": {
       "model_id": "",
       "version_major": 2,
       "version_minor": 0
      },
      "text/plain": [
       "HBox(children=(FloatProgress(value=0.0, max=10.0), HTML(value='')))"
      ]
     },
     "metadata": {},
     "output_type": "display_data"
    },
    {
     "data": {
      "application/vnd.jupyter.widget-view+json": {
       "model_id": "",
       "version_major": 2,
       "version_minor": 0
      },
      "text/plain": [
       "HBox(children=(FloatProgress(value=0.0, max=10.0), HTML(value='')))"
      ]
     },
     "metadata": {},
     "output_type": "display_data"
    },
    {
     "data": {
      "application/vnd.jupyter.widget-view+json": {
       "model_id": "",
       "version_major": 2,
       "version_minor": 0
      },
      "text/plain": [
       "HBox(children=(FloatProgress(value=0.0, max=10.0), HTML(value='')))"
      ]
     },
     "metadata": {},
     "output_type": "display_data"
    },
    {
     "data": {
      "application/vnd.jupyter.widget-view+json": {
       "model_id": "",
       "version_major": 2,
       "version_minor": 0
      },
      "text/plain": [
       "HBox(children=(FloatProgress(value=0.0, max=10.0), HTML(value='')))"
      ]
     },
     "metadata": {},
     "output_type": "display_data"
    },
    {
     "data": {
      "application/vnd.jupyter.widget-view+json": {
       "model_id": "",
       "version_major": 2,
       "version_minor": 0
      },
      "text/plain": [
       "HBox(children=(FloatProgress(value=0.0, max=10.0), HTML(value='')))"
      ]
     },
     "metadata": {},
     "output_type": "display_data"
    },
    {
     "name": "stdout",
     "output_type": "stream",
     "text": [
      "\n"
     ]
    },
    {
     "ename": "TypeError",
     "evalue": "Object of type DictProxy is not JSON serializable",
     "output_type": "error",
     "traceback": [
      "\u001b[0;31m---------------------------------------------------------------------------\u001b[0m",
      "\u001b[0;31mTypeError\u001b[0m                                 Traceback (most recent call last)",
      "\u001b[0;32m/tmp/ipykernel_14209/2062071382.py\u001b[0m in \u001b[0;36m<module>\u001b[0;34m\u001b[0m\n\u001b[1;32m     29\u001b[0m \u001b[0;34m\u001b[0m\u001b[0m\n\u001b[1;32m     30\u001b[0m \u001b[0;32mwith\u001b[0m \u001b[0mopen\u001b[0m\u001b[0;34m(\u001b[0m\u001b[0;34m'selective_sniper.json'\u001b[0m\u001b[0;34m,\u001b[0m \u001b[0;34m'w'\u001b[0m\u001b[0;34m)\u001b[0m \u001b[0;32mas\u001b[0m \u001b[0mfile\u001b[0m\u001b[0;34m:\u001b[0m\u001b[0;34m\u001b[0m\u001b[0;34m\u001b[0m\u001b[0m\n\u001b[0;32m---> 31\u001b[0;31m     \u001b[0mjson\u001b[0m\u001b[0;34m.\u001b[0m\u001b[0mdump\u001b[0m\u001b[0;34m(\u001b[0m\u001b[0mstrategy_rewards\u001b[0m\u001b[0;34m,\u001b[0m \u001b[0mfile\u001b[0m\u001b[0;34m)\u001b[0m\u001b[0;34m\u001b[0m\u001b[0;34m\u001b[0m\u001b[0m\n\u001b[0m",
      "\u001b[0;32m~/miniconda3/envs/Citi/lib/python3.8/json/__init__.py\u001b[0m in \u001b[0;36mdump\u001b[0;34m(obj, fp, skipkeys, ensure_ascii, check_circular, allow_nan, cls, indent, separators, default, sort_keys, **kw)\u001b[0m\n\u001b[1;32m    177\u001b[0m     \u001b[0;31m# could accelerate with writelines in some versions of Python, at\u001b[0m\u001b[0;34m\u001b[0m\u001b[0;34m\u001b[0m\u001b[0;34m\u001b[0m\u001b[0m\n\u001b[1;32m    178\u001b[0m     \u001b[0;31m# a debuggability cost\u001b[0m\u001b[0;34m\u001b[0m\u001b[0;34m\u001b[0m\u001b[0;34m\u001b[0m\u001b[0m\n\u001b[0;32m--> 179\u001b[0;31m     \u001b[0;32mfor\u001b[0m \u001b[0mchunk\u001b[0m \u001b[0;32min\u001b[0m \u001b[0miterable\u001b[0m\u001b[0;34m:\u001b[0m\u001b[0;34m\u001b[0m\u001b[0;34m\u001b[0m\u001b[0m\n\u001b[0m\u001b[1;32m    180\u001b[0m         \u001b[0mfp\u001b[0m\u001b[0;34m.\u001b[0m\u001b[0mwrite\u001b[0m\u001b[0;34m(\u001b[0m\u001b[0mchunk\u001b[0m\u001b[0;34m)\u001b[0m\u001b[0;34m\u001b[0m\u001b[0;34m\u001b[0m\u001b[0m\n\u001b[1;32m    181\u001b[0m \u001b[0;34m\u001b[0m\u001b[0m\n",
      "\u001b[0;32m~/miniconda3/envs/Citi/lib/python3.8/json/encoder.py\u001b[0m in \u001b[0;36m_iterencode\u001b[0;34m(o, _current_indent_level)\u001b[0m\n\u001b[1;32m    436\u001b[0m                     \u001b[0;32mraise\u001b[0m \u001b[0mValueError\u001b[0m\u001b[0;34m(\u001b[0m\u001b[0;34m\"Circular reference detected\"\u001b[0m\u001b[0;34m)\u001b[0m\u001b[0;34m\u001b[0m\u001b[0;34m\u001b[0m\u001b[0m\n\u001b[1;32m    437\u001b[0m                 \u001b[0mmarkers\u001b[0m\u001b[0;34m[\u001b[0m\u001b[0mmarkerid\u001b[0m\u001b[0;34m]\u001b[0m \u001b[0;34m=\u001b[0m \u001b[0mo\u001b[0m\u001b[0;34m\u001b[0m\u001b[0;34m\u001b[0m\u001b[0m\n\u001b[0;32m--> 438\u001b[0;31m             \u001b[0mo\u001b[0m \u001b[0;34m=\u001b[0m \u001b[0m_default\u001b[0m\u001b[0;34m(\u001b[0m\u001b[0mo\u001b[0m\u001b[0;34m)\u001b[0m\u001b[0;34m\u001b[0m\u001b[0;34m\u001b[0m\u001b[0m\n\u001b[0m\u001b[1;32m    439\u001b[0m             \u001b[0;32myield\u001b[0m \u001b[0;32mfrom\u001b[0m \u001b[0m_iterencode\u001b[0m\u001b[0;34m(\u001b[0m\u001b[0mo\u001b[0m\u001b[0;34m,\u001b[0m \u001b[0m_current_indent_level\u001b[0m\u001b[0;34m)\u001b[0m\u001b[0;34m\u001b[0m\u001b[0;34m\u001b[0m\u001b[0m\n\u001b[1;32m    440\u001b[0m             \u001b[0;32mif\u001b[0m \u001b[0mmarkers\u001b[0m \u001b[0;32mis\u001b[0m \u001b[0;32mnot\u001b[0m \u001b[0;32mNone\u001b[0m\u001b[0;34m:\u001b[0m\u001b[0;34m\u001b[0m\u001b[0;34m\u001b[0m\u001b[0m\n",
      "\u001b[0;32m~/miniconda3/envs/Citi/lib/python3.8/json/encoder.py\u001b[0m in \u001b[0;36mdefault\u001b[0;34m(self, o)\u001b[0m\n\u001b[1;32m    177\u001b[0m \u001b[0;34m\u001b[0m\u001b[0m\n\u001b[1;32m    178\u001b[0m         \"\"\"\n\u001b[0;32m--> 179\u001b[0;31m         raise TypeError(f'Object of type {o.__class__.__name__} '\n\u001b[0m\u001b[1;32m    180\u001b[0m                         f'is not JSON serializable')\n\u001b[1;32m    181\u001b[0m \u001b[0;34m\u001b[0m\u001b[0m\n",
      "\u001b[0;31mTypeError\u001b[0m: Object of type DictProxy is not JSON serializable"
     ]
    }
   ],
   "source": [
    "num_procs = cpu_count()-1\n",
    "chunk = 1\n",
    "print('Number of proccesses:', num_procs)\n",
    "procs = list()\n",
    "manager = Manager()\n",
    "strategy_rewards = manager.dict()\n",
    "\n",
    "print('Creating pool')\n",
    "\n",
    "pool = Pool(processes=num_procs)\n",
    "\n",
    "print('Starting processing')\n",
    "\n",
    "for _ in tqdm(pool.imap_unordered(imap_sniper, all_lists, chunksize=chunk), total=len(all_lists)//chunk):\n",
    "    pass\n",
    "\n",
    "strategy_rewards = dict(strategy_rewards)\n",
    "with open('selective_sniper.json', 'w') as file:\n",
    "    json.dump(strategy_rewards, file)"
   ]
  },
  {
   "cell_type": "code",
   "execution_count": null,
   "id": "1bd601f6",
   "metadata": {},
   "outputs": [],
   "source": [
    "try:\n",
    "    strategy_rewards\n",
    "except NameError:\n",
    "    import json\n",
    "    with open('selective_sniper.json') as file:\n",
    "        strategy_rewards = json.load(file)"
   ]
  },
  {
   "cell_type": "code",
   "execution_count": 16,
   "id": "19f737d7",
   "metadata": {},
   "outputs": [
    {
     "data": {
      "text/plain": [
       "{\"(['122', '111'], ['401', '400'])\": 29.974609132586686,\n",
       " \"(['122', '111'], ['401'])\": 29.876032265813926,\n",
       " \"(['122', '111'], ['401', '400', '210'])\": 25.864675251198758,\n",
       " \"(['122', '111', '502'], ['401', '400'])\": 24.786415304914396,\n",
       " \"(['122', '111', '502'], ['401'])\": 24.6158441883519,\n",
       " \"(['122', '111', '502', '402', '412', '121'], ['401'])\": 23.081572279289436,\n",
       " \"(['122', '111', '502', '402', '412', '121'], ['401', '400'])\": 22.98482327201328,\n",
       " \"(['122', '111', '502', '402'], ['401'])\": 21.991270515708475,\n",
       " \"(['122', '111', '502', '402'], ['401', '400'])\": 21.95988320427346,\n",
       " \"(['122', '111', '502', '402', '412'], ['401'])\": 19.161891013775467,\n",
       " \"(['122', '111', '502', '402', '412'], ['401', '400'])\": 19.13620133753137,\n",
       " \"(['122', '111'], ['401', '400', '210', '110'])\": 17.687100060232495,\n",
       " \"(['122', '111'], ['401', '400', '210', '110', '211'])\": 17.100378021771615,\n",
       " \"(['122', '111', '502'], ['401', '400', '210'])\": 16.274406914803045,\n",
       " \"(['122', '111', '502', '402'], ['401', '400', '210'])\": 11.41794739559723,\n",
       " \"(['122'], ['401'])\": 10.936610302981654,\n",
       " \"(['122'], ['401', '400'])\": 10.936610302981654,\n",
       " \"(['122', '111', '502', '402', '412', '121'], ['401', '400', '210'])\": 9.609474057949559,\n",
       " \"(['122'], ['401', '400', '210'])\": 8.552965896144906,\n",
       " \"(['122', '111'], ['401', '400', '210', '110', '211', '121'])\": 7.781999046222211,\n",
       " \"(['122', '111', '502'], ['401', '400', '210', '110'])\": 6.345206607473273,\n",
       " \"(['122', '111', '502', '402', '412'], ['401', '400', '210'])\": 5.612976836798618,\n",
       " \"(['122'], ['401', '400', '210', '110'])\": 5.422023518455342,\n",
       " \"(['122'], ['401', '400', '210', '110', '211'])\": 5.316815448231699,\n",
       " \"(['122', '111', '502'], ['401', '400', '210', '110', '211'])\": 3.007800959353591,\n",
       " \"(['122', '111', '502', '402'], ['401', '400', '210', '110'])\": 2.733047600358924,\n",
       " \"(['122', '111', '502', '402', '412', '121'], ['401', '400', '210', '110'])\": 1.6998913179824797,\n",
       " \"(['122'], ['401', '400', '210', '110', '211', '121'])\": 1.180691714835291,\n",
       " \"(['122', '111', '502', '402'], ['401', '400', '210', '110', '211'])\": -1.8138861484148208,\n",
       " \"(['122', '111', '502', '402', '412', '121'], ['401', '400', '210', '110', '211', '121'])\": -2.426258157941203,\n",
       " \"(['122', '111', '502', '402', '412', '121'], ['401', '400', '210', '110', '211'])\": -2.426258157941203,\n",
       " \"(['122', '111', '502', '402', '412'], ['401', '400', '210', '110'])\": -4.701668373606322,\n",
       " \"(['122', '111', '502'], ['401', '400', '210', '110', '211', '121'])\": -8.737898398587499,\n",
       " \"(['122', '111', '502', '402', '412'], ['401', '400', '210', '110', '211'])\": -10.414863660914978,\n",
       " \"(['122', '111', '502', '402'], ['401', '400', '210', '110', '211', '121'])\": -13.9959999909251,\n",
       " \"(['122', '111', '502', '402', '412'], ['401', '400', '210', '110', '211', '121'])\": -26.1086989739786}"
      ]
     },
     "execution_count": 16,
     "metadata": {},
     "output_type": "execute_result"
    }
   ],
   "source": [
    "{k: v for k, v in sorted(strategy_rewards.items(), key=lambda item: -item[1])}"
   ]
  }
 ],
 "metadata": {
  "kernelspec": {
   "display_name": "Python 3 (ipykernel)",
   "language": "python",
   "name": "python3"
  },
  "language_info": {
   "codemirror_mode": {
    "name": "ipython",
    "version": 3
   },
   "file_extension": ".py",
   "mimetype": "text/x-python",
   "name": "python",
   "nbconvert_exporter": "python",
   "pygments_lexer": "ipython3",
   "version": "3.8.11"
  }
 },
 "nbformat": 4,
 "nbformat_minor": 5
}
