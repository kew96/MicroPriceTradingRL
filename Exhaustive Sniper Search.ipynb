{
 "cells": [
  {
   "cell_type": "code",
   "execution_count": 1,
   "id": "50be8b89",
   "metadata": {},
   "outputs": [],
   "source": [
    "import json\n",
    "\n",
    "from multiprocessing import cpu_count, Manager, Pool\n",
    "\n",
    "import numpy as np\n",
    "import pandas as pd\n",
    "from tqdm.auto import trange, tqdm\n",
    "from matplotlib import pyplot as plt\n",
    "\n",
    "# Disables no GPU warning\n",
    "# Comment out to see warning or use GPU\n",
    "import jax\n",
    "jax.config.update('jax_platform_name', 'cpu')\n",
    "\n",
    "from environment import Env"
   ]
  },
  {
   "cell_type": "code",
   "execution_count": 2,
   "id": "bef65aab",
   "metadata": {},
   "outputs": [],
   "source": [
    "data = pd.read_csv(\"SH_SDS_data_4.csv\", index_col=0)\n",
    "data.current_state = [('000'+str(cs))[-3:] for cs in data.current_state]\n",
    "prob = pd.read_csv(\"SH_SDS_transition_matrix.csv\", index_col=0)\n",
    "prob.index = [('000'+str(idx))[-3:] for idx in prob.index]\n",
    "\n",
    "with open('sniper_pairs.json') as json_file:\n",
    "    strategy_rewards = json.load(json_file)\n",
    "\n",
    "ordered_rewards = {k: np.mean(v) for k, v in sorted(strategy_rewards.items(), key=lambda item: -np.mean(item[1]))}"
   ]
  },
  {
   "cell_type": "code",
   "execution_count": 3,
   "id": "1b528146",
   "metadata": {},
   "outputs": [
    {
     "name": "stdout",
     "output_type": "stream",
     "text": [
      "['122', '111', '502', '402', '412', '400', '112', '120', '121', '221', '310', '210', '200', '311', '312', '411']\n",
      "['401', '400', '210', '110', '211', '411', '121', '412', '502', '301', '212', '310', '300', '020', '010', '402']\n"
     ]
    }
   ],
   "source": [
    "entries = 16\n",
    "\n",
    "top_ten_long = list()\n",
    "for key in list(ordered_rewards.keys()):\n",
    "    if len(top_ten_long) == entries//2:\n",
    "        break\n",
    "    elif key[2:5] not in top_ten_long:\n",
    "        top_ten_long.append(key[2:5])\n",
    "    \n",
    "for key in list(ordered_rewards.keys())[::-1]:\n",
    "    if len(top_ten_long) == entries:\n",
    "        break\n",
    "    elif key[9:12] not in top_ten_long:\n",
    "        top_ten_long.append(key[9:12])\n",
    "    \n",
    "bottom_ten_short = list()\n",
    "for key in list(ordered_rewards.keys()):\n",
    "    if len(bottom_ten_short) == entries//2:\n",
    "        break\n",
    "    elif key[9:12] not in bottom_ten_short:\n",
    "        bottom_ten_short.append(key[9:12])\n",
    "    \n",
    "for key in list(ordered_rewards.keys())[::-1]:\n",
    "    if len(bottom_ten_short) == entries:\n",
    "        break\n",
    "    elif key[2:5] not in bottom_ten_short:\n",
    "        bottom_ten_short.append(key[2:5])\n",
    "        \n",
    "print(top_ten_long)\n",
    "print(bottom_ten_short)"
   ]
  },
  {
   "cell_type": "code",
   "execution_count": 4,
   "id": "04e3ffd2",
   "metadata": {},
   "outputs": [
    {
     "name": "stdout",
     "output_type": "stream",
     "text": [
      "['122', '111', '112', '120', '221', '210', '200', '311', '312']\n",
      "['401', '210', '110', '211', '301', '212', '300', '020', '010']\n"
     ]
    }
   ],
   "source": [
    "for val in top_ten_long:\n",
    "    if val in bottom_ten_short:\n",
    "        top_ten_long.remove(val)\n",
    "        bottom_ten_short.remove(val)\n",
    "        \n",
    "for val in bottom_ten_short:\n",
    "    if val in top_ten_long:\n",
    "        top_ten_long.remove(val)\n",
    "        bottom_ten_short.remove(val)\n",
    "        \n",
    "print(top_ten_long)\n",
    "print(bottom_ten_short)"
   ]
  },
  {
   "cell_type": "code",
   "execution_count": 5,
   "id": "3cf96b58",
   "metadata": {},
   "outputs": [],
   "source": [
    "all_lists = list()\n",
    "for len1 in range(1, 7):\n",
    "    long_states = top_ten_long[:len1]\n",
    "    for len2 in range(1, 7):\n",
    "        short_states = bottom_ten_short[:len2]\n",
    "        all_lists.append((long_states, short_states))"
   ]
  },
  {
   "cell_type": "code",
   "execution_count": 6,
   "id": "5a4c48da",
   "metadata": {},
   "outputs": [],
   "source": [
    "def sniper_list(states_1, states_2, env, start_state):\n",
    "    state = start_state\n",
    "    done = False\n",
    "    all_rewards = list()\n",
    "    while not done:\n",
    "        if int(state[0].item()) in states_1:\n",
    "            state, reward, done, _ = env.step(0)\n",
    "        elif int(state[0].item()) in states_2:\n",
    "            state, reward, done, _ = env.step(1)\n",
    "        else:\n",
    "            state, reward, done, _ = env.step(2)\n",
    "        all_rewards.append(reward)\n",
    "    return all_rewards"
   ]
  },
  {
   "cell_type": "code",
   "execution_count": 7,
   "id": "6cbc3b64",
   "metadata": {},
   "outputs": [],
   "source": [
    "def imap_sniper_list(list_of_input_tuples):\n",
    "    env = Env(data, prob, steps=2000)\n",
    "    mappings = env.mapping\n",
    "    \n",
    "    long = [mappings[s] for s in list_of_input_tuples[0]]\n",
    "    short = [mappings[s] for s in list_of_input_tuples[1]]\n",
    "    rewards = list()\n",
    "    for _ in trange(10, leave=False, position=1):\n",
    "        rewards.append(sniper_list(long, short, env, env.reset()))\n",
    "    \n",
    "    final = np.array(rewards)\n",
    "    \n",
    "    strategy_rewards[str(list_of_input_tuples)] = final[:, -1].mean()"
   ]
  },
  {
   "cell_type": "code",
   "execution_count": 8,
   "id": "87970c5a",
   "metadata": {},
   "outputs": [
    {
     "name": "stdout",
     "output_type": "stream",
     "text": [
      "Number of processes: 15\n",
      "Creating pool\n",
      "Start processing\n"
     ]
    },
    {
     "data": {
      "application/vnd.jupyter.widget-view+json": {
       "model_id": "443386ddbbb2410d8639fd2acb402b2f",
       "version_major": 2,
       "version_minor": 0
      },
      "text/plain": [
       "HBox(children=(FloatProgress(value=0.0, max=36.0), HTML(value='')))"
      ]
     },
     "metadata": {},
     "output_type": "display_data"
    },
    {
     "name": "stderr",
     "output_type": "stream",
     "text": [
      "WARNING:absl:No GPU/TPU found, falling back to CPU. (Set TF_CPP_MIN_LOG_LEVEL=0 and rerun for more info.)\n",
      "WARNING:absl:No GPU/TPU found, falling back to CPU. (Set TF_CPP_MIN_LOG_LEVEL=0 and rerun for more info.)\n",
      "WARNING:absl:No GPU/TPU found, falling back to CPU. (Set TF_CPP_MIN_LOG_LEVEL=0 and rerun for more info.)\n",
      "WARNING:absl:No GPU/TPU found, falling back to CPU. (Set TF_CPP_MIN_LOG_LEVEL=0 and rerun for more info.)\n",
      "WARNING:absl:No GPU/TPU found, falling back to CPU. (Set TF_CPP_MIN_LOG_LEVEL=0 and rerun for more info.)\n",
      "WARNING:absl:No GPU/TPU found, falling back to CPU. (Set TF_CPP_MIN_LOG_LEVEL=0 and rerun for more info.)\n",
      "WARNING:absl:No GPU/TPU found, falling back to CPU. (Set TF_CPP_MIN_LOG_LEVEL=0 and rerun for more info.)\n",
      "WARNING:absl:No GPU/TPU found, falling back to CPU. (Set TF_CPP_MIN_LOG_LEVEL=0 and rerun for more info.)\n",
      "WARNING:absl:No GPU/TPU found, falling back to CPU. (Set TF_CPP_MIN_LOG_LEVEL=0 and rerun for more info.)\n",
      "WARNING:absl:No GPU/TPU found, falling back to CPU. (Set TF_CPP_MIN_LOG_LEVEL=0 and rerun for more info.)\n",
      "WARNING:absl:No GPU/TPU found, falling back to CPU. (Set TF_CPP_MIN_LOG_LEVEL=0 and rerun for more info.)\n",
      "WARNING:absl:No GPU/TPU found, falling back to CPU. (Set TF_CPP_MIN_LOG_LEVEL=0 and rerun for more info.)\n",
      "WARNING:absl:No GPU/TPU found, falling back to CPU. (Set TF_CPP_MIN_LOG_LEVEL=0 and rerun for more info.)\n",
      "WARNING:absl:No GPU/TPU found, falling back to CPU. (Set TF_CPP_MIN_LOG_LEVEL=0 and rerun for more info.)\n",
      "WARNING:absl:No GPU/TPU found, falling back to CPU. (Set TF_CPP_MIN_LOG_LEVEL=0 and rerun for more info.)\n"
     ]
    },
    {
     "data": {
      "application/vnd.jupyter.widget-view+json": {
       "model_id": "",
       "version_major": 2,
       "version_minor": 0
      },
      "text/plain": [
       "HBox(children=(FloatProgress(value=0.0, max=10.0), HTML(value='')))"
      ]
     },
     "metadata": {},
     "output_type": "display_data"
    },
    {
     "data": {
      "application/vnd.jupyter.widget-view+json": {
       "model_id": "",
       "version_major": 2,
       "version_minor": 0
      },
      "text/plain": [
       "HBox(children=(FloatProgress(value=0.0, max=10.0), HTML(value='')))"
      ]
     },
     "metadata": {},
     "output_type": "display_data"
    },
    {
     "data": {
      "application/vnd.jupyter.widget-view+json": {
       "model_id": "",
       "version_major": 2,
       "version_minor": 0
      },
      "text/plain": [
       "HBox(children=(FloatProgress(value=0.0, max=10.0), HTML(value='')))"
      ]
     },
     "metadata": {},
     "output_type": "display_data"
    },
    {
     "data": {
      "application/vnd.jupyter.widget-view+json": {
       "model_id": "",
       "version_major": 2,
       "version_minor": 0
      },
      "text/plain": [
       "HBox(children=(FloatProgress(value=0.0, max=10.0), HTML(value='')))"
      ]
     },
     "metadata": {},
     "output_type": "display_data"
    },
    {
     "data": {
      "application/vnd.jupyter.widget-view+json": {
       "model_id": "",
       "version_major": 2,
       "version_minor": 0
      },
      "text/plain": [
       "HBox(children=(FloatProgress(value=0.0, max=10.0), HTML(value='')))"
      ]
     },
     "metadata": {},
     "output_type": "display_data"
    },
    {
     "data": {
      "application/vnd.jupyter.widget-view+json": {
       "model_id": "",
       "version_major": 2,
       "version_minor": 0
      },
      "text/plain": [
       "HBox(children=(FloatProgress(value=0.0, max=10.0), HTML(value='')))"
      ]
     },
     "metadata": {},
     "output_type": "display_data"
    },
    {
     "data": {
      "application/vnd.jupyter.widget-view+json": {
       "model_id": "",
       "version_major": 2,
       "version_minor": 0
      },
      "text/plain": [
       "HBox(children=(FloatProgress(value=0.0, max=10.0), HTML(value='')))"
      ]
     },
     "metadata": {},
     "output_type": "display_data"
    },
    {
     "data": {
      "application/vnd.jupyter.widget-view+json": {
       "model_id": "",
       "version_major": 2,
       "version_minor": 0
      },
      "text/plain": [
       "HBox(children=(FloatProgress(value=0.0, max=10.0), HTML(value='')))"
      ]
     },
     "metadata": {},
     "output_type": "display_data"
    },
    {
     "data": {
      "application/vnd.jupyter.widget-view+json": {
       "model_id": "",
       "version_major": 2,
       "version_minor": 0
      },
      "text/plain": [
       "HBox(children=(FloatProgress(value=0.0, max=10.0), HTML(value='')))"
      ]
     },
     "metadata": {},
     "output_type": "display_data"
    },
    {
     "data": {
      "application/vnd.jupyter.widget-view+json": {
       "model_id": "",
       "version_major": 2,
       "version_minor": 0
      },
      "text/plain": [
       "HBox(children=(FloatProgress(value=0.0, max=10.0), HTML(value='')))"
      ]
     },
     "metadata": {},
     "output_type": "display_data"
    },
    {
     "data": {
      "application/vnd.jupyter.widget-view+json": {
       "model_id": "",
       "version_major": 2,
       "version_minor": 0
      },
      "text/plain": [
       "HBox(children=(FloatProgress(value=0.0, max=10.0), HTML(value='')))"
      ]
     },
     "metadata": {},
     "output_type": "display_data"
    },
    {
     "data": {
      "application/vnd.jupyter.widget-view+json": {
       "model_id": "",
       "version_major": 2,
       "version_minor": 0
      },
      "text/plain": [
       "HBox(children=(FloatProgress(value=0.0, max=10.0), HTML(value='')))"
      ]
     },
     "metadata": {},
     "output_type": "display_data"
    },
    {
     "data": {
      "application/vnd.jupyter.widget-view+json": {
       "model_id": "",
       "version_major": 2,
       "version_minor": 0
      },
      "text/plain": [
       "HBox(children=(FloatProgress(value=0.0, max=10.0), HTML(value='')))"
      ]
     },
     "metadata": {},
     "output_type": "display_data"
    },
    {
     "data": {
      "application/vnd.jupyter.widget-view+json": {
       "model_id": "",
       "version_major": 2,
       "version_minor": 0
      },
      "text/plain": [
       "HBox(children=(FloatProgress(value=0.0, max=10.0), HTML(value='')))"
      ]
     },
     "metadata": {},
     "output_type": "display_data"
    },
    {
     "data": {
      "application/vnd.jupyter.widget-view+json": {
       "model_id": "",
       "version_major": 2,
       "version_minor": 0
      },
      "text/plain": [
       "HBox(children=(FloatProgress(value=0.0, max=10.0), HTML(value='')))"
      ]
     },
     "metadata": {},
     "output_type": "display_data"
    },
    {
     "data": {
      "application/vnd.jupyter.widget-view+json": {
       "model_id": "",
       "version_major": 2,
       "version_minor": 0
      },
      "text/plain": [
       "HBox(children=(FloatProgress(value=0.0, max=10.0), HTML(value='')))"
      ]
     },
     "metadata": {},
     "output_type": "display_data"
    },
    {
     "data": {
      "application/vnd.jupyter.widget-view+json": {
       "model_id": "",
       "version_major": 2,
       "version_minor": 0
      },
      "text/plain": [
       "HBox(children=(FloatProgress(value=0.0, max=10.0), HTML(value='')))"
      ]
     },
     "metadata": {},
     "output_type": "display_data"
    },
    {
     "data": {
      "application/vnd.jupyter.widget-view+json": {
       "model_id": "",
       "version_major": 2,
       "version_minor": 0
      },
      "text/plain": [
       "HBox(children=(FloatProgress(value=0.0, max=10.0), HTML(value='')))"
      ]
     },
     "metadata": {},
     "output_type": "display_data"
    },
    {
     "data": {
      "application/vnd.jupyter.widget-view+json": {
       "model_id": "",
       "version_major": 2,
       "version_minor": 0
      },
      "text/plain": [
       "HBox(children=(FloatProgress(value=0.0, max=10.0), HTML(value='')))"
      ]
     },
     "metadata": {},
     "output_type": "display_data"
    },
    {
     "data": {
      "application/vnd.jupyter.widget-view+json": {
       "model_id": "",
       "version_major": 2,
       "version_minor": 0
      },
      "text/plain": [
       "HBox(children=(FloatProgress(value=0.0, max=10.0), HTML(value='')))"
      ]
     },
     "metadata": {},
     "output_type": "display_data"
    },
    {
     "data": {
      "application/vnd.jupyter.widget-view+json": {
       "model_id": "",
       "version_major": 2,
       "version_minor": 0
      },
      "text/plain": [
       "HBox(children=(FloatProgress(value=0.0, max=10.0), HTML(value='')))"
      ]
     },
     "metadata": {},
     "output_type": "display_data"
    },
    {
     "name": "stdout",
     "output_type": "stream",
     "text": [
      "\n"
     ]
    }
   ],
   "source": [
    "num_procs = cpu_count()-1\n",
    "chunk = 1\n",
    "print('Number of processes:', num_procs)\n",
    "\n",
    "procs = list()\n",
    "manager = Manager()\n",
    "strategy_rewards = manager.dict()\n",
    "\n",
    "print('Creating pool')\n",
    "pool = Pool(processes=num_procs)\n",
    "\n",
    "print('Start processing')\n",
    "for _ in tqdm(pool.imap_unordered(imap_sniper_list, all_lists, chunksize=chunk), total=len(all_lists)//chunk):\n",
    "    pass\n",
    "\n",
    "strategy_rewards = dict(strategy_rewards)\n",
    "with open('selective_sniper.json', 'w') as file:\n",
    "    json.dump(strategy_rewards, file)"
   ]
  },
  {
   "cell_type": "code",
   "execution_count": 9,
   "id": "1bd601f6",
   "metadata": {},
   "outputs": [],
   "source": [
    "try:\n",
    "    strategy_rewards\n",
    "except NameError:\n",
    "    import json\n",
    "    with open('selective_sniper.json') as file:\n",
    "        strategy_rewards = json.load(file)"
   ]
  },
  {
   "cell_type": "code",
   "execution_count": 10,
   "id": "19f737d7",
   "metadata": {},
   "outputs": [
    {
     "data": {
      "text/plain": [
       "{\"(['122', '111', '112', '120', '221', '210'], ['401'])\": 33.111564672819085,\n",
       " \"(['122', '111', '112', '120', '221', '210'], ['401', '210'])\": 33.111564672819085,\n",
       " \"(['122', '111', '112', '120', '221'], ['401'])\": 32.894692980558354,\n",
       " \"(['122', '111', '112', '120'], ['401'])\": 31.330164300750123,\n",
       " \"(['122', '111', '112', '120', '221', '210'], ['401', '210', '110', '211', '301', '212'])\": 28.974188931609394,\n",
       " \"(['122', '111', '112', '120', '221', '210'], ['401', '210', '110', '211', '301'])\": 28.934693074742547,\n",
       " \"(['122', '111', '112', '120', '221'], ['401', '210'])\": 26.776223965081453,\n",
       " \"(['122', '111', '112', '120'], ['401', '210'])\": 26.44736883735852,\n",
       " \"(['122', '111', '112', '120', '221', '210'], ['401', '210', '110'])\": 26.346161790979664,\n",
       " \"(['122', '111'], ['401'])\": 25.57925792033755,\n",
       " \"(['122', '111', '112'], ['401'])\": 25.57925792033755,\n",
       " \"(['122', '111', '112', '120', '221', '210'], ['401', '210', '110', '211'])\": 25.1075768246358,\n",
       " \"(['122', '111', '112', '120', '221'], ['401', '210', '110', '211', '301', '212'])\": 24.672159205670916,\n",
       " \"(['122', '111', '112', '120', '221'], ['401', '210', '110', '211', '301'])\": 24.552108830676367,\n",
       " \"(['122', '111', '112', '120'], ['401', '210', '110', '211', '301'])\": 23.416685972682778,\n",
       " \"(['122', '111', '112', '120'], ['401', '210', '110', '211', '301', '212'])\": 23.416685972682778,\n",
       " \"(['122', '111', '112'], ['401', '210'])\": 22.579910732989998,\n",
       " \"(['122', '111'], ['401', '210'])\": 22.579910732989998,\n",
       " \"(['122', '111', '112', '120', '221'], ['401', '210', '110'])\": 20.86457183547007,\n",
       " \"(['122', '111', '112', '120'], ['401', '210', '110'])\": 20.819664170187792,\n",
       " \"(['122', '111', '112', '120', '221'], ['401', '210', '110', '211'])\": 20.81361115128602,\n",
       " \"(['122', '111', '112', '120'], ['401', '210', '110', '211'])\": 20.34974195002831,\n",
       " \"(['122', '111', '112'], ['401', '210', '110', '211', '301', '212'])\": 19.073839129427757,\n",
       " \"(['122', '111', '112'], ['401', '210', '110', '211', '301'])\": 19.073839129427757,\n",
       " \"(['122', '111'], ['401', '210', '110', '211', '301'])\": 17.741459114075532,\n",
       " \"(['122', '111'], ['401', '210', '110', '211', '301', '212'])\": 17.741459114075532,\n",
       " \"(['122', '111', '112'], ['401', '210', '110', '211'])\": 16.613560314940493,\n",
       " \"(['122', '111'], ['401', '210', '110'])\": 15.821086978902633,\n",
       " \"(['122', '111', '112'], ['401', '210', '110'])\": 15.821086978902633,\n",
       " \"(['122', '111'], ['401', '210', '110', '211'])\": 15.577249211292383,\n",
       " \"(['122'], ['401'])\": 8.893755546963803,\n",
       " \"(['122'], ['401', '210'])\": 7.681464827625047,\n",
       " \"(['122'], ['401', '210', '110', '211', '301'])\": 5.9314387311850565,\n",
       " \"(['122'], ['401', '210', '110', '211', '301', '212'])\": 5.9314387311850565,\n",
       " \"(['122'], ['401', '210', '110', '211'])\": 5.587566581951956,\n",
       " \"(['122'], ['401', '210', '110'])\": 5.401650098799934}"
      ]
     },
     "execution_count": 10,
     "metadata": {},
     "output_type": "execute_result"
    }
   ],
   "source": [
    "{k: v for k, v in sorted(strategy_rewards.items(), key=lambda item: -item[1])}"
   ]
  }
 ],
 "metadata": {
  "kernelspec": {
   "display_name": "Python 3 (ipykernel)",
   "language": "python",
   "name": "python3"
  },
  "language_info": {
   "codemirror_mode": {
    "name": "ipython",
    "version": 3
   },
   "file_extension": ".py",
   "mimetype": "text/x-python",
   "name": "python",
   "nbconvert_exporter": "python",
   "pygments_lexer": "ipython3",
   "version": "3.8.11"
  }
 },
 "nbformat": 4,
 "nbformat_minor": 5
}
