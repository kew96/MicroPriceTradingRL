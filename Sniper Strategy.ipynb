{
 "cells": [
  {
   "cell_type": "code",
   "execution_count": 10,
   "id": "b788e94f",
   "metadata": {},
   "outputs": [],
   "source": [
    "from queue import Queue\n",
    "from threading import Thread\n",
    "from itertools import permutations\n",
    "\n",
    "import numpy as np\n",
    "import pandas as pd\n",
    "from tqdm.auto import tqdm\n",
    "from matplotlib import pyplot as plt\n",
    "\n",
    "from environment import Env"
   ]
  },
  {
   "cell_type": "code",
   "execution_count": 3,
   "id": "830122aa",
   "metadata": {},
   "outputs": [],
   "source": [
    "data = pd.read_csv(\"SH_SDS_data_4.csv\", index_col=0)\n",
    "data.current_state = [('000'+str(cs))[-3:] for cs in data.current_state]\n",
    "prob = pd.read_csv(\"SH_SDS_transition_matrix.csv\", index_col=0)\n",
    "prob.index = [('000'+str(idx))[-3:] for idx in prob.index]"
   ]
  },
  {
   "cell_type": "code",
   "execution_count": 4,
   "id": "3d0aa793",
   "metadata": {},
   "outputs": [],
   "source": [
    "def sniper(state_1, state_2, env, start_state):\n",
    "    state = start_state\n",
    "    done = False\n",
    "    all_rewards = list()\n",
    "    while not done:\n",
    "        if state[0] == state_1:\n",
    "            state, reward, done, _ = env.step(0)\n",
    "        elif state[0] == state_2:\n",
    "            state, reward, done, _ = env.step(1)\n",
    "        else:\n",
    "            state, reward, done, _ = env.step(2)\n",
    "        all_rewards.append(reward)\n",
    "    return all_rewards"
   ]
  },
  {
   "cell_type": "code",
   "execution_count": 17,
   "id": "65b4abcf",
   "metadata": {},
   "outputs": [],
   "source": [
    "def thread_sniper(pairs, queue):\n",
    "    env = Env(data, prob, 0, [1000, -500], 1000)\n",
    "    start = env.reset()\n",
    "    strategy_rewards = dict()\n",
    "    bad_pairs = list()\n",
    "        \n",
    "    for p1, p2 in pairs:\n",
    "        temp_list = list()\n",
    "        for _ in range(10):\n",
    "            start = env.reset()\n",
    "            try:\n",
    "                temp_list.append(sniper(mappings[p1], mappings[p2], env, start)[-1]) \n",
    "            except KeyError:\n",
    "                bad_pairs.append((p1, p2))\n",
    "        strategy_rewards[(p1, p2)] = temp_list\n",
    "        \n",
    "    queue.put(strategy_rewards)"
   ]
  },
  {
   "cell_type": "code",
   "execution_count": null,
   "id": "037f5fa2",
   "metadata": {},
   "outputs": [],
   "source": [
    "env = Env(data, prob, 0, [1000, -500], 1000)\n",
    "mappings = env.mapping\n",
    "pairs = list(permutations(mappings.keys(), 2))\n",
    "q = Queue()\n",
    "\n",
    "nthreads = 8\n",
    "arg_len = len(pairs) // nthreads\n",
    "\n",
    "threads = list()\n",
    "\n",
    "for i in range(nthreads):\n",
    "    t = Thread(target=thread_sniper, args=(pairs[i*arg_len:(i+1)*arg_len], q))\n",
    "    threads.append(t)\n",
    "\n",
    "for t in threads:\n",
    "    t.start()\n",
    "\n",
    "for t in threads:\n",
    "    t.join()"
   ]
  },
  {
   "cell_type": "code",
   "execution_count": null,
   "id": "b5076540",
   "metadata": {},
   "outputs": [],
   "source": [
    "env = Env(data, prob, base_reward, [1000, -500], 1000)\n",
    "start = env.reset()\n",
    "mappings = env.mapping\n",
    "strategy_rewards = dict()\n",
    "pairs = list(permutations(mappings.keys(), 2))\n",
    "bad_pairs = list()\n",
    "for s1, s2 in tqdm(pairs):\n",
    "    temp_list = list()\n",
    "    for _ in tqdm(range(10), desc=f'({s1}, {s2})', leave=False, position=1):\n",
    "        start = env.reset()\n",
    "        try:\n",
    "            temp_list.append(sniper(mappings[s1], mappings[s2], env, start)[-1]) \n",
    "        except KeyError:\n",
    "            bad_pairs.append((s1, s2))\n",
    "    strategy_rewards[(s1, s2)] = temp_list"
   ]
  },
  {
   "cell_type": "code",
   "execution_count": null,
   "id": "a83f5d6f",
   "metadata": {},
   "outputs": [],
   "source": [
    "len(bad_pairs)"
   ]
  },
  {
   "cell_type": "code",
   "execution_count": null,
   "id": "1c01604a",
   "metadata": {},
   "outputs": [],
   "source": [
    "{k: v for k, v in sorted(strategy_rewards.items(), key=lambda item: -np.mean(item[1]))}"
   ]
  },
  {
   "cell_type": "code",
   "execution_count": null,
   "id": "5df6b72c",
   "metadata": {},
   "outputs": [],
   "source": [
    "{k: v for k, v in sorted(strategy_rewards.items(), key=lambda item: np.mean(item[1]))}"
   ]
  },
  {
   "cell_type": "code",
   "execution_count": null,
   "id": "ac9bf9f8",
   "metadata": {},
   "outputs": [],
   "source": [
    "rewards = []\n",
    "env = Env(data, prob, 0, [1000, -500], 5000)\n",
    "mappings = env.mapping\n",
    "for _ in range(20):\n",
    "    rewards.append(sniper(mappings['121'], mappings['401'], env, env.reset()))"
   ]
  },
  {
   "cell_type": "code",
   "execution_count": null,
   "id": "504050ee",
   "metadata": {},
   "outputs": [],
   "source": [
    "plt.figure(figsize=(15, 10))\n",
    "env = Env(data, prob, 0, [1000, -500], 3000)\n",
    "plt.plot(sniper(mappings['122'], mappings['401'], env, env.reset()))\n",
    "plt.plot(sniper(mappings['401'], mappings['122'], env, env.reset()), 'r-')"
   ]
  }
 ],
 "metadata": {
  "kernelspec": {
   "display_name": "Python 3 (ipykernel)",
   "language": "python",
   "name": "python3"
  },
  "language_info": {
   "codemirror_mode": {
    "name": "ipython",
    "version": 3
   },
   "file_extension": ".py",
   "mimetype": "text/x-python",
   "name": "python",
   "nbconvert_exporter": "python",
   "pygments_lexer": "ipython3",
   "version": "3.8.11"
  }
 },
 "nbformat": 4,
 "nbformat_minor": 5
}
